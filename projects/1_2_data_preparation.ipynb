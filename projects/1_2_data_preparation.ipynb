{
 "cells": [
  {
   "cell_type": "markdown",
   "id": "2cd2ac59",
   "metadata": {
    "deletable": false,
    "editable": false,
    "id": "c81daeeb"
   },
   "source": [
    "# Исследование надежности заемщиков\n"
   ]
  },
  {
   "cell_type": "markdown",
   "id": "2961adcd",
   "metadata": {
    "deletable": false,
    "editable": false,
    "id": "827c20bf"
   },
   "source": [
    "Во второй части проекта вы выполните шаги 3 и 4. Их вручную проверит ревьюер.\n",
    "Чтобы вам не пришлось писать код заново для шагов 1 и 2, мы добавили авторские решения в ячейки с кодом. \n",
    "\n"
   ]
  },
  {
   "cell_type": "markdown",
   "id": "a7452a81",
   "metadata": {
    "deletable": false,
    "editable": false,
    "id": "744d7639"
   },
   "source": [
    "## Откройте таблицу и изучите общую информацию о данных"
   ]
  },
  {
   "cell_type": "markdown",
   "id": "8c3d1380",
   "metadata": {
    "deletable": false,
    "editable": false,
    "id": "e7a14c31"
   },
   "source": [
    "**Задание 1. Импортируйте библиотеку pandas. Считайте данные из csv-файла в датафрейм и сохраните в переменную `data`. Путь к файлу:**\n",
    "\n",
    "`/datasets/data.csv`"
   ]
  },
  {
   "cell_type": "code",
   "execution_count": 1,
   "id": "885204a8",
   "metadata": {
    "deletable": false,
    "id": "7bcf75c9",
    "trusted": false
   },
   "outputs": [],
   "source": [
    "import pandas as pd\n",
    "\n",
    "try:\n",
    "    data = pd.read_csv(\"../data/1_2_data_prep_data.csv\")\n",
    "except:\n",
    "    data = pd.read_csv(\"https://code.s3.yandex.net/datasets/data.csv\")"
   ]
  },
  {
   "cell_type": "markdown",
   "id": "33d3fd9a",
   "metadata": {
    "deletable": false,
    "editable": false,
    "id": "b8038fe3"
   },
   "source": [
    "**Задание 2. Выведите первые 20 строчек датафрейма `data` на экран.**"
   ]
  },
  {
   "cell_type": "code",
   "execution_count": 2,
   "id": "514a4255",
   "metadata": {
    "deletable": false,
    "id": "2a7cab99",
    "outputId": "1a8f3ef2-d323-4ec2-ddf7-89670b5944c4",
    "trusted": false
   },
   "outputs": [
    {
     "data": {
      "application/vnd.microsoft.datawrangler.viewer.v0+json": {
       "columns": [
        {
         "name": "index",
         "rawType": "int64",
         "type": "integer"
        },
        {
         "name": "children",
         "rawType": "int64",
         "type": "integer"
        },
        {
         "name": "days_employed",
         "rawType": "float64",
         "type": "float"
        },
        {
         "name": "dob_years",
         "rawType": "int64",
         "type": "integer"
        },
        {
         "name": "education",
         "rawType": "object",
         "type": "string"
        },
        {
         "name": "education_id",
         "rawType": "int64",
         "type": "integer"
        },
        {
         "name": "family_status",
         "rawType": "object",
         "type": "string"
        },
        {
         "name": "family_status_id",
         "rawType": "int64",
         "type": "integer"
        },
        {
         "name": "gender",
         "rawType": "object",
         "type": "string"
        },
        {
         "name": "income_type",
         "rawType": "object",
         "type": "string"
        },
        {
         "name": "debt",
         "rawType": "int64",
         "type": "integer"
        },
        {
         "name": "total_income",
         "rawType": "float64",
         "type": "float"
        },
        {
         "name": "purpose",
         "rawType": "object",
         "type": "string"
        }
       ],
       "ref": "a0f27382-71af-48e8-a4ca-be4d568be238",
       "rows": [
        [
         "0",
         "1",
         "-8437.673027760233",
         "42",
         "высшее",
         "0",
         "женат / замужем",
         "0",
         "F",
         "сотрудник",
         "0",
         "253875.6394525987",
         "покупка жилья"
        ],
        [
         "1",
         "1",
         "-4024.803753850451",
         "36",
         "среднее",
         "1",
         "женат / замужем",
         "0",
         "F",
         "сотрудник",
         "0",
         "112080.01410244204",
         "приобретение автомобиля"
        ],
        [
         "2",
         "0",
         "-5623.422610230956",
         "33",
         "Среднее",
         "1",
         "женат / замужем",
         "0",
         "M",
         "сотрудник",
         "0",
         "145885.95229686378",
         "покупка жилья"
        ],
        [
         "3",
         "3",
         "-4124.747206540018",
         "32",
         "среднее",
         "1",
         "женат / замужем",
         "0",
         "M",
         "сотрудник",
         "0",
         "267628.5503294142",
         "дополнительное образование"
        ],
        [
         "4",
         "0",
         "340266.07204682194",
         "53",
         "среднее",
         "1",
         "гражданский брак",
         "1",
         "F",
         "пенсионер",
         "0",
         "158616.07787006293",
         "сыграть свадьбу"
        ],
        [
         "5",
         "0",
         "-926.1858308789184",
         "27",
         "высшее",
         "0",
         "гражданский брак",
         "1",
         "M",
         "компаньон",
         "0",
         "255763.56541904988",
         "покупка жилья"
        ],
        [
         "6",
         "0",
         "-2879.202052139952",
         "43",
         "высшее",
         "0",
         "женат / замужем",
         "0",
         "F",
         "компаньон",
         "0",
         "240525.9719203061",
         "операции с жильем"
        ],
        [
         "7",
         "0",
         "-152.7795691752705",
         "50",
         "СРЕДНЕЕ",
         "1",
         "женат / замужем",
         "0",
         "M",
         "сотрудник",
         "0",
         "135823.93419727974",
         "образование"
        ],
        [
         "8",
         "2",
         "-6929.865298973741",
         "35",
         "ВЫСШЕЕ",
         "0",
         "гражданский брак",
         "1",
         "F",
         "сотрудник",
         "0",
         "95856.83242386371",
         "на проведение свадьбы"
        ],
        [
         "9",
         "0",
         "-2188.7564450779378",
         "41",
         "среднее",
         "1",
         "женат / замужем",
         "0",
         "M",
         "сотрудник",
         "0",
         "144425.93827708642",
         "покупка жилья для семьи"
        ],
        [
         "10",
         "2",
         "-4171.483646903305",
         "36",
         "высшее",
         "0",
         "женат / замужем",
         "0",
         "M",
         "компаньон",
         "0",
         "113943.4914603043",
         "покупка недвижимости"
        ],
        [
         "11",
         "0",
         "-792.7018870609315",
         "40",
         "среднее",
         "1",
         "женат / замужем",
         "0",
         "F",
         "сотрудник",
         "0",
         "77069.23427130934",
         "покупка коммерческой недвижимости"
        ],
        [
         "12",
         "0",
         null,
         "65",
         "среднее",
         "1",
         "гражданский брак",
         "1",
         "M",
         "пенсионер",
         "0",
         null,
         "сыграть свадьбу"
        ],
        [
         "13",
         "0",
         "-1846.6419410560736",
         "54",
         "неоконченное высшее",
         "2",
         "женат / замужем",
         "0",
         "F",
         "сотрудник",
         "0",
         "130458.22885695784",
         "приобретение автомобиля"
        ],
        [
         "14",
         "0",
         "-1844.9561821875543",
         "56",
         "высшее",
         "0",
         "гражданский брак",
         "1",
         "F",
         "компаньон",
         "1",
         "165127.9117721805",
         "покупка жилой недвижимости"
        ],
        [
         "15",
         "1",
         "-972.3644189900732",
         "26",
         "среднее",
         "1",
         "женат / замужем",
         "0",
         "F",
         "сотрудник",
         "0",
         "116820.90444993383",
         "строительство собственной недвижимости"
        ],
        [
         "16",
         "0",
         "-1719.9342261530542",
         "35",
         "среднее",
         "1",
         "женат / замужем",
         "0",
         "F",
         "сотрудник",
         "0",
         "289202.7042292056",
         "недвижимость"
        ],
        [
         "17",
         "0",
         "-2369.999720209008",
         "33",
         "высшее",
         "0",
         "гражданский брак",
         "1",
         "M",
         "сотрудник",
         "0",
         "90410.58674466488",
         "строительство недвижимости"
        ],
        [
         "18",
         "0",
         "400281.1369125588",
         "53",
         "среднее",
         "1",
         "вдовец / вдова",
         "2",
         "F",
         "пенсионер",
         "0",
         "56823.7772431838",
         "на покупку подержанного автомобиля"
        ],
        [
         "19",
         "0",
         "-10038.818548915877",
         "48",
         "СРЕДНЕЕ",
         "1",
         "в разводе",
         "3",
         "F",
         "сотрудник",
         "0",
         "242831.107981772",
         "на покупку своего автомобиля"
        ]
       ],
       "shape": {
        "columns": 12,
        "rows": 20
       }
      },
      "text/html": [
       "<div>\n",
       "<style scoped>\n",
       "    .dataframe tbody tr th:only-of-type {\n",
       "        vertical-align: middle;\n",
       "    }\n",
       "\n",
       "    .dataframe tbody tr th {\n",
       "        vertical-align: top;\n",
       "    }\n",
       "\n",
       "    .dataframe thead th {\n",
       "        text-align: right;\n",
       "    }\n",
       "</style>\n",
       "<table border=\"1\" class=\"dataframe\">\n",
       "  <thead>\n",
       "    <tr style=\"text-align: right;\">\n",
       "      <th></th>\n",
       "      <th>children</th>\n",
       "      <th>days_employed</th>\n",
       "      <th>dob_years</th>\n",
       "      <th>education</th>\n",
       "      <th>education_id</th>\n",
       "      <th>family_status</th>\n",
       "      <th>family_status_id</th>\n",
       "      <th>gender</th>\n",
       "      <th>income_type</th>\n",
       "      <th>debt</th>\n",
       "      <th>total_income</th>\n",
       "      <th>purpose</th>\n",
       "    </tr>\n",
       "  </thead>\n",
       "  <tbody>\n",
       "    <tr>\n",
       "      <th>0</th>\n",
       "      <td>1</td>\n",
       "      <td>-8437.673028</td>\n",
       "      <td>42</td>\n",
       "      <td>высшее</td>\n",
       "      <td>0</td>\n",
       "      <td>женат / замужем</td>\n",
       "      <td>0</td>\n",
       "      <td>F</td>\n",
       "      <td>сотрудник</td>\n",
       "      <td>0</td>\n",
       "      <td>253875.639453</td>\n",
       "      <td>покупка жилья</td>\n",
       "    </tr>\n",
       "    <tr>\n",
       "      <th>1</th>\n",
       "      <td>1</td>\n",
       "      <td>-4024.803754</td>\n",
       "      <td>36</td>\n",
       "      <td>среднее</td>\n",
       "      <td>1</td>\n",
       "      <td>женат / замужем</td>\n",
       "      <td>0</td>\n",
       "      <td>F</td>\n",
       "      <td>сотрудник</td>\n",
       "      <td>0</td>\n",
       "      <td>112080.014102</td>\n",
       "      <td>приобретение автомобиля</td>\n",
       "    </tr>\n",
       "    <tr>\n",
       "      <th>2</th>\n",
       "      <td>0</td>\n",
       "      <td>-5623.422610</td>\n",
       "      <td>33</td>\n",
       "      <td>Среднее</td>\n",
       "      <td>1</td>\n",
       "      <td>женат / замужем</td>\n",
       "      <td>0</td>\n",
       "      <td>M</td>\n",
       "      <td>сотрудник</td>\n",
       "      <td>0</td>\n",
       "      <td>145885.952297</td>\n",
       "      <td>покупка жилья</td>\n",
       "    </tr>\n",
       "    <tr>\n",
       "      <th>3</th>\n",
       "      <td>3</td>\n",
       "      <td>-4124.747207</td>\n",
       "      <td>32</td>\n",
       "      <td>среднее</td>\n",
       "      <td>1</td>\n",
       "      <td>женат / замужем</td>\n",
       "      <td>0</td>\n",
       "      <td>M</td>\n",
       "      <td>сотрудник</td>\n",
       "      <td>0</td>\n",
       "      <td>267628.550329</td>\n",
       "      <td>дополнительное образование</td>\n",
       "    </tr>\n",
       "    <tr>\n",
       "      <th>4</th>\n",
       "      <td>0</td>\n",
       "      <td>340266.072047</td>\n",
       "      <td>53</td>\n",
       "      <td>среднее</td>\n",
       "      <td>1</td>\n",
       "      <td>гражданский брак</td>\n",
       "      <td>1</td>\n",
       "      <td>F</td>\n",
       "      <td>пенсионер</td>\n",
       "      <td>0</td>\n",
       "      <td>158616.077870</td>\n",
       "      <td>сыграть свадьбу</td>\n",
       "    </tr>\n",
       "    <tr>\n",
       "      <th>5</th>\n",
       "      <td>0</td>\n",
       "      <td>-926.185831</td>\n",
       "      <td>27</td>\n",
       "      <td>высшее</td>\n",
       "      <td>0</td>\n",
       "      <td>гражданский брак</td>\n",
       "      <td>1</td>\n",
       "      <td>M</td>\n",
       "      <td>компаньон</td>\n",
       "      <td>0</td>\n",
       "      <td>255763.565419</td>\n",
       "      <td>покупка жилья</td>\n",
       "    </tr>\n",
       "    <tr>\n",
       "      <th>6</th>\n",
       "      <td>0</td>\n",
       "      <td>-2879.202052</td>\n",
       "      <td>43</td>\n",
       "      <td>высшее</td>\n",
       "      <td>0</td>\n",
       "      <td>женат / замужем</td>\n",
       "      <td>0</td>\n",
       "      <td>F</td>\n",
       "      <td>компаньон</td>\n",
       "      <td>0</td>\n",
       "      <td>240525.971920</td>\n",
       "      <td>операции с жильем</td>\n",
       "    </tr>\n",
       "    <tr>\n",
       "      <th>7</th>\n",
       "      <td>0</td>\n",
       "      <td>-152.779569</td>\n",
       "      <td>50</td>\n",
       "      <td>СРЕДНЕЕ</td>\n",
       "      <td>1</td>\n",
       "      <td>женат / замужем</td>\n",
       "      <td>0</td>\n",
       "      <td>M</td>\n",
       "      <td>сотрудник</td>\n",
       "      <td>0</td>\n",
       "      <td>135823.934197</td>\n",
       "      <td>образование</td>\n",
       "    </tr>\n",
       "    <tr>\n",
       "      <th>8</th>\n",
       "      <td>2</td>\n",
       "      <td>-6929.865299</td>\n",
       "      <td>35</td>\n",
       "      <td>ВЫСШЕЕ</td>\n",
       "      <td>0</td>\n",
       "      <td>гражданский брак</td>\n",
       "      <td>1</td>\n",
       "      <td>F</td>\n",
       "      <td>сотрудник</td>\n",
       "      <td>0</td>\n",
       "      <td>95856.832424</td>\n",
       "      <td>на проведение свадьбы</td>\n",
       "    </tr>\n",
       "    <tr>\n",
       "      <th>9</th>\n",
       "      <td>0</td>\n",
       "      <td>-2188.756445</td>\n",
       "      <td>41</td>\n",
       "      <td>среднее</td>\n",
       "      <td>1</td>\n",
       "      <td>женат / замужем</td>\n",
       "      <td>0</td>\n",
       "      <td>M</td>\n",
       "      <td>сотрудник</td>\n",
       "      <td>0</td>\n",
       "      <td>144425.938277</td>\n",
       "      <td>покупка жилья для семьи</td>\n",
       "    </tr>\n",
       "    <tr>\n",
       "      <th>10</th>\n",
       "      <td>2</td>\n",
       "      <td>-4171.483647</td>\n",
       "      <td>36</td>\n",
       "      <td>высшее</td>\n",
       "      <td>0</td>\n",
       "      <td>женат / замужем</td>\n",
       "      <td>0</td>\n",
       "      <td>M</td>\n",
       "      <td>компаньон</td>\n",
       "      <td>0</td>\n",
       "      <td>113943.491460</td>\n",
       "      <td>покупка недвижимости</td>\n",
       "    </tr>\n",
       "    <tr>\n",
       "      <th>11</th>\n",
       "      <td>0</td>\n",
       "      <td>-792.701887</td>\n",
       "      <td>40</td>\n",
       "      <td>среднее</td>\n",
       "      <td>1</td>\n",
       "      <td>женат / замужем</td>\n",
       "      <td>0</td>\n",
       "      <td>F</td>\n",
       "      <td>сотрудник</td>\n",
       "      <td>0</td>\n",
       "      <td>77069.234271</td>\n",
       "      <td>покупка коммерческой недвижимости</td>\n",
       "    </tr>\n",
       "    <tr>\n",
       "      <th>12</th>\n",
       "      <td>0</td>\n",
       "      <td>NaN</td>\n",
       "      <td>65</td>\n",
       "      <td>среднее</td>\n",
       "      <td>1</td>\n",
       "      <td>гражданский брак</td>\n",
       "      <td>1</td>\n",
       "      <td>M</td>\n",
       "      <td>пенсионер</td>\n",
       "      <td>0</td>\n",
       "      <td>NaN</td>\n",
       "      <td>сыграть свадьбу</td>\n",
       "    </tr>\n",
       "    <tr>\n",
       "      <th>13</th>\n",
       "      <td>0</td>\n",
       "      <td>-1846.641941</td>\n",
       "      <td>54</td>\n",
       "      <td>неоконченное высшее</td>\n",
       "      <td>2</td>\n",
       "      <td>женат / замужем</td>\n",
       "      <td>0</td>\n",
       "      <td>F</td>\n",
       "      <td>сотрудник</td>\n",
       "      <td>0</td>\n",
       "      <td>130458.228857</td>\n",
       "      <td>приобретение автомобиля</td>\n",
       "    </tr>\n",
       "    <tr>\n",
       "      <th>14</th>\n",
       "      <td>0</td>\n",
       "      <td>-1844.956182</td>\n",
       "      <td>56</td>\n",
       "      <td>высшее</td>\n",
       "      <td>0</td>\n",
       "      <td>гражданский брак</td>\n",
       "      <td>1</td>\n",
       "      <td>F</td>\n",
       "      <td>компаньон</td>\n",
       "      <td>1</td>\n",
       "      <td>165127.911772</td>\n",
       "      <td>покупка жилой недвижимости</td>\n",
       "    </tr>\n",
       "    <tr>\n",
       "      <th>15</th>\n",
       "      <td>1</td>\n",
       "      <td>-972.364419</td>\n",
       "      <td>26</td>\n",
       "      <td>среднее</td>\n",
       "      <td>1</td>\n",
       "      <td>женат / замужем</td>\n",
       "      <td>0</td>\n",
       "      <td>F</td>\n",
       "      <td>сотрудник</td>\n",
       "      <td>0</td>\n",
       "      <td>116820.904450</td>\n",
       "      <td>строительство собственной недвижимости</td>\n",
       "    </tr>\n",
       "    <tr>\n",
       "      <th>16</th>\n",
       "      <td>0</td>\n",
       "      <td>-1719.934226</td>\n",
       "      <td>35</td>\n",
       "      <td>среднее</td>\n",
       "      <td>1</td>\n",
       "      <td>женат / замужем</td>\n",
       "      <td>0</td>\n",
       "      <td>F</td>\n",
       "      <td>сотрудник</td>\n",
       "      <td>0</td>\n",
       "      <td>289202.704229</td>\n",
       "      <td>недвижимость</td>\n",
       "    </tr>\n",
       "    <tr>\n",
       "      <th>17</th>\n",
       "      <td>0</td>\n",
       "      <td>-2369.999720</td>\n",
       "      <td>33</td>\n",
       "      <td>высшее</td>\n",
       "      <td>0</td>\n",
       "      <td>гражданский брак</td>\n",
       "      <td>1</td>\n",
       "      <td>M</td>\n",
       "      <td>сотрудник</td>\n",
       "      <td>0</td>\n",
       "      <td>90410.586745</td>\n",
       "      <td>строительство недвижимости</td>\n",
       "    </tr>\n",
       "    <tr>\n",
       "      <th>18</th>\n",
       "      <td>0</td>\n",
       "      <td>400281.136913</td>\n",
       "      <td>53</td>\n",
       "      <td>среднее</td>\n",
       "      <td>1</td>\n",
       "      <td>вдовец / вдова</td>\n",
       "      <td>2</td>\n",
       "      <td>F</td>\n",
       "      <td>пенсионер</td>\n",
       "      <td>0</td>\n",
       "      <td>56823.777243</td>\n",
       "      <td>на покупку подержанного автомобиля</td>\n",
       "    </tr>\n",
       "    <tr>\n",
       "      <th>19</th>\n",
       "      <td>0</td>\n",
       "      <td>-10038.818549</td>\n",
       "      <td>48</td>\n",
       "      <td>СРЕДНЕЕ</td>\n",
       "      <td>1</td>\n",
       "      <td>в разводе</td>\n",
       "      <td>3</td>\n",
       "      <td>F</td>\n",
       "      <td>сотрудник</td>\n",
       "      <td>0</td>\n",
       "      <td>242831.107982</td>\n",
       "      <td>на покупку своего автомобиля</td>\n",
       "    </tr>\n",
       "  </tbody>\n",
       "</table>\n",
       "</div>"
      ],
      "text/plain": [
       "    children  days_employed  dob_years            education  education_id  \\\n",
       "0          1   -8437.673028         42               высшее             0   \n",
       "1          1   -4024.803754         36              среднее             1   \n",
       "2          0   -5623.422610         33              Среднее             1   \n",
       "3          3   -4124.747207         32              среднее             1   \n",
       "4          0  340266.072047         53              среднее             1   \n",
       "5          0    -926.185831         27               высшее             0   \n",
       "6          0   -2879.202052         43               высшее             0   \n",
       "7          0    -152.779569         50              СРЕДНЕЕ             1   \n",
       "8          2   -6929.865299         35               ВЫСШЕЕ             0   \n",
       "9          0   -2188.756445         41              среднее             1   \n",
       "10         2   -4171.483647         36               высшее             0   \n",
       "11         0    -792.701887         40              среднее             1   \n",
       "12         0            NaN         65              среднее             1   \n",
       "13         0   -1846.641941         54  неоконченное высшее             2   \n",
       "14         0   -1844.956182         56               высшее             0   \n",
       "15         1    -972.364419         26              среднее             1   \n",
       "16         0   -1719.934226         35              среднее             1   \n",
       "17         0   -2369.999720         33               высшее             0   \n",
       "18         0  400281.136913         53              среднее             1   \n",
       "19         0  -10038.818549         48              СРЕДНЕЕ             1   \n",
       "\n",
       "       family_status  family_status_id gender income_type  debt  \\\n",
       "0    женат / замужем                 0      F   сотрудник     0   \n",
       "1    женат / замужем                 0      F   сотрудник     0   \n",
       "2    женат / замужем                 0      M   сотрудник     0   \n",
       "3    женат / замужем                 0      M   сотрудник     0   \n",
       "4   гражданский брак                 1      F   пенсионер     0   \n",
       "5   гражданский брак                 1      M   компаньон     0   \n",
       "6    женат / замужем                 0      F   компаньон     0   \n",
       "7    женат / замужем                 0      M   сотрудник     0   \n",
       "8   гражданский брак                 1      F   сотрудник     0   \n",
       "9    женат / замужем                 0      M   сотрудник     0   \n",
       "10   женат / замужем                 0      M   компаньон     0   \n",
       "11   женат / замужем                 0      F   сотрудник     0   \n",
       "12  гражданский брак                 1      M   пенсионер     0   \n",
       "13   женат / замужем                 0      F   сотрудник     0   \n",
       "14  гражданский брак                 1      F   компаньон     1   \n",
       "15   женат / замужем                 0      F   сотрудник     0   \n",
       "16   женат / замужем                 0      F   сотрудник     0   \n",
       "17  гражданский брак                 1      M   сотрудник     0   \n",
       "18    вдовец / вдова                 2      F   пенсионер     0   \n",
       "19         в разводе                 3      F   сотрудник     0   \n",
       "\n",
       "     total_income                                 purpose  \n",
       "0   253875.639453                           покупка жилья  \n",
       "1   112080.014102                 приобретение автомобиля  \n",
       "2   145885.952297                           покупка жилья  \n",
       "3   267628.550329              дополнительное образование  \n",
       "4   158616.077870                         сыграть свадьбу  \n",
       "5   255763.565419                           покупка жилья  \n",
       "6   240525.971920                       операции с жильем  \n",
       "7   135823.934197                             образование  \n",
       "8    95856.832424                   на проведение свадьбы  \n",
       "9   144425.938277                 покупка жилья для семьи  \n",
       "10  113943.491460                    покупка недвижимости  \n",
       "11   77069.234271       покупка коммерческой недвижимости  \n",
       "12            NaN                         сыграть свадьбу  \n",
       "13  130458.228857                 приобретение автомобиля  \n",
       "14  165127.911772              покупка жилой недвижимости  \n",
       "15  116820.904450  строительство собственной недвижимости  \n",
       "16  289202.704229                            недвижимость  \n",
       "17   90410.586745              строительство недвижимости  \n",
       "18   56823.777243      на покупку подержанного автомобиля  \n",
       "19  242831.107982            на покупку своего автомобиля  "
      ]
     },
     "execution_count": 2,
     "metadata": {},
     "output_type": "execute_result"
    }
   ],
   "source": [
    "data.head(20)"
   ]
  },
  {
   "cell_type": "markdown",
   "id": "227f59ea",
   "metadata": {
    "deletable": false,
    "editable": false,
    "id": "1c12e233"
   },
   "source": [
    "**Задание 3. Выведите основную информацию о датафрейме с помощью метода `info()`.**"
   ]
  },
  {
   "cell_type": "code",
   "execution_count": 3,
   "id": "5a232dcd",
   "metadata": {
    "deletable": false,
    "id": "2b757bca",
    "outputId": "15376089-8dad-46c9-b520-c05248d43158",
    "trusted": false
   },
   "outputs": [
    {
     "name": "stdout",
     "output_type": "stream",
     "text": [
      "<class 'pandas.core.frame.DataFrame'>\n",
      "RangeIndex: 21525 entries, 0 to 21524\n",
      "Data columns (total 12 columns):\n",
      " #   Column            Non-Null Count  Dtype  \n",
      "---  ------            --------------  -----  \n",
      " 0   children          21525 non-null  int64  \n",
      " 1   days_employed     19351 non-null  float64\n",
      " 2   dob_years         21525 non-null  int64  \n",
      " 3   education         21525 non-null  object \n",
      " 4   education_id      21525 non-null  int64  \n",
      " 5   family_status     21525 non-null  object \n",
      " 6   family_status_id  21525 non-null  int64  \n",
      " 7   gender            21525 non-null  object \n",
      " 8   income_type       21525 non-null  object \n",
      " 9   debt              21525 non-null  int64  \n",
      " 10  total_income      19351 non-null  float64\n",
      " 11  purpose           21525 non-null  object \n",
      "dtypes: float64(2), int64(5), object(5)\n",
      "memory usage: 2.0+ MB\n"
     ]
    }
   ],
   "source": [
    "data.info()"
   ]
  },
  {
   "cell_type": "markdown",
   "id": "18359a7a",
   "metadata": {
    "deletable": false,
    "editable": false,
    "id": "333ec665"
   },
   "source": [
    "## Предобработка данных"
   ]
  },
  {
   "cell_type": "markdown",
   "id": "bcd1d5dd",
   "metadata": {
    "deletable": false,
    "editable": false,
    "id": "02d92d53"
   },
   "source": [
    "### Удаление пропусков"
   ]
  },
  {
   "cell_type": "markdown",
   "id": "c396eeb2",
   "metadata": {
    "deletable": false,
    "editable": false,
    "id": "cd84967c"
   },
   "source": [
    "**Задание 4. Выведите количество пропущенных значений для каждого столбца. Используйте комбинацию двух методов.**"
   ]
  },
  {
   "cell_type": "code",
   "execution_count": 4,
   "id": "68e63f62",
   "metadata": {
    "deletable": false,
    "id": "7f9b2309",
    "outputId": "81f4d817-781c-465c-ed15-91ce4446810d",
    "trusted": false
   },
   "outputs": [
    {
     "data": {
      "application/vnd.microsoft.datawrangler.viewer.v0+json": {
       "columns": [
        {
         "name": "index",
         "rawType": "object",
         "type": "string"
        },
        {
         "name": "0",
         "rawType": "int64",
         "type": "integer"
        }
       ],
       "ref": "91c20e6a-5e56-4afd-b230-86fe3a348a76",
       "rows": [
        [
         "children",
         "0"
        ],
        [
         "days_employed",
         "2174"
        ],
        [
         "dob_years",
         "0"
        ],
        [
         "education",
         "0"
        ],
        [
         "education_id",
         "0"
        ],
        [
         "family_status",
         "0"
        ],
        [
         "family_status_id",
         "0"
        ],
        [
         "gender",
         "0"
        ],
        [
         "income_type",
         "0"
        ],
        [
         "debt",
         "0"
        ],
        [
         "total_income",
         "2174"
        ],
        [
         "purpose",
         "0"
        ]
       ],
       "shape": {
        "columns": 1,
        "rows": 12
       }
      },
      "text/plain": [
       "children               0\n",
       "days_employed       2174\n",
       "dob_years              0\n",
       "education              0\n",
       "education_id           0\n",
       "family_status          0\n",
       "family_status_id       0\n",
       "gender                 0\n",
       "income_type            0\n",
       "debt                   0\n",
       "total_income        2174\n",
       "purpose                0\n",
       "dtype: int64"
      ]
     },
     "execution_count": 4,
     "metadata": {},
     "output_type": "execute_result"
    }
   ],
   "source": [
    "data.isna().sum()"
   ]
  },
  {
   "cell_type": "markdown",
   "id": "b9ae1d29",
   "metadata": {
    "deletable": false,
    "editable": false,
    "id": "db86e27b"
   },
   "source": [
    "**Задание 5. В двух столбцах есть пропущенные значения. Один из них — `days_employed`. Пропуски в этом столбце вы обработаете на следующем этапе. Другой столбец с пропущенными значениями — `total_income` — хранит данные о доходах. На сумму дохода сильнее всего влияет тип занятости, поэтому заполнить пропуски в этом столбце нужно медианным значением по каждому типу из столбца `income_type`. Например, у человека с типом занятости `сотрудник` пропуск в столбце `total_income` должен быть заполнен медианным доходом среди всех записей с тем же типом.**"
   ]
  },
  {
   "cell_type": "code",
   "execution_count": 5,
   "id": "7d781b8b",
   "metadata": {
    "deletable": false,
    "id": "42006a93",
    "trusted": false
   },
   "outputs": [],
   "source": [
    "for t in data[\"income_type\"].unique():\n",
    "    data.loc[\n",
    "        (data[\"income_type\"] == t) & (data[\"total_income\"].isna()), \"total_income\"\n",
    "    ] = data.loc[(data[\"income_type\"] == t), \"total_income\"].median()"
   ]
  },
  {
   "cell_type": "markdown",
   "id": "38788b34",
   "metadata": {
    "deletable": false,
    "editable": false,
    "id": "89da5ece"
   },
   "source": [
    "### Обработка аномальных значений"
   ]
  },
  {
   "cell_type": "markdown",
   "id": "cbfbf743",
   "metadata": {
    "deletable": false,
    "editable": false,
    "id": "57964554"
   },
   "source": [
    "**Задание 6. В данных могут встречаться артефакты (аномалии) — значения, которые не отражают действительность и появились по какой-то ошибке. таким артефактом будет отрицательное количество дней трудового стажа в столбце `days_employed`. Для реальных данных это нормально. Обработайте значения в этом столбце: замените все отрицательные значения положительными с помощью метода `abs()`.**"
   ]
  },
  {
   "cell_type": "code",
   "execution_count": 6,
   "id": "3ea3d424",
   "metadata": {
    "deletable": false,
    "id": "f6f055bf",
    "trusted": false
   },
   "outputs": [],
   "source": [
    "data[\"days_employed\"] = data[\"days_employed\"].abs()"
   ]
  },
  {
   "cell_type": "markdown",
   "id": "1970660f",
   "metadata": {
    "deletable": false,
    "editable": false,
    "id": "6107dd2f"
   },
   "source": [
    "**Задание 7. Для каждого типа занятости выведите медианное значение трудового стажа `days_employed` в днях.**"
   ]
  },
  {
   "cell_type": "code",
   "execution_count": 7,
   "id": "1cab88bd",
   "metadata": {
    "deletable": false,
    "id": "85a5faf6",
    "outputId": "801ef80e-522b-4668-f34e-565af7432bcf",
    "trusted": false
   },
   "outputs": [
    {
     "data": {
      "application/vnd.microsoft.datawrangler.viewer.v0+json": {
       "columns": [
        {
         "name": "income_type",
         "rawType": "object",
         "type": "string"
        },
        {
         "name": "days_employed",
         "rawType": "float64",
         "type": "float"
        }
       ],
       "ref": "000008cd-04ef-4acd-9fa0-b322a160442c",
       "rows": [
        [
         "безработный",
         "366413.65274420456"
        ],
        [
         "в декрете",
         "3296.7599620220594"
        ],
        [
         "госслужащий",
         "2689.3683533043886"
        ],
        [
         "компаньон",
         "1547.3822226779334"
        ],
        [
         "пенсионер",
         "365213.3062657312"
        ],
        [
         "предприниматель",
         "520.8480834953765"
        ],
        [
         "сотрудник",
         "1574.2028211070854"
        ],
        [
         "студент",
         "578.7515535382181"
        ]
       ],
       "shape": {
        "columns": 1,
        "rows": 8
       }
      },
      "text/plain": [
       "income_type\n",
       "безработный        366413.652744\n",
       "в декрете            3296.759962\n",
       "госслужащий          2689.368353\n",
       "компаньон            1547.382223\n",
       "пенсионер          365213.306266\n",
       "предприниматель       520.848083\n",
       "сотрудник            1574.202821\n",
       "студент               578.751554\n",
       "Name: days_employed, dtype: float64"
      ]
     },
     "execution_count": 7,
     "metadata": {},
     "output_type": "execute_result"
    }
   ],
   "source": [
    "data.groupby(\"income_type\")[\"days_employed\"].agg(\"median\")"
   ]
  },
  {
   "cell_type": "markdown",
   "id": "e64de15d",
   "metadata": {
    "deletable": false,
    "editable": false,
    "id": "38d1a030"
   },
   "source": [
    "У двух типов (безработные и пенсионеры) получатся аномально большие значения. Исправить такие значения сложно, поэтому оставьте их как есть. Тем более этот столбец не понадобится вам для исследования."
   ]
  },
  {
   "cell_type": "markdown",
   "id": "0499efcf",
   "metadata": {
    "deletable": false,
    "editable": false,
    "id": "d8a9f147"
   },
   "source": [
    "**Задание 8. Выведите перечень уникальных значений столбца `children`.**"
   ]
  },
  {
   "cell_type": "code",
   "execution_count": 8,
   "id": "85dea1b3",
   "metadata": {
    "deletable": false,
    "id": "ef5056eb",
    "outputId": "6975b15c-7f95-4697-d16d-a0c79b657b03",
    "trusted": false
   },
   "outputs": [
    {
     "data": {
      "text/plain": [
       "array([ 1,  0,  3,  2, -1,  4, 20,  5])"
      ]
     },
     "execution_count": 8,
     "metadata": {},
     "output_type": "execute_result"
    }
   ],
   "source": [
    "data[\"children\"].unique()"
   ]
  },
  {
   "cell_type": "markdown",
   "id": "c15bfac5",
   "metadata": {
    "deletable": false,
    "editable": false,
    "id": "40b9ebf2"
   },
   "source": [
    "**Задание 9. В столбце `children` есть два аномальных значения. Удалите строки, в которых встречаются такие аномальные значения из датафрейма `data`.**"
   ]
  },
  {
   "cell_type": "code",
   "execution_count": 9,
   "id": "6ead408d",
   "metadata": {
    "deletable": false,
    "id": "3ff9801d",
    "trusted": false
   },
   "outputs": [],
   "source": [
    "data = data[(data[\"children\"] != -1) & (data[\"children\"] != 20)]"
   ]
  },
  {
   "cell_type": "markdown",
   "id": "ec413424",
   "metadata": {
    "deletable": false,
    "editable": false,
    "id": "bbc4d0ce"
   },
   "source": [
    "**Задание 10. Ещё раз выведите перечень уникальных значений столбца `children`, чтобы убедиться, что артефакты удалены.**"
   ]
  },
  {
   "cell_type": "code",
   "execution_count": 10,
   "id": "a347ff62",
   "metadata": {
    "deletable": false,
    "id": "ad4fa8b7",
    "outputId": "b2097101-d49d-44d9-901b-32a65c9463d1",
    "trusted": false
   },
   "outputs": [
    {
     "data": {
      "text/plain": [
       "array([1, 0, 3, 2, 4, 5])"
      ]
     },
     "execution_count": 10,
     "metadata": {},
     "output_type": "execute_result"
    }
   ],
   "source": [
    "data[\"children\"].unique()"
   ]
  },
  {
   "cell_type": "markdown",
   "id": "2641174d",
   "metadata": {
    "deletable": false,
    "editable": false,
    "id": "75440b63"
   },
   "source": [
    "### Удаление пропусков (продолжение)"
   ]
  },
  {
   "cell_type": "markdown",
   "id": "557fc36f",
   "metadata": {
    "deletable": false,
    "editable": false,
    "id": "f4ea573f"
   },
   "source": [
    "**Задание 11. Заполните пропуски в столбце `days_employed` медианными значениями по каждого типа занятости `income_type`.**"
   ]
  },
  {
   "cell_type": "code",
   "execution_count": 11,
   "id": "964d3aa0",
   "metadata": {
    "deletable": false,
    "id": "af6b1a7e",
    "trusted": false
   },
   "outputs": [],
   "source": [
    "for t in data[\"income_type\"].unique():\n",
    "    data.loc[\n",
    "        (data[\"income_type\"] == t) & (data[\"days_employed\"].isna()), \"days_employed\"\n",
    "    ] = data.loc[(data[\"income_type\"] == t), \"days_employed\"].median()"
   ]
  },
  {
   "cell_type": "markdown",
   "id": "c7db2e03",
   "metadata": {
    "deletable": false,
    "editable": false,
    "id": "2753f40d"
   },
   "source": [
    "**Задание 12. Убедитесь, что все пропуски заполнены. Проверьте себя и ещё раз выведите количество пропущенных значений для каждого столбца с помощью двух методов.**"
   ]
  },
  {
   "cell_type": "code",
   "execution_count": 12,
   "id": "99663ae5",
   "metadata": {
    "deletable": false,
    "id": "55f78bc2",
    "outputId": "8da1e4e1-358e-4e87-98c9-f261bce0a7b2",
    "trusted": false
   },
   "outputs": [
    {
     "data": {
      "application/vnd.microsoft.datawrangler.viewer.v0+json": {
       "columns": [
        {
         "name": "index",
         "rawType": "object",
         "type": "string"
        },
        {
         "name": "0",
         "rawType": "int64",
         "type": "integer"
        }
       ],
       "ref": "c91d30b0-ea91-4577-8eba-4e2bacf85bd6",
       "rows": [
        [
         "children",
         "0"
        ],
        [
         "days_employed",
         "0"
        ],
        [
         "dob_years",
         "0"
        ],
        [
         "education",
         "0"
        ],
        [
         "education_id",
         "0"
        ],
        [
         "family_status",
         "0"
        ],
        [
         "family_status_id",
         "0"
        ],
        [
         "gender",
         "0"
        ],
        [
         "income_type",
         "0"
        ],
        [
         "debt",
         "0"
        ],
        [
         "total_income",
         "0"
        ],
        [
         "purpose",
         "0"
        ]
       ],
       "shape": {
        "columns": 1,
        "rows": 12
       }
      },
      "text/plain": [
       "children            0\n",
       "days_employed       0\n",
       "dob_years           0\n",
       "education           0\n",
       "education_id        0\n",
       "family_status       0\n",
       "family_status_id    0\n",
       "gender              0\n",
       "income_type         0\n",
       "debt                0\n",
       "total_income        0\n",
       "purpose             0\n",
       "dtype: int64"
      ]
     },
     "execution_count": 12,
     "metadata": {},
     "output_type": "execute_result"
    }
   ],
   "source": [
    "data.isna().sum()"
   ]
  },
  {
   "cell_type": "markdown",
   "id": "9486ac3c",
   "metadata": {
    "deletable": false,
    "editable": false,
    "id": "ddc81e43"
   },
   "source": [
    "### Изменение типов данных"
   ]
  },
  {
   "cell_type": "markdown",
   "id": "dd171afc",
   "metadata": {
    "deletable": false,
    "editable": false,
    "id": "42d19d24"
   },
   "source": [
    "**Задание 13. Замените вещественный тип данных в столбце `total_income` на целочисленный с помощью метода `astype()`.**"
   ]
  },
  {
   "cell_type": "code",
   "execution_count": 13,
   "id": "a6d9556d",
   "metadata": {
    "deletable": false,
    "id": "920b65ad",
    "trusted": false
   },
   "outputs": [],
   "source": [
    "data[\"total_income\"] = data[\"total_income\"].astype(int)"
   ]
  },
  {
   "cell_type": "markdown",
   "id": "7aa1da4c",
   "metadata": {
    "deletable": false,
    "editable": false,
    "id": "80c420ba"
   },
   "source": [
    "### Обработка дубликатов"
   ]
  },
  {
   "cell_type": "markdown",
   "id": "fa981ccb",
   "metadata": {
    "deletable": false,
    "editable": false
   },
   "source": [
    "**Задание 14. Обработайте неявные дубликаты в столбце `education`. В этом столбце есть одни и те же значения, но записанные по-разному: с использованием заглавных и строчных букв. Приведите их к нижнему регистру. Проверьте остальные столбцы.**"
   ]
  },
  {
   "cell_type": "code",
   "execution_count": 14,
   "id": "4ed134c3",
   "metadata": {
    "deletable": false,
    "trusted": false
   },
   "outputs": [],
   "source": [
    "data[\"education\"] = data[\"education\"].str.lower()"
   ]
  },
  {
   "cell_type": "markdown",
   "id": "8d1214fe",
   "metadata": {
    "deletable": false,
    "editable": false,
    "id": "dc587695"
   },
   "source": [
    "**Задание 15. Выведите на экран количество строк-дубликатов в данных. Если такие строки присутствуют, удалите их.**"
   ]
  },
  {
   "cell_type": "code",
   "execution_count": 15,
   "id": "1ed47440",
   "metadata": {
    "deletable": false,
    "id": "3ee445e4",
    "outputId": "9684deba-1934-42d1-99e1-cda61740f822",
    "trusted": false
   },
   "outputs": [
    {
     "data": {
      "text/plain": [
       "np.int64(71)"
      ]
     },
     "execution_count": 15,
     "metadata": {},
     "output_type": "execute_result"
    }
   ],
   "source": [
    "data.duplicated().sum()"
   ]
  },
  {
   "cell_type": "code",
   "execution_count": 16,
   "id": "24f3f4ff",
   "metadata": {
    "deletable": false,
    "id": "8575fe05",
    "trusted": false
   },
   "outputs": [],
   "source": [
    "data = data.drop_duplicates()"
   ]
  },
  {
   "cell_type": "markdown",
   "id": "15b8150d",
   "metadata": {
    "deletable": false,
    "editable": false,
    "id": "9904cf55"
   },
   "source": [
    "### Категоризация данных"
   ]
  },
  {
   "cell_type": "markdown",
   "id": "370a76ca",
   "metadata": {
    "deletable": false,
    "editable": false,
    "id": "72fcc8a2"
   },
   "source": [
    "**Задание 16. На основании диапазонов, указанных ниже, создайте в датафрейме `data` столбец `total_income_category` с категориями:**\n",
    "\n",
    "- 0–30000 — `'E'`;\n",
    "- 30001–50000 — `'D'`;\n",
    "- 50001–200000 — `'C'`;\n",
    "- 200001–1000000 — `'B'`;\n",
    "- 1000001 и выше — `'A'`.\n",
    "\n",
    "\n",
    "**Например, кредитополучателю с доходом 25000 нужно назначить категорию `'E'`, а клиенту, получающему 235000, — `'B'`. Используйте собственную функцию с именем `categorize_income()` и метод `apply()`.**"
   ]
  },
  {
   "cell_type": "code",
   "execution_count": 17,
   "id": "e2b0201a",
   "metadata": {
    "deletable": false,
    "id": "e1771346",
    "trusted": false
   },
   "outputs": [],
   "source": [
    "def categorize_income(income):\n",
    "    try:\n",
    "        if 0 <= income <= 30000:\n",
    "            return \"E\"\n",
    "        elif 30001 <= income <= 50000:\n",
    "            return \"D\"\n",
    "        elif 50001 <= income <= 200000:\n",
    "            return \"C\"\n",
    "        elif 200001 <= income <= 1000000:\n",
    "            return \"B\"\n",
    "        elif income >= 1000001:\n",
    "            return \"A\"\n",
    "    except:\n",
    "        pass"
   ]
  },
  {
   "cell_type": "code",
   "execution_count": 18,
   "id": "6ce44e7e",
   "metadata": {
    "deletable": false,
    "id": "d5f3586d",
    "trusted": false
   },
   "outputs": [],
   "source": [
    "data[\"total_income_category\"] = data[\"total_income\"].apply(categorize_income)"
   ]
  },
  {
   "cell_type": "markdown",
   "id": "6af3a723",
   "metadata": {
    "deletable": false,
    "editable": false,
    "id": "dde49b5c"
   },
   "source": [
    "**Задание 17. Выведите на экран перечень уникальных целей взятия кредита из столбца `purpose`.**"
   ]
  },
  {
   "cell_type": "code",
   "execution_count": 19,
   "id": "dd33f0eb",
   "metadata": {
    "deletable": false,
    "id": "f67ce9b3",
    "outputId": "673c12d9-7d7e-4ae0-9812-c622c89dd244",
    "trusted": false
   },
   "outputs": [
    {
     "data": {
      "text/plain": [
       "array(['покупка жилья', 'приобретение автомобиля',\n",
       "       'дополнительное образование', 'сыграть свадьбу',\n",
       "       'операции с жильем', 'образование', 'на проведение свадьбы',\n",
       "       'покупка жилья для семьи', 'покупка недвижимости',\n",
       "       'покупка коммерческой недвижимости', 'покупка жилой недвижимости',\n",
       "       'строительство собственной недвижимости', 'недвижимость',\n",
       "       'строительство недвижимости', 'на покупку подержанного автомобиля',\n",
       "       'на покупку своего автомобиля',\n",
       "       'операции с коммерческой недвижимостью',\n",
       "       'строительство жилой недвижимости', 'жилье',\n",
       "       'операции со своей недвижимостью', 'автомобили',\n",
       "       'заняться образованием', 'сделка с подержанным автомобилем',\n",
       "       'получение образования', 'автомобиль', 'свадьба',\n",
       "       'получение дополнительного образования', 'покупка своего жилья',\n",
       "       'операции с недвижимостью', 'получение высшего образования',\n",
       "       'свой автомобиль', 'сделка с автомобилем',\n",
       "       'профильное образование', 'высшее образование',\n",
       "       'покупка жилья для сдачи', 'на покупку автомобиля', 'ремонт жилью',\n",
       "       'заняться высшим образованием'], dtype=object)"
      ]
     },
     "execution_count": 19,
     "metadata": {},
     "output_type": "execute_result"
    }
   ],
   "source": [
    "data[\"purpose\"].unique()"
   ]
  },
  {
   "cell_type": "markdown",
   "id": "2f3a9b9e",
   "metadata": {
    "deletable": false,
    "editable": false,
    "id": "85d0aef0"
   },
   "source": [
    "**Задание 18. Создайте функцию, которая на основании данных из столбца `purpose` сформирует новый столбец `purpose_category`, в который войдут следующие категории:**\n",
    "\n",
    "- `'операции с автомобилем'`,\n",
    "- `'операции с недвижимостью'`,\n",
    "- `'проведение свадьбы'`,\n",
    "- `'получение образования'`.\n",
    "\n",
    "**Например, если в столбце `purpose` находится подстрока `'на покупку автомобиля'`, то в столбце `purpose_category` должна появиться строка `'операции с автомобилем'`.**\n",
    "\n",
    "**Используйте собственную функцию с именем `categorize_purpose()` и метод `apply()`. Изучите данные в столбце `purpose` и определите, какие подстроки помогут вам правильно определить категорию.**"
   ]
  },
  {
   "cell_type": "code",
   "execution_count": 20,
   "id": "5d953fa1",
   "metadata": {
    "deletable": false,
    "id": "e149fab4",
    "trusted": false
   },
   "outputs": [],
   "source": [
    "def categorize_purpose(row):\n",
    "    try:\n",
    "        if \"автом\" in row:\n",
    "            return \"операции с автомобилем\"\n",
    "        elif \"жил\" in row or \"недвиж\" in row:\n",
    "            return \"операции с недвижимостью\"\n",
    "        elif \"свад\" in row:\n",
    "            return \"проведение свадьбы\"\n",
    "        elif \"образов\" in row:\n",
    "            return \"получение образования\"\n",
    "    except:\n",
    "        return \"нет категории\""
   ]
  },
  {
   "cell_type": "code",
   "execution_count": 21,
   "id": "5ef140c9",
   "metadata": {
    "deletable": false,
    "id": "bf36e69b",
    "trusted": false
   },
   "outputs": [],
   "source": [
    "data[\"purpose_category\"] = data[\"purpose\"].apply(categorize_purpose)"
   ]
  },
  {
   "cell_type": "markdown",
   "id": "a1dc4811",
   "metadata": {
    "deletable": false,
    "editable": false,
    "id": "09b242bf"
   },
   "source": [
    "### Шаг 3. Исследуйте данные и ответьте на вопросы"
   ]
  },
  {
   "cell_type": "markdown",
   "id": "4f8948cb",
   "metadata": {},
   "source": [
    "<a class=\"ancor\" id=\"0-bullet\"></a>\n",
    "### Оглавление"
   ]
  },
  {
   "cell_type": "markdown",
   "id": "e4b5abfa",
   "metadata": {},
   "source": [
    "* [Влияние количества детей](#1-bullet)\n",
    "* [Влияние семейного положения](#2-bullet)\n",
    "* [Влияние уровня дохода](#3-bullet)\n",
    "* [Влияние цели кредита](#4-bullet)\n",
    "* [Анализ причин возникновения пропусков данных](#5-bullet)\n",
    "* [Обсуждение использования медианы для заполнения пропусков данных](#6-bullet)\n",
    "* [Выводы](#7-bullet)"
   ]
  },
  {
   "cell_type": "markdown",
   "id": "f7ef7044",
   "metadata": {
    "deletable": false,
    "editable": false,
    "id": "c5d66278"
   },
   "source": [
    "<a class=\"ancor\" id=\"1-bullet\"></a>\n",
    "#### 3.1 Есть ли зависимость между количеством детей и возвратом кредита в срок?"
   ]
  },
  {
   "cell_type": "markdown",
   "id": "e70383e8",
   "metadata": {},
   "source": [
    "Для начала посмотрим размеры групп клиентов с разным количеством детей"
   ]
  },
  {
   "cell_type": "code",
   "execution_count": 22,
   "id": "ae3bef9f",
   "metadata": {
    "trusted": false
   },
   "outputs": [
    {
     "data": {
      "application/vnd.microsoft.datawrangler.viewer.v0+json": {
       "columns": [
        {
         "name": "children",
         "rawType": "int64",
         "type": "integer"
        },
        {
         "name": "value",
         "rawType": "int64",
         "type": "integer"
        },
        {
         "name": "percent",
         "rawType": "object",
         "type": "string"
        }
       ],
       "ref": "a63c6c94-0333-4cb4-8769-e428f9fcdd0e",
       "rows": [
        [
         "0",
         "14091",
         "66.06%"
        ],
        [
         "1",
         "4808",
         "22.54%"
        ],
        [
         "2",
         "2052",
         "9.62%"
        ],
        [
         "3",
         "330",
         "1.55%"
        ],
        [
         "4",
         "41",
         "0.19%"
        ],
        [
         "5",
         "9",
         "0.04%"
        ]
       ],
       "shape": {
        "columns": 2,
        "rows": 6
       }
      },
      "text/html": [
       "<div>\n",
       "<style scoped>\n",
       "    .dataframe tbody tr th:only-of-type {\n",
       "        vertical-align: middle;\n",
       "    }\n",
       "\n",
       "    .dataframe tbody tr th {\n",
       "        vertical-align: top;\n",
       "    }\n",
       "\n",
       "    .dataframe thead th {\n",
       "        text-align: right;\n",
       "    }\n",
       "</style>\n",
       "<table border=\"1\" class=\"dataframe\">\n",
       "  <thead>\n",
       "    <tr style=\"text-align: right;\">\n",
       "      <th></th>\n",
       "      <th>value</th>\n",
       "      <th>percent</th>\n",
       "    </tr>\n",
       "    <tr>\n",
       "      <th>children</th>\n",
       "      <th></th>\n",
       "      <th></th>\n",
       "    </tr>\n",
       "  </thead>\n",
       "  <tbody>\n",
       "    <tr>\n",
       "      <th>0</th>\n",
       "      <td>14091</td>\n",
       "      <td>66.06%</td>\n",
       "    </tr>\n",
       "    <tr>\n",
       "      <th>1</th>\n",
       "      <td>4808</td>\n",
       "      <td>22.54%</td>\n",
       "    </tr>\n",
       "    <tr>\n",
       "      <th>2</th>\n",
       "      <td>2052</td>\n",
       "      <td>9.62%</td>\n",
       "    </tr>\n",
       "    <tr>\n",
       "      <th>3</th>\n",
       "      <td>330</td>\n",
       "      <td>1.55%</td>\n",
       "    </tr>\n",
       "    <tr>\n",
       "      <th>4</th>\n",
       "      <td>41</td>\n",
       "      <td>0.19%</td>\n",
       "    </tr>\n",
       "    <tr>\n",
       "      <th>5</th>\n",
       "      <td>9</td>\n",
       "      <td>0.04%</td>\n",
       "    </tr>\n",
       "  </tbody>\n",
       "</table>\n",
       "</div>"
      ],
      "text/plain": [
       "          value percent\n",
       "children               \n",
       "0         14091  66.06%\n",
       "1          4808  22.54%\n",
       "2          2052   9.62%\n",
       "3           330   1.55%\n",
       "4            41   0.19%\n",
       "5             9   0.04%"
      ]
     },
     "execution_count": 22,
     "metadata": {},
     "output_type": "execute_result"
    }
   ],
   "source": [
    "# В дальнейшем будем использовать named aggregation, чтобы получить сразу размер групп и их процент от общего количества клиентов\n",
    "data.groupby(\"children\").agg(\n",
    "    value=(\"children\", \"count\"),\n",
    "    percent=(\"children\", lambda x: f\"{x.count()/len(data)*100:.2f}%\"),\n",
    ")"
   ]
  },
  {
   "cell_type": "markdown",
   "id": "b0fe8cb4",
   "metadata": {},
   "source": [
    "Суммарное количество клиентов с 4 и более детьми составляет менее 0.25% от общего количества клиентов, поэтому данные для таких клиентов могут быть статистически недостоверными и их учитывать не будем.\n",
    "\n",
    "Количество клиентов с 3 детьми также довольно низкое, оставим их для анализа, но будем иметь ввиду, что данные для этой категории не особо надёжны."
   ]
  },
  {
   "cell_type": "code",
   "execution_count": 23,
   "id": "f5776dd4",
   "metadata": {
    "trusted": false
   },
   "outputs": [
    {
     "data": {
      "text/plain": [
       "array([1, 0, 3, 2])"
      ]
     },
     "execution_count": 23,
     "metadata": {},
     "output_type": "execute_result"
    }
   ],
   "source": [
    "data_childs = data[data[\"children\"] < 4]\n",
    "# Проверим, что данные действительно содержат нужные категории\n",
    "data_childs[\"children\"].unique()"
   ]
  },
  {
   "cell_type": "markdown",
   "id": "661f7929",
   "metadata": {},
   "source": [
    "Посмотрим распределение доли просроченных кредитов от количества детей"
   ]
  },
  {
   "cell_type": "code",
   "execution_count": 24,
   "id": "985d2f1f",
   "metadata": {
    "trusted": false
   },
   "outputs": [],
   "source": [
    "def debt_data_by_group(group_col: str, size_thr: float = 0.005) -> None:\n",
    "    \"\"\"\n",
    "    Функция для построения сводной таблицы просрочки для в зависимости от группы разбиения\n",
    "\n",
    "    params\n",
    "    ----------\n",
    "    group_col: str\n",
    "        Название колонки с группами\n",
    "    size_thr: float\n",
    "        Пороговое значение размера групп. Группы с размером ниже порога не будут учитываться.\n",
    "        По умолчанию пороговое значение равно 0.5 %.\n",
    "    \"\"\"\n",
    "\n",
    "    # Собираем данные по размерам групп\n",
    "    grouped_data = data.groupby(group_col).agg(\n",
    "        group_size=(group_col, \"count\"),\n",
    "        group_size_percent=(group_col, lambda x: f\"{x.count()/len(data)*100:.2f}\"),\n",
    "    )\n",
    "\n",
    "    # Удалим из анализа группы с размером ниже порога, предварительно сообщив об этом\n",
    "    if len(\n",
    "        small_groups := grouped_data[\n",
    "            grouped_data[\"group_size_percent\"].astype(float) <= size_thr * 100\n",
    "        ]\n",
    "    ):\n",
    "        print(\n",
    "            f\"Размеры групп клиентов с {group_col} = {small_groups.index.values} \"\n",
    "            + f\"слишком малы для анализа и не будут использоваться.\"\n",
    "        )\n",
    "    grouped_data = grouped_data[\n",
    "        grouped_data[\"group_size_percent\"].astype(float) > size_thr * 100\n",
    "    ]\n",
    "\n",
    "    # Не забываем отфильтровать и исходные данные\n",
    "    data_filtered = data[data[group_col].isin(grouped_data.index)]\n",
    "\n",
    "    # Собираем данные по распределению просрочки кредитов в группах\n",
    "    max_debt_fraction = data_filtered.groupby(group_col)[\"debt\"].mean().max()\n",
    "    grouped_data = grouped_data.join(\n",
    "        data_filtered.groupby(group_col).agg(\n",
    "            debt_fraction=(\"debt\", \"mean\"),\n",
    "            relative_debt_percent=(\n",
    "                \"debt\",\n",
    "                lambda x: f\"{(x.mean()/max_debt_fraction - 1)*100:.2f}\",\n",
    "            ),\n",
    "        )\n",
    "    )\n",
    "    display(grouped_data)"
   ]
  },
  {
   "cell_type": "code",
   "execution_count": 25,
   "id": "489725b0",
   "metadata": {},
   "outputs": [
    {
     "name": "stdout",
     "output_type": "stream",
     "text": [
      "Размеры групп клиентов с children = [4 5] слишком малы для анализа и не будут использоваться.\n"
     ]
    },
    {
     "data": {
      "application/vnd.microsoft.datawrangler.viewer.v0+json": {
       "columns": [
        {
         "name": "children",
         "rawType": "int64",
         "type": "integer"
        },
        {
         "name": "group_size",
         "rawType": "int64",
         "type": "integer"
        },
        {
         "name": "group_size_percent",
         "rawType": "object",
         "type": "string"
        },
        {
         "name": "debt_fraction",
         "rawType": "float64",
         "type": "float"
        },
        {
         "name": "relative_debt_percent",
         "rawType": "object",
         "type": "string"
        }
       ],
       "ref": "78b5299a-8aab-4c65-984e-773ca3dcea40",
       "rows": [
        [
         "0",
         "14091",
         "66.06",
         "0.07543822297920659",
         "-20.21"
        ],
        [
         "1",
         "4808",
         "22.54",
         "0.09234608985024959",
         "-2.32"
        ],
        [
         "2",
         "2052",
         "9.62",
         "0.09454191033138401",
         "0.00"
        ],
        [
         "3",
         "330",
         "1.55",
         "0.08181818181818182",
         "-13.46"
        ]
       ],
       "shape": {
        "columns": 4,
        "rows": 4
       }
      },
      "text/html": [
       "<div>\n",
       "<style scoped>\n",
       "    .dataframe tbody tr th:only-of-type {\n",
       "        vertical-align: middle;\n",
       "    }\n",
       "\n",
       "    .dataframe tbody tr th {\n",
       "        vertical-align: top;\n",
       "    }\n",
       "\n",
       "    .dataframe thead th {\n",
       "        text-align: right;\n",
       "    }\n",
       "</style>\n",
       "<table border=\"1\" class=\"dataframe\">\n",
       "  <thead>\n",
       "    <tr style=\"text-align: right;\">\n",
       "      <th></th>\n",
       "      <th>group_size</th>\n",
       "      <th>group_size_percent</th>\n",
       "      <th>debt_fraction</th>\n",
       "      <th>relative_debt_percent</th>\n",
       "    </tr>\n",
       "    <tr>\n",
       "      <th>children</th>\n",
       "      <th></th>\n",
       "      <th></th>\n",
       "      <th></th>\n",
       "      <th></th>\n",
       "    </tr>\n",
       "  </thead>\n",
       "  <tbody>\n",
       "    <tr>\n",
       "      <th>0</th>\n",
       "      <td>14091</td>\n",
       "      <td>66.06</td>\n",
       "      <td>0.075438</td>\n",
       "      <td>-20.21</td>\n",
       "    </tr>\n",
       "    <tr>\n",
       "      <th>1</th>\n",
       "      <td>4808</td>\n",
       "      <td>22.54</td>\n",
       "      <td>0.092346</td>\n",
       "      <td>-2.32</td>\n",
       "    </tr>\n",
       "    <tr>\n",
       "      <th>2</th>\n",
       "      <td>2052</td>\n",
       "      <td>9.62</td>\n",
       "      <td>0.094542</td>\n",
       "      <td>0.00</td>\n",
       "    </tr>\n",
       "    <tr>\n",
       "      <th>3</th>\n",
       "      <td>330</td>\n",
       "      <td>1.55</td>\n",
       "      <td>0.081818</td>\n",
       "      <td>-13.46</td>\n",
       "    </tr>\n",
       "  </tbody>\n",
       "</table>\n",
       "</div>"
      ],
      "text/plain": [
       "          group_size group_size_percent  debt_fraction relative_debt_percent\n",
       "children                                                                    \n",
       "0              14091              66.06       0.075438                -20.21\n",
       "1               4808              22.54       0.092346                 -2.32\n",
       "2               2052               9.62       0.094542                  0.00\n",
       "3                330               1.55       0.081818                -13.46"
      ]
     },
     "metadata": {},
     "output_type": "display_data"
    }
   ],
   "source": [
    "debt_data_by_group(\"children\")"
   ]
  },
  {
   "cell_type": "markdown",
   "id": "59d1a00f",
   "metadata": {},
   "source": [
    "Максимальная доля просроченных кредитов наблюдается у клиентов с 1 и 2 детьми и составляет чуть более 9 %. Для клиентов с 3 детьми вероятность просрочки составляет 8.2 %, а для клиентов без детей 7.5 %, что на 13 % и 20 % меньше, чем для самых проблемных клиентов."
   ]
  },
  {
   "cell_type": "markdown",
   "id": "ce21ddbe",
   "metadata": {},
   "source": [
    "Выводы выше основаны на усреднённом \"здравом смысле\", но можно получить и более строгие выводы.\n",
    "\n",
    "К счастью, в нашем случае групп мало и можно легко сделать тест статистической значимости для всех попарных комбинаций групп клиентов с разными количествами детей.\n",
    "\n",
    "Напишем вспомогательную функцию."
   ]
  },
  {
   "cell_type": "code",
   "execution_count": 26,
   "id": "92cce37f",
   "metadata": {
    "trusted": false
   },
   "outputs": [],
   "source": [
    "from typing import Literal, Optional, cast\n",
    "from itertools import combinations\n",
    "\n",
    "# Нужно установить библиотеку scipy\n",
    "from scipy.stats import ttest_ind, chi2_contingency\n",
    "\n",
    "\n",
    "def statistical_significance(\n",
    "    df: pd.DataFrame,\n",
    "    group_col: str,\n",
    "    value_col: str,\n",
    "    p_thr: float,\n",
    "    method: Literal[\"welch\", \"chi_squared\"],\n",
    "    groups: Optional[list[str]] = None,\n",
    ") -> None:\n",
    "    \"\"\"\n",
    "    Функция для попарного сравнения статистической значимости значений внутри групп.\n",
    "\n",
    "    params\n",
    "    ----------\n",
    "    df: pd.DataFrame\n",
    "        Датафрейм с данными\n",
    "    group_col: str\n",
    "        Название колонки с группами\n",
    "    value_col: str\n",
    "        Название колонки со значениями\n",
    "    p_thr: float\n",
    "        Пороговое p-значение для определения статистической значимости\n",
    "    method: Literal['welch','chi_squared']\n",
    "        Методика подсчёта статистической значимости\n",
    "    groups: list[str]|None\n",
    "        Список групп для сравнения. Если None, то сравниваются все группы\n",
    "    \"\"\"\n",
    "    # Группы сравнения\n",
    "    test_groups = groups or df[group_col].unique()\n",
    "\n",
    "    pairwise_results = []\n",
    "    # Перебираем все попарные комбинации\n",
    "    for group1, group2 in combinations(test_groups, 2):\n",
    "        group1_data = cast(pd.Series, df.loc[df[group_col] == group1, value_col])\n",
    "        group2_data = cast(pd.Series, df.loc[df[group_col] == group2, value_col])\n",
    "        if method == \"welch\":\n",
    "            # Считаем t-статистику и p-value. Популяционные дисперсии нам неизвестны, поэтому предполагаем, что они разные (equal_var=False)\n",
    "            stat, pvalue = ttest_ind(group1_data, group2_data, equal_var=False)\n",
    "            pairwise_results.append((group1, group2, stat, pvalue))\n",
    "        elif method == \"chi_squared\":\n",
    "            # Создаём таблицу сопряженности\n",
    "            contingency_table = pd.crosstab(\n",
    "                df.loc[df[group_col].isin([group1, group2]), group_col],\n",
    "                df.loc[df[group_col].isin([group1, group2]), value_col],\n",
    "            )\n",
    "            # Выполняем хи-квадрат тест\n",
    "            chi2, pvalue, _, _ = chi2_contingency(contingency_table)\n",
    "            pairwise_results.append((group1, group2, chi2, pvalue))\n",
    "        else:\n",
    "            raise ValueError(\"Метод должен быть 'welch' или 'chi_squared'\")\n",
    "\n",
    "    # Печатаем результаты\n",
    "    for result in pairwise_results:\n",
    "        print(\n",
    "            f\"Для клиентов с {group_col} = {result[0]} и {result[1]}  p-значение = {result[3]:.4f}.\",\n",
    "            end=\"\",\n",
    "        )\n",
    "        if result[3] < p_thr:\n",
    "            print(\"  Различия статистически значимы.\")\n",
    "        else:\n",
    "            print(\"  Различия статистически НЕ значимы.\")"
   ]
  },
  {
   "cell_type": "markdown",
   "id": "e7fae857",
   "metadata": {},
   "source": [
    "Проверим статистическую значимость полученных результатов.\n",
    "\n",
    "Порогом статистической значимости сейчас и далее будем считать p-value=0.05 (типичное значение)."
   ]
  },
  {
   "cell_type": "code",
   "execution_count": 27,
   "id": "d65c6179",
   "metadata": {},
   "outputs": [
    {
     "name": "stdout",
     "output_type": "stream",
     "text": [
      "Для клиентов с children = 1 и 0  p-значение = 0.0002.  Различия статистически значимы.\n",
      "Для клиентов с children = 1 и 3  p-значение = 0.5875.  Различия статистически НЕ значимы.\n",
      "Для клиентов с children = 1 и 2  p-значение = 0.8093.  Различия статистически НЕ значимы.\n",
      "Для клиентов с children = 0 и 3  p-значение = 0.7429.  Различия статистически НЕ значимы.\n",
      "Для клиентов с children = 0 и 2  p-значение = 0.0029.  Различия статистически значимы.\n",
      "Для клиентов с children = 3 и 2  p-значение = 0.5240.  Различия статистически НЕ значимы.\n"
     ]
    }
   ],
   "source": [
    "statistical_significance(data_childs, \"children\", \"debt\", 0.05, \"chi_squared\")"
   ]
  },
  {
   "cell_type": "markdown",
   "id": "cee60920",
   "metadata": {},
   "source": [
    "Таким образом, статистически значимо различаются вероятности просрочки между клиентами без детей и клиентами с 1 или 2 детьми.\n",
    "\n",
    "Таким образом, результаты более строгого аналза вполне хорошо согласуются с результами, полученными с использованием \"здравого смысла\". В дальнейшем будем использовать этот более строгий подход только в случаях, когда статистическая значимость различий неочевидна на первый взгляд."
   ]
  },
  {
   "cell_type": "markdown",
   "id": "dcf7f9ce",
   "metadata": {},
   "source": [
    "**Вывод:**\n",
    "\n",
    "Гипотеза о том, что вероятность возврата кредита в срок зависит от количества детей обоснована для клиентов с количеством детей менее 4.\n",
    "\n",
    "Среди таких клиентов самыми надежными являются клиенты без детей и с 3 детьми (вероятность просрочки около 8 %), а ненадежными являются клиенты с 1 и 2 детьми (вероятность просрочки более 9 %). Остальные различия в результатах статистически НЕ значимы.\n",
    "\n",
    "Однако, стоит отметить, что для клиентов с 3 детьми количество данных относительно невелико (330 записей), поэтому лучше проверить достоверность результатов для этой группе на большем датасете.\n",
    "\n",
    "Для клиентов с 4 и более детьми достоверных выводов сделать нельзя ввиду малочисленности таких клиентов (суммарно менее 0.25 %)."
   ]
  },
  {
   "cell_type": "markdown",
   "id": "63666a4c",
   "metadata": {},
   "source": [
    "[Оглавление](#0-bullet)"
   ]
  },
  {
   "cell_type": "markdown",
   "id": "e7490951",
   "metadata": {
    "deletable": false,
    "editable": false,
    "id": "97be82ca"
   },
   "source": [
    "<a class=\"ancor\" id=\"2-bullet\"></a>\n",
    "#### 3.2 Есть ли зависимость между семейным положением и возвратом кредита в срок?"
   ]
  },
  {
   "cell_type": "markdown",
   "id": "39fbc0e6",
   "metadata": {},
   "source": [
    "Посмотрим какие варианты семейного положения представлены в анализируемых данных."
   ]
  },
  {
   "cell_type": "code",
   "execution_count": 28,
   "id": "e5922980",
   "metadata": {
    "deletable": false,
    "id": "dc3f7ee8",
    "trusted": false
   },
   "outputs": [
    {
     "data": {
      "text/plain": [
       "array(['женат / замужем', 'гражданский брак', 'вдовец / вдова',\n",
       "       'в разводе', 'Не женат / не замужем'], dtype=object)"
      ]
     },
     "execution_count": 28,
     "metadata": {},
     "output_type": "execute_result"
    }
   ],
   "source": [
    "data[\"family_status\"].unique()"
   ]
  },
  {
   "cell_type": "markdown",
   "id": "3d6d7e41",
   "metadata": {},
   "source": [
    "Посмотрим распределение средней просрочки от семейного статуса"
   ]
  },
  {
   "cell_type": "code",
   "execution_count": 29,
   "id": "d558bf19",
   "metadata": {
    "trusted": false
   },
   "outputs": [
    {
     "data": {
      "application/vnd.microsoft.datawrangler.viewer.v0+json": {
       "columns": [
        {
         "name": "family_status",
         "rawType": "object",
         "type": "string"
        },
        {
         "name": "group_size",
         "rawType": "int64",
         "type": "integer"
        },
        {
         "name": "group_size_percent",
         "rawType": "object",
         "type": "string"
        },
        {
         "name": "debt_fraction",
         "rawType": "float64",
         "type": "float"
        },
        {
         "name": "relative_debt_percent",
         "rawType": "object",
         "type": "string"
        }
       ],
       "ref": "326d2776-3efe-490b-93b7-be92d0fc4bb2",
       "rows": [
        [
         "Не женат / не замужем",
         "2796",
         "13.11",
         "0.09763948497854077",
         "0.00"
        ],
        [
         "в разводе",
         "1189",
         "5.57",
         "0.07064760302775441",
         "-27.64"
        ],
        [
         "вдовец / вдова",
         "951",
         "4.46",
         "0.06624605678233439",
         "-32.15"
        ],
        [
         "гражданский брак",
         "4134",
         "19.38",
         "0.09313014029995162",
         "-4.62"
        ],
        [
         "женат / замужем",
         "12261",
         "57.48",
         "0.07560557866405676",
         "-22.57"
        ]
       ],
       "shape": {
        "columns": 4,
        "rows": 5
       }
      },
      "text/html": [
       "<div>\n",
       "<style scoped>\n",
       "    .dataframe tbody tr th:only-of-type {\n",
       "        vertical-align: middle;\n",
       "    }\n",
       "\n",
       "    .dataframe tbody tr th {\n",
       "        vertical-align: top;\n",
       "    }\n",
       "\n",
       "    .dataframe thead th {\n",
       "        text-align: right;\n",
       "    }\n",
       "</style>\n",
       "<table border=\"1\" class=\"dataframe\">\n",
       "  <thead>\n",
       "    <tr style=\"text-align: right;\">\n",
       "      <th></th>\n",
       "      <th>group_size</th>\n",
       "      <th>group_size_percent</th>\n",
       "      <th>debt_fraction</th>\n",
       "      <th>relative_debt_percent</th>\n",
       "    </tr>\n",
       "    <tr>\n",
       "      <th>family_status</th>\n",
       "      <th></th>\n",
       "      <th></th>\n",
       "      <th></th>\n",
       "      <th></th>\n",
       "    </tr>\n",
       "  </thead>\n",
       "  <tbody>\n",
       "    <tr>\n",
       "      <th>Не женат / не замужем</th>\n",
       "      <td>2796</td>\n",
       "      <td>13.11</td>\n",
       "      <td>0.097639</td>\n",
       "      <td>0.00</td>\n",
       "    </tr>\n",
       "    <tr>\n",
       "      <th>в разводе</th>\n",
       "      <td>1189</td>\n",
       "      <td>5.57</td>\n",
       "      <td>0.070648</td>\n",
       "      <td>-27.64</td>\n",
       "    </tr>\n",
       "    <tr>\n",
       "      <th>вдовец / вдова</th>\n",
       "      <td>951</td>\n",
       "      <td>4.46</td>\n",
       "      <td>0.066246</td>\n",
       "      <td>-32.15</td>\n",
       "    </tr>\n",
       "    <tr>\n",
       "      <th>гражданский брак</th>\n",
       "      <td>4134</td>\n",
       "      <td>19.38</td>\n",
       "      <td>0.093130</td>\n",
       "      <td>-4.62</td>\n",
       "    </tr>\n",
       "    <tr>\n",
       "      <th>женат / замужем</th>\n",
       "      <td>12261</td>\n",
       "      <td>57.48</td>\n",
       "      <td>0.075606</td>\n",
       "      <td>-22.57</td>\n",
       "    </tr>\n",
       "  </tbody>\n",
       "</table>\n",
       "</div>"
      ],
      "text/plain": [
       "                       group_size group_size_percent  debt_fraction  \\\n",
       "family_status                                                         \n",
       "Не женат / не замужем        2796              13.11       0.097639   \n",
       "в разводе                    1189               5.57       0.070648   \n",
       "вдовец / вдова                951               4.46       0.066246   \n",
       "гражданский брак             4134              19.38       0.093130   \n",
       "женат / замужем             12261              57.48       0.075606   \n",
       "\n",
       "                      relative_debt_percent  \n",
       "family_status                                \n",
       "Не женат / не замужем                  0.00  \n",
       "в разводе                            -27.64  \n",
       "вдовец / вдова                       -32.15  \n",
       "гражданский брак                      -4.62  \n",
       "женат / замужем                      -22.57  "
      ]
     },
     "metadata": {},
     "output_type": "display_data"
    }
   ],
   "source": [
    "debt_data_by_group(\"family_status\")"
   ]
  },
  {
   "cell_type": "markdown",
   "id": "a3b7b7c6",
   "metadata": {},
   "source": [
    "Рзамеры всех групп достаточны для анализа.\n",
    "\n",
    "Максимальная доля просроченных кредитов наблюдается у не женатых/не замужних клиентов, а также людей, состоящих в гражданском браке (более 9 %), остальные категории клиентов на 20-30 % более надежны."
   ]
  },
  {
   "cell_type": "markdown",
   "id": "ca4f6686",
   "metadata": {},
   "source": [
    "Различия в статистической значимости между группами \"гражданский брак\" и \"Не женат / не замужем\" не очевидны, воспользуемся тестом Уэлча."
   ]
  },
  {
   "cell_type": "code",
   "execution_count": 30,
   "id": "40fa0cb3",
   "metadata": {
    "trusted": false
   },
   "outputs": [
    {
     "name": "stdout",
     "output_type": "stream",
     "text": [
      "Для клиентов с family_status = Не женат / не замужем и гражданский брак  p-значение = 0.5576.  Различия статистически НЕ значимы.\n"
     ]
    }
   ],
   "source": [
    "statistical_significance(\n",
    "    data,\n",
    "    \"family_status\",\n",
    "    \"debt\",\n",
    "    0.05,\n",
    "    \"chi_squared\",\n",
    "    [\"Не женат / не замужем\", \"гражданский брак\"],\n",
    ")"
   ]
  },
  {
   "cell_type": "markdown",
   "id": "8abeca7f",
   "metadata": {},
   "source": [
    "Различия в статистической значимости между группами \"в разводе\", \"вдовец / вдова\" и \"женат / замужем\" также не очевидны, воспользуемся тестом Уэлча."
   ]
  },
  {
   "cell_type": "code",
   "execution_count": 31,
   "id": "8e90ae08",
   "metadata": {
    "trusted": false
   },
   "outputs": [
    {
     "name": "stdout",
     "output_type": "stream",
     "text": [
      "Для клиентов с family_status = вдовец / вдова и женат / замужем  p-значение = 0.3211.  Различия статистически НЕ значимы.\n",
      "Для клиентов с family_status = вдовец / вдова и в разводе  p-значение = 0.7535.  Различия статистически НЕ значимы.\n",
      "Для клиентов с family_status = женат / замужем и в разводе  p-значение = 0.5745.  Различия статистически НЕ значимы.\n"
     ]
    }
   ],
   "source": [
    "statistical_significance(\n",
    "    data,\n",
    "    \"family_status\",\n",
    "    \"debt\",\n",
    "    0.05,\n",
    "    \"chi_squared\",\n",
    "    [\"вдовец / вдова\", \"женат / замужем\", \"в разводе\"],\n",
    ")"
   ]
  },
  {
   "cell_type": "markdown",
   "id": "031ecb36",
   "metadata": {},
   "source": [
    "**Вывод:**\n",
    "\n",
    "Гипотеза о том, что вероятность возврата кредита в срок зависит от семейного положения обоснована.\n",
    "\n",
    "Клиенты, не оформившие своё семейное положения официальным браком имеют на 20-30 % большую долю просроченных кредитов, по сравнению с людьми, прошедшими официальную регистрацию брака (абсолютные вероятности просрочки для этих двух больших групп 9 % и 7 % соответственно).\n",
    "\n",
    "Различия вероятностей просрочки внутри групп оформлявших и не оформлявших брак статистически НЕ значимы."
   ]
  },
  {
   "cell_type": "markdown",
   "id": "a9f3f6a7",
   "metadata": {},
   "source": [
    "[Оглавление](#0-bullet)"
   ]
  },
  {
   "cell_type": "markdown",
   "id": "fc82e14f",
   "metadata": {
    "deletable": false,
    "editable": false,
    "id": "1e8b2fca"
   },
   "source": [
    "<a class=\"ancor\" id=\"3-bullet\"></a>\n",
    "#### 3.3 Есть ли зависимость между уровнем дохода и возвратом кредита в срок?"
   ]
  },
  {
   "cell_type": "markdown",
   "id": "56f1af28",
   "metadata": {},
   "source": [
    "Посмотрим распределение средней просрочки от категории дохода"
   ]
  },
  {
   "cell_type": "code",
   "execution_count": 32,
   "id": "eb39ad08",
   "metadata": {
    "trusted": false
   },
   "outputs": [
    {
     "name": "stdout",
     "output_type": "stream",
     "text": [
      "Размеры групп клиентов с total_income_category = ['A' 'E'] слишком малы для анализа и не будут использоваться.\n"
     ]
    },
    {
     "data": {
      "application/vnd.microsoft.datawrangler.viewer.v0+json": {
       "columns": [
        {
         "name": "total_income_category",
         "rawType": "object",
         "type": "string"
        },
        {
         "name": "group_size",
         "rawType": "int64",
         "type": "integer"
        },
        {
         "name": "group_size_percent",
         "rawType": "object",
         "type": "string"
        },
        {
         "name": "debt_fraction",
         "rawType": "float64",
         "type": "float"
        },
        {
         "name": "relative_debt_percent",
         "rawType": "object",
         "type": "string"
        }
       ],
       "ref": "33210bea-c8db-4271-a660-f618e64c17d5",
       "rows": [
        [
         "B",
         "5014",
         "23.51",
         "0.07060231352213801",
         "-16.92"
        ],
        [
         "C",
         "15921",
         "74.64",
         "0.08498209911437724",
         "0.00"
        ],
        [
         "D",
         "349",
         "1.64",
         "0.06017191977077364",
         "-29.19"
        ]
       ],
       "shape": {
        "columns": 4,
        "rows": 3
       }
      },
      "text/html": [
       "<div>\n",
       "<style scoped>\n",
       "    .dataframe tbody tr th:only-of-type {\n",
       "        vertical-align: middle;\n",
       "    }\n",
       "\n",
       "    .dataframe tbody tr th {\n",
       "        vertical-align: top;\n",
       "    }\n",
       "\n",
       "    .dataframe thead th {\n",
       "        text-align: right;\n",
       "    }\n",
       "</style>\n",
       "<table border=\"1\" class=\"dataframe\">\n",
       "  <thead>\n",
       "    <tr style=\"text-align: right;\">\n",
       "      <th></th>\n",
       "      <th>group_size</th>\n",
       "      <th>group_size_percent</th>\n",
       "      <th>debt_fraction</th>\n",
       "      <th>relative_debt_percent</th>\n",
       "    </tr>\n",
       "    <tr>\n",
       "      <th>total_income_category</th>\n",
       "      <th></th>\n",
       "      <th></th>\n",
       "      <th></th>\n",
       "      <th></th>\n",
       "    </tr>\n",
       "  </thead>\n",
       "  <tbody>\n",
       "    <tr>\n",
       "      <th>B</th>\n",
       "      <td>5014</td>\n",
       "      <td>23.51</td>\n",
       "      <td>0.070602</td>\n",
       "      <td>-16.92</td>\n",
       "    </tr>\n",
       "    <tr>\n",
       "      <th>C</th>\n",
       "      <td>15921</td>\n",
       "      <td>74.64</td>\n",
       "      <td>0.084982</td>\n",
       "      <td>0.00</td>\n",
       "    </tr>\n",
       "    <tr>\n",
       "      <th>D</th>\n",
       "      <td>349</td>\n",
       "      <td>1.64</td>\n",
       "      <td>0.060172</td>\n",
       "      <td>-29.19</td>\n",
       "    </tr>\n",
       "  </tbody>\n",
       "</table>\n",
       "</div>"
      ],
      "text/plain": [
       "                       group_size group_size_percent  debt_fraction  \\\n",
       "total_income_category                                                 \n",
       "B                            5014              23.51       0.070602   \n",
       "C                           15921              74.64       0.084982   \n",
       "D                             349               1.64       0.060172   \n",
       "\n",
       "                      relative_debt_percent  \n",
       "total_income_category                        \n",
       "B                                    -16.92  \n",
       "C                                      0.00  \n",
       "D                                    -29.19  "
      ]
     },
     "metadata": {},
     "output_type": "display_data"
    }
   ],
   "source": [
    "debt_data_by_group(\"total_income_category\")"
   ]
  },
  {
   "cell_type": "markdown",
   "id": "483590a4",
   "metadata": {},
   "source": [
    "Размеры групп клиентов с total_income_category = ['A' 'E'] слишком малы для анализа.\n",
    "\n",
    "Количество клиентов с доходами категории D также довольно низкое, оставим их для анализа, но будем иметь ввиду, что данные для этой категории не особо надёжны."
   ]
  },
  {
   "cell_type": "markdown",
   "id": "1c2ee29d",
   "metadata": {},
   "source": [
    "Средняя просрочка значительно различается для всех категории клиентов.\n",
    "\n",
    "Наиболее надежными является клиенты с доходом категории D (доходы от 30 до 50 тысяч), на 17 % менее надёжными являются клиенты категории B (доходы от 200 тысяч до 1 миллиона) и самыми ненадёжными (на 29 % по сравнению с категорией D) являются клиенты категории C (доходы от 50 до 200 тысяч)."
   ]
  },
  {
   "cell_type": "markdown",
   "id": "2ae5fe6b",
   "metadata": {},
   "source": [
    "**Вывод:**\n",
    "\n",
    "Гипотеза о том, что вероятность возврата кредита в срок зависит от дохода обоснована для клиентов с доходами от 30 тысяч до 1 миллиона.\n",
    "\n",
    "Наиболее надежными является клиенты с доходами от 30 до 50 тысяч (средняя доля просрочки 6 %), менее надёжными являются клиенты с доходами от 200 тысяч до 1 миллиона (средняя доля просрочки 7 %) и самыми ненадёжными являются клиенты c доходами от 50 до 200 тысяч (средняя доля просрочки 8.5 %).\n",
    "\n",
    "Однако, стоит отметить, что для клиентов с доходами от 30 до 50 тысяч, оказавшихся самыми надёжными, количество данных относительно невелико (349 записей), поэтому лучше проверить достоверность результатов на большем датасете.\n",
    "\n",
    "Для клиентов в доходами менее 30 тысяч и более миллиона достоверных выводов сделать невозможно ввиду малочисленности таких клиентов (0.22 % от общего количества клиентов)."
   ]
  },
  {
   "cell_type": "markdown",
   "id": "8a9c27e7",
   "metadata": {},
   "source": [
    "[Оглавление](#0-bullet)"
   ]
  },
  {
   "cell_type": "markdown",
   "id": "e6d40398",
   "metadata": {
    "deletable": false,
    "editable": false,
    "id": "99ecbd1f"
   },
   "source": [
    "<a class=\"ancor\" id=\"4-bullet\"></a>\n",
    "#### 3.4 Как разные цели кредита влияют на его возврат в срок?"
   ]
  },
  {
   "cell_type": "markdown",
   "id": "9e88573e",
   "metadata": {},
   "source": [
    "Посмотрим распределение средней просрочки от цели взятия кредита"
   ]
  },
  {
   "cell_type": "code",
   "execution_count": 33,
   "id": "395c874e",
   "metadata": {
    "trusted": false
   },
   "outputs": [
    {
     "data": {
      "application/vnd.microsoft.datawrangler.viewer.v0+json": {
       "columns": [
        {
         "name": "purpose_category",
         "rawType": "object",
         "type": "string"
        },
        {
         "name": "group_size",
         "rawType": "int64",
         "type": "integer"
        },
        {
         "name": "group_size_percent",
         "rawType": "object",
         "type": "string"
        },
        {
         "name": "debt_fraction",
         "rawType": "float64",
         "type": "float"
        },
        {
         "name": "relative_debt_percent",
         "rawType": "object",
         "type": "string"
        }
       ],
       "ref": "11d236bb-cfe8-4c79-b525-db178cf358e2",
       "rows": [
        [
         "операции с автомобилем",
         "4279",
         "20.06",
         "0.09347978499649451",
         "0.00"
        ],
        [
         "операции с недвижимостью",
         "10751",
         "50.40",
         "0.07255139056831923",
         "-22.39"
        ],
        [
         "получение образования",
         "3988",
         "18.70",
         "0.09252758274824474",
         "-1.02"
        ],
        [
         "проведение свадьбы",
         "2313",
         "10.84",
         "0.07911802853437094",
         "-15.36"
        ]
       ],
       "shape": {
        "columns": 4,
        "rows": 4
       }
      },
      "text/html": [
       "<div>\n",
       "<style scoped>\n",
       "    .dataframe tbody tr th:only-of-type {\n",
       "        vertical-align: middle;\n",
       "    }\n",
       "\n",
       "    .dataframe tbody tr th {\n",
       "        vertical-align: top;\n",
       "    }\n",
       "\n",
       "    .dataframe thead th {\n",
       "        text-align: right;\n",
       "    }\n",
       "</style>\n",
       "<table border=\"1\" class=\"dataframe\">\n",
       "  <thead>\n",
       "    <tr style=\"text-align: right;\">\n",
       "      <th></th>\n",
       "      <th>group_size</th>\n",
       "      <th>group_size_percent</th>\n",
       "      <th>debt_fraction</th>\n",
       "      <th>relative_debt_percent</th>\n",
       "    </tr>\n",
       "    <tr>\n",
       "      <th>purpose_category</th>\n",
       "      <th></th>\n",
       "      <th></th>\n",
       "      <th></th>\n",
       "      <th></th>\n",
       "    </tr>\n",
       "  </thead>\n",
       "  <tbody>\n",
       "    <tr>\n",
       "      <th>операции с автомобилем</th>\n",
       "      <td>4279</td>\n",
       "      <td>20.06</td>\n",
       "      <td>0.093480</td>\n",
       "      <td>0.00</td>\n",
       "    </tr>\n",
       "    <tr>\n",
       "      <th>операции с недвижимостью</th>\n",
       "      <td>10751</td>\n",
       "      <td>50.40</td>\n",
       "      <td>0.072551</td>\n",
       "      <td>-22.39</td>\n",
       "    </tr>\n",
       "    <tr>\n",
       "      <th>получение образования</th>\n",
       "      <td>3988</td>\n",
       "      <td>18.70</td>\n",
       "      <td>0.092528</td>\n",
       "      <td>-1.02</td>\n",
       "    </tr>\n",
       "    <tr>\n",
       "      <th>проведение свадьбы</th>\n",
       "      <td>2313</td>\n",
       "      <td>10.84</td>\n",
       "      <td>0.079118</td>\n",
       "      <td>-15.36</td>\n",
       "    </tr>\n",
       "  </tbody>\n",
       "</table>\n",
       "</div>"
      ],
      "text/plain": [
       "                          group_size group_size_percent  debt_fraction  \\\n",
       "purpose_category                                                         \n",
       "операции с автомобилем          4279              20.06       0.093480   \n",
       "операции с недвижимостью       10751              50.40       0.072551   \n",
       "получение образования           3988              18.70       0.092528   \n",
       "проведение свадьбы              2313              10.84       0.079118   \n",
       "\n",
       "                         relative_debt_percent  \n",
       "purpose_category                                \n",
       "операции с автомобилем                    0.00  \n",
       "операции с недвижимостью                -22.39  \n",
       "получение образования                    -1.02  \n",
       "проведение свадьбы                      -15.36  "
      ]
     },
     "metadata": {},
     "output_type": "display_data"
    }
   ],
   "source": [
    "debt_data_by_group(\"purpose_category\")"
   ]
  },
  {
   "cell_type": "markdown",
   "id": "b74665af",
   "metadata": {},
   "source": [
    "Во всех категориях достаточное количество клиентов"
   ]
  },
  {
   "cell_type": "markdown",
   "id": "4c78fc90",
   "metadata": {},
   "source": [
    "Результаты разделились на 2 группы.\n",
    "\n",
    "Клиенты, берущие кредит на операции с автомобилем и на получение образования оказались наиболее проблемными заёмщиками с более, чем 9 % средней просрочки. Клиенты, берущие кредит на проведение свадьбы и операции с недвижимостью имеют на 15 % и 22 % меньше просрочек."
   ]
  },
  {
   "cell_type": "markdown",
   "id": "cf38a9ac",
   "metadata": {},
   "source": [
    "При этом Статистические различия между клиентами, оформляющими кредит на операции с недвижимостью и проведение свадьбы не очевидны. Проверим статистическую значимость."
   ]
  },
  {
   "cell_type": "code",
   "execution_count": 34,
   "id": "5d328f26",
   "metadata": {
    "trusted": false
   },
   "outputs": [
    {
     "name": "stdout",
     "output_type": "stream",
     "text": [
      "Для клиентов с purpose_category = проведение свадьбы и операции с недвижимостью  p-значение = 0.2926.  Различия статистически НЕ значимы.\n"
     ]
    }
   ],
   "source": [
    "statistical_significance(\n",
    "    data,\n",
    "    \"purpose_category\",\n",
    "    \"debt\",\n",
    "    0.05,\n",
    "    \"chi_squared\",\n",
    "    [\"проведение свадьбы\", \"операции с недвижимостью\"],\n",
    ")"
   ]
  },
  {
   "cell_type": "markdown",
   "id": "b7e815eb",
   "metadata": {},
   "source": [
    "**Вывод:**\n",
    "\n",
    "Гипотеза о том, что вероятность возврата кредита в срок зависит от цели выдачи кредита обоснована.\n",
    "\n",
    "Клиенты, берущие кредит на операции с автомобилем и на получение образования оказались наиболее проблемными заёмщиками с более, чем 9 % средней просрочки. Клиенты, берущие кредит на проведение свадьбы и операции с недвижимостью имеют 15-22 % меньше просрочек (различия между \"свадьбой\" и \"недвижимостью\", а также между \"автомобилем\" и \"образованием\" статистически НЕ значимы)."
   ]
  },
  {
   "cell_type": "markdown",
   "id": "ce346892",
   "metadata": {},
   "source": [
    "[Оглавление](#0-bullet)"
   ]
  },
  {
   "cell_type": "markdown",
   "id": "3bb1b248",
   "metadata": {
    "deletable": false,
    "editable": false,
    "id": "09c3ac4c"
   },
   "source": [
    "<a class=\"ancor\" id=\"5-bullet\"></a>\n",
    "#### 3.5 Приведите возможные причины появления пропусков в исходных данных."
   ]
  },
  {
   "cell_type": "markdown",
   "id": "53e6aff2",
   "metadata": {
    "deletable": false,
    "id": "9da2ceda"
   },
   "source": [
    "*Ответ:* \n",
    "\n",
    "Пропуски в исходных данных встречаются только одновременно для колонок с общим доходом и количеством отработанных дней. Маловероятно, что такой характер пропусков мог возникнуть из-за случайного технического сбоя или человеческого фактора.\n",
    "\n",
    "Вероятно, данные собирались из нескольких источников (отеделений банка?), и в одном из таких источников либо в анкете отсутствовали эти графы, либо произошла техническая ошибка при получении данных из этого источника.\n",
    "\n",
    "Рекомендуется проверить источники данных и выяснить не принадлежат ли все пропуски к одному источнику данных."
   ]
  },
  {
   "cell_type": "markdown",
   "id": "66f06461",
   "metadata": {},
   "source": [
    "[Оглавление](#0-bullet)"
   ]
  },
  {
   "cell_type": "markdown",
   "id": "32931146",
   "metadata": {
    "deletable": false,
    "editable": false,
    "id": "7b0487d6"
   },
   "source": [
    "<a class=\"ancor\" id=\"6-bullet\"></a>\n",
    "#### 3.6 Объясните, почему заполнить пропуски медианным значением — лучшее решение для количественных переменных."
   ]
  },
  {
   "cell_type": "markdown",
   "id": "49b1c02e",
   "metadata": {
    "deletable": false,
    "id": "7ecf2b8e"
   },
   "source": [
    "*Ответ:* \n",
    "\n",
    "Медианные значения менее подвержены влиянию выбросов (экстремальных значений) и, в целом, лучше описывают усредненную ситуацию в исследуемом множестве.\n",
    "\n",
    "Впрочем, медиана тоже не идеальна и бывают ситуации, когда и она может неадекватно описывать распределение, пример ниже."
   ]
  },
  {
   "cell_type": "code",
   "execution_count": 35,
   "id": "ebb9e13f",
   "metadata": {
    "trusted": false
   },
   "outputs": [
    {
     "data": {
      "text/plain": [
       "np.float64(0.0)"
      ]
     },
     "execution_count": 35,
     "metadata": {},
     "output_type": "execute_result"
    }
   ],
   "source": [
    "ser = pd.Series([0] * 52 + [100] * 48)\n",
    "ser.median()"
   ]
  },
  {
   "cell_type": "markdown",
   "id": "bd13b43e",
   "metadata": {},
   "source": [
    "В данном примере медиана имеет нулевое значение, что очень плохо описывает данный датасет.\n",
    "\n",
    "Если есть возможность, то более надежно предварительно оценить набор численных данных методом descrive()"
   ]
  },
  {
   "cell_type": "code",
   "execution_count": 36,
   "id": "afb8312e",
   "metadata": {
    "trusted": false
   },
   "outputs": [
    {
     "data": {
      "application/vnd.microsoft.datawrangler.viewer.v0+json": {
       "columns": [
        {
         "name": "index",
         "rawType": "object",
         "type": "string"
        },
        {
         "name": "0",
         "rawType": "float64",
         "type": "float"
        }
       ],
       "ref": "a0b5ba06-b3aa-4a87-8874-81b2984b1525",
       "rows": [
        [
         "count",
         "100.0"
        ],
        [
         "mean",
         "48.0"
        ],
        [
         "std",
         "50.211673156867825"
        ],
        [
         "min",
         "0.0"
        ],
        [
         "25%",
         "0.0"
        ],
        [
         "50%",
         "0.0"
        ],
        [
         "75%",
         "100.0"
        ],
        [
         "max",
         "100.0"
        ]
       ],
       "shape": {
        "columns": 1,
        "rows": 8
       }
      },
      "text/plain": [
       "count    100.000000\n",
       "mean      48.000000\n",
       "std       50.211673\n",
       "min        0.000000\n",
       "25%        0.000000\n",
       "50%        0.000000\n",
       "75%      100.000000\n",
       "max      100.000000\n",
       "dtype: float64"
      ]
     },
     "execution_count": 36,
     "metadata": {},
     "output_type": "execute_result"
    }
   ],
   "source": [
    "ser.describe()"
   ]
  },
  {
   "cell_type": "markdown",
   "id": "feeca52f",
   "metadata": {},
   "source": [
    "[Оглавление](#0-bullet)"
   ]
  },
  {
   "cell_type": "markdown",
   "id": "3ceefda0",
   "metadata": {
    "deletable": false,
    "editable": false,
    "id": "6db5255a"
   },
   "source": [
    "<a class=\"ancor\" id=\"7-bullet\"></a>\n",
    "### Шаг 4: общий вывод."
   ]
  },
  {
   "cell_type": "markdown",
   "id": "f44dd187",
   "metadata": {
    "deletable": false,
    "id": "bad65432"
   },
   "source": [
    "**Предобработка данных**\n",
    "\n",
    "Предобработка данных выявила несколько проблем в данных:\n",
    "* Аномальные значения в данных о рабочем стаже и количестве детей\n",
    "\n",
    "     У некоторых клиентов в графе \"количество детей\" значатся значения -1 и 20. Количество таких записей незначительно (123), поэтому они не учитвылись при анализе.\n",
    "\n",
    "    Данные по рабочему стажу содержат отрицательные и аномально большие (несколько сотен лет) значения. Отрицательные значения были заменены их абсолютным значением, но дальнейшая корректировка не проводилась, так как этот тип данных не использовался в дальнейшем анализе.\n",
    "    \n",
    "\n",
    "* Пропущенные значения в данных о рабочем стаже и общем доходе клиентов\n",
    "\n",
    "    Пропущенные данные клиентов были заполнены медианными значениями для их типа занятости величинами.\n",
    "    \n",
    "\n",
    "* Дубликаты в данных - явные и неявные\n",
    "\n",
    "    Неявные дубликаты содержатся в графе об образовании и связаны с написанием слов в различном регистре. Все слова в этой графе были приведены к строчному регистру.\n",
    "\n",
    "    Данные содержат явные дубликаты (71 запись), которые были удалены.\n",
    "\n",
    "Была проведена категоризация данных:\n",
    "* Были выделены категории клиентов по уровню дохода:\n",
    "  * 0–30000 — `'E'`;\n",
    "  * 30001–50000 — `'D'`;\n",
    "  * 50001–200000 — `'C'`;\n",
    "  * 200001–1000000 — `'B'`;\n",
    "  * 1000001 и выше — `'A'`.\n",
    "  \n",
    "* Были выделены категории целей получения кредита:\n",
    "  * операции с автомобилем;\n",
    "  * операции с недвижимостью;\n",
    "  * проведение свадьбы;\n",
    "  * получение образования.\n",
    "  \n",
    "**Исследование доли просроченных кредитов**\n",
    "\n",
    "Была изучена зависимость доли просроченных кредитов от различных факторов:\n",
    "* Количество детей\n",
    "* Семейное положение\n",
    "* Уровень дохода\n",
    "* Цель получения кредита\n",
    "\n",
    "Во всех случаях удалось выявить статистически значимые различия в количестве просроченных кредитов. При этом во всех случаях доля просроченных кредитов изменялась в диапазоне 6-9.5 %.\n",
    "\n",
    "Для клиентов с детьми достаточное количество информации имеется только для клиентов с 2 и менее детьми. Для таких клиентов факт наличия хотя бы одного ребенка поднимает вероятность просрочки сразу на 20 %.\n",
    "\n",
    "Люди, побывавшие в гражданском браке, на 20-30 % более надёжны людей, никогда не оформлявших своё семейное положение.\n",
    "\n",
    "Влияние уровня дохода удалось достоверно установить только для клиентов с доходами категорий B и С (от 50 тысяч до 1 миллиона). Для этих категории клиенты с высоким доходом более надёжны.\n",
    "\n",
    "Цель кредита на вероятность просрочки влияет следующим образом: Клиенты, получающие кредит на проведение свадьбы и операции с недвижимостью имеют на 15-22 % меньше просрочек, чем клиенты, имеющие своей целью покупку автомобиля или получение образования.\n",
    "\n",
    "Таким образом, наиболее **надёжными** заёмщиками являются клиенты без детей, побывавшие в официальном браке, с общим доходом от 200 тысяч до 1 миллиона и получающие кредит на операции с недвижимостью или проведение свадьбы.\n",
    "\n",
    "Наиболее **рискованными** заёмщиками являются клиенты с детьми, никогда не оформлявшие своё семейное положение, с доходом от 50 до 200 тысяч и получающие кредит на получение образования или покупку машины.\n",
    "\n",
    "\n",
    "**Рекомендации**\n",
    "* Предобработка данных выявила большое количество проблемных данных в графе общего стажа клиентов, поэтому рекомендуется проверить регламент работы с этим типом данных.\n",
    "* Все пропуски в данных встречаются парами в графе о стаже и общем доходе. Вероятно, данные собираются из нескольких источников (отеделений банка?), и в одном из таких источников возникла проблема. Рекомендуется проверить источники данных и выяснить не принадлежат ли все пропуски к одному источнику данных.\n",
    "* Наблюдается недостаточное количество данных для клиентов с 3 и более детьми, а так же для клиентов с доходом ниже 50 тысяч и более 1 миллиона. Рекомендуется собрать больше данных по этим категориям клиентов, чтобы можно было получить для них достоверные результаты."
   ]
  }
 ],
 "metadata": {
  "ExecuteTimeLog": [
   {
    "duration": 501,
    "start_time": "2025-04-08T10:27:44.431Z"
   },
   {
    "duration": 23,
    "start_time": "2025-04-08T10:27:46.900Z"
   },
   {
    "duration": 16,
    "start_time": "2025-04-08T10:27:52.136Z"
   },
   {
    "duration": 12,
    "start_time": "2025-04-08T10:27:54.579Z"
   },
   {
    "duration": 42,
    "start_time": "2025-04-08T10:28:13.082Z"
   },
   {
    "duration": 4,
    "start_time": "2025-04-08T10:28:15.192Z"
   },
   {
    "duration": 8,
    "start_time": "2025-04-08T10:28:18.532Z"
   },
   {
    "duration": 5,
    "start_time": "2025-04-08T10:28:20.738Z"
   },
   {
    "duration": 6,
    "start_time": "2025-04-08T10:28:22.047Z"
   },
   {
    "duration": 4,
    "start_time": "2025-04-08T10:28:24.802Z"
   },
   {
    "duration": 43,
    "start_time": "2025-04-08T10:28:26.667Z"
   },
   {
    "duration": 11,
    "start_time": "2025-04-08T10:28:28.672Z"
   },
   {
    "duration": 4,
    "start_time": "2025-04-08T10:28:30.322Z"
   },
   {
    "duration": 13,
    "start_time": "2025-04-08T10:28:31.842Z"
   },
   {
    "duration": 22,
    "start_time": "2025-04-08T10:28:33.257Z"
   },
   {
    "duration": 19,
    "start_time": "2025-04-08T10:28:34.472Z"
   },
   {
    "duration": 4,
    "start_time": "2025-04-08T10:28:45.262Z"
   },
   {
    "duration": 16,
    "start_time": "2025-04-08T10:28:52.762Z"
   },
   {
    "duration": 7,
    "start_time": "2025-04-08T10:28:54.595Z"
   },
   {
    "duration": 4,
    "start_time": "2025-04-08T10:29:08.781Z"
   },
   {
    "duration": 11,
    "start_time": "2025-04-08T10:29:10.400Z"
   },
   {
    "duration": 673,
    "start_time": "2025-04-08T17:46:24.386Z"
   },
   {
    "duration": 23,
    "start_time": "2025-04-08T17:46:25.061Z"
   },
   {
    "duration": 23,
    "start_time": "2025-04-08T17:46:25.085Z"
   },
   {
    "duration": 10,
    "start_time": "2025-04-08T17:46:25.110Z"
   },
   {
    "duration": 36,
    "start_time": "2025-04-08T17:46:25.122Z"
   },
   {
    "duration": 3,
    "start_time": "2025-04-08T17:46:25.159Z"
   },
   {
    "duration": 11,
    "start_time": "2025-04-08T17:46:25.164Z"
   },
   {
    "duration": 4,
    "start_time": "2025-04-08T17:46:25.177Z"
   },
   {
    "duration": 31,
    "start_time": "2025-04-08T17:46:25.182Z"
   },
   {
    "duration": 7,
    "start_time": "2025-04-08T17:46:25.214Z"
   },
   {
    "duration": 35,
    "start_time": "2025-04-08T17:46:25.223Z"
   },
   {
    "duration": 10,
    "start_time": "2025-04-08T17:46:25.260Z"
   },
   {
    "duration": 33,
    "start_time": "2025-04-08T17:46:25.272Z"
   },
   {
    "duration": 12,
    "start_time": "2025-04-08T17:46:25.308Z"
   },
   {
    "duration": 19,
    "start_time": "2025-04-08T17:46:25.322Z"
   },
   {
    "duration": 18,
    "start_time": "2025-04-08T17:46:25.342Z"
   },
   {
    "duration": 3,
    "start_time": "2025-04-08T17:46:25.362Z"
   },
   {
    "duration": 37,
    "start_time": "2025-04-08T17:46:25.367Z"
   },
   {
    "duration": 5,
    "start_time": "2025-04-08T17:46:25.406Z"
   },
   {
    "duration": 7,
    "start_time": "2025-04-08T17:46:25.412Z"
   },
   {
    "duration": 20,
    "start_time": "2025-04-08T17:46:25.420Z"
   },
   {
    "duration": 16,
    "start_time": "2025-04-08T17:46:25.442Z"
   },
   {
    "duration": 12,
    "start_time": "2025-04-08T17:46:25.459Z"
   },
   {
    "duration": 37,
    "start_time": "2025-04-08T17:46:25.473Z"
   },
   {
    "duration": 586,
    "start_time": "2025-04-08T17:46:25.513Z"
   },
   {
    "duration": 0,
    "start_time": "2025-04-08T17:46:26.101Z"
   },
   {
    "duration": 0,
    "start_time": "2025-04-08T17:46:26.102Z"
   },
   {
    "duration": 0,
    "start_time": "2025-04-08T17:46:26.103Z"
   },
   {
    "duration": 0,
    "start_time": "2025-04-08T17:46:26.104Z"
   },
   {
    "duration": 0,
    "start_time": "2025-04-08T17:46:26.105Z"
   },
   {
    "duration": 0,
    "start_time": "2025-04-08T17:46:26.106Z"
   },
   {
    "duration": 0,
    "start_time": "2025-04-08T17:46:26.107Z"
   },
   {
    "duration": 0,
    "start_time": "2025-04-08T17:46:26.108Z"
   },
   {
    "duration": 0,
    "start_time": "2025-04-08T17:46:26.109Z"
   },
   {
    "duration": 0,
    "start_time": "2025-04-08T17:46:26.110Z"
   },
   {
    "duration": 0,
    "start_time": "2025-04-08T17:46:26.111Z"
   },
   {
    "duration": 0,
    "start_time": "2025-04-08T17:46:26.111Z"
   },
   {
    "duration": 0,
    "start_time": "2025-04-08T17:46:26.112Z"
   },
   {
    "duration": 0,
    "start_time": "2025-04-08T17:46:26.113Z"
   },
   {
    "duration": 69,
    "start_time": "2025-04-08T17:50:17.304Z"
   },
   {
    "duration": 68,
    "start_time": "2025-04-08T17:51:09.916Z"
   },
   {
    "duration": 16,
    "start_time": "2025-04-08T17:51:22.366Z"
   },
   {
    "duration": 14,
    "start_time": "2025-04-08T17:52:00.162Z"
   },
   {
    "duration": 674,
    "start_time": "2025-04-09T05:59:21.099Z"
   },
   {
    "duration": 21,
    "start_time": "2025-04-09T05:59:21.775Z"
   },
   {
    "duration": 16,
    "start_time": "2025-04-09T05:59:21.798Z"
   },
   {
    "duration": 10,
    "start_time": "2025-04-09T05:59:21.815Z"
   },
   {
    "duration": 62,
    "start_time": "2025-04-09T05:59:21.826Z"
   },
   {
    "duration": 3,
    "start_time": "2025-04-09T05:59:21.890Z"
   },
   {
    "duration": 9,
    "start_time": "2025-04-09T05:59:21.894Z"
   },
   {
    "duration": 7,
    "start_time": "2025-04-09T05:59:21.904Z"
   },
   {
    "duration": 10,
    "start_time": "2025-04-09T05:59:21.912Z"
   },
   {
    "duration": 4,
    "start_time": "2025-04-09T05:59:21.924Z"
   },
   {
    "duration": 72,
    "start_time": "2025-04-09T05:59:21.930Z"
   },
   {
    "duration": 10,
    "start_time": "2025-04-09T05:59:22.004Z"
   },
   {
    "duration": 3,
    "start_time": "2025-04-09T05:59:22.015Z"
   },
   {
    "duration": 12,
    "start_time": "2025-04-09T05:59:22.020Z"
   },
   {
    "duration": 45,
    "start_time": "2025-04-09T05:59:22.033Z"
   },
   {
    "duration": 16,
    "start_time": "2025-04-09T05:59:22.079Z"
   },
   {
    "duration": 3,
    "start_time": "2025-04-09T05:59:22.097Z"
   },
   {
    "duration": 10,
    "start_time": "2025-04-09T05:59:22.101Z"
   },
   {
    "duration": 6,
    "start_time": "2025-04-09T05:59:22.112Z"
   },
   {
    "duration": 3,
    "start_time": "2025-04-09T05:59:22.119Z"
   },
   {
    "duration": 47,
    "start_time": "2025-04-09T05:59:22.124Z"
   },
   {
    "duration": 16,
    "start_time": "2025-04-09T05:59:22.172Z"
   },
   {
    "duration": 9,
    "start_time": "2025-04-09T05:59:22.190Z"
   },
   {
    "duration": 16,
    "start_time": "2025-04-09T05:59:22.201Z"
   },
   {
    "duration": 581,
    "start_time": "2025-04-09T05:59:22.219Z"
   },
   {
    "duration": 0,
    "start_time": "2025-04-09T05:59:22.802Z"
   },
   {
    "duration": 0,
    "start_time": "2025-04-09T05:59:22.803Z"
   },
   {
    "duration": 0,
    "start_time": "2025-04-09T05:59:22.804Z"
   },
   {
    "duration": 0,
    "start_time": "2025-04-09T05:59:22.805Z"
   },
   {
    "duration": 0,
    "start_time": "2025-04-09T05:59:22.806Z"
   },
   {
    "duration": 0,
    "start_time": "2025-04-09T05:59:22.807Z"
   },
   {
    "duration": 0,
    "start_time": "2025-04-09T05:59:22.808Z"
   },
   {
    "duration": 0,
    "start_time": "2025-04-09T05:59:22.809Z"
   },
   {
    "duration": 0,
    "start_time": "2025-04-09T05:59:22.810Z"
   },
   {
    "duration": 0,
    "start_time": "2025-04-09T05:59:22.811Z"
   },
   {
    "duration": 0,
    "start_time": "2025-04-09T05:59:22.812Z"
   },
   {
    "duration": 0,
    "start_time": "2025-04-09T05:59:22.813Z"
   },
   {
    "duration": 0,
    "start_time": "2025-04-09T05:59:22.814Z"
   },
   {
    "duration": 0,
    "start_time": "2025-04-09T05:59:22.816Z"
   },
   {
    "duration": 12,
    "start_time": "2025-04-09T05:59:42.727Z"
   },
   {
    "duration": 8,
    "start_time": "2025-04-09T06:00:35.822Z"
   },
   {
    "duration": 4,
    "start_time": "2025-04-09T06:00:40.271Z"
   },
   {
    "duration": 6,
    "start_time": "2025-04-09T06:01:45.371Z"
   },
   {
    "duration": 64,
    "start_time": "2025-04-09T06:03:06.723Z"
   },
   {
    "duration": 8,
    "start_time": "2025-04-09T07:08:20.947Z"
   },
   {
    "duration": 14,
    "start_time": "2025-04-09T07:11:23.073Z"
   },
   {
    "duration": 90,
    "start_time": "2025-04-09T07:16:43.565Z"
   },
   {
    "duration": 71,
    "start_time": "2025-04-09T07:16:55.375Z"
   },
   {
    "duration": 14,
    "start_time": "2025-04-09T07:17:25.495Z"
   },
   {
    "duration": 8,
    "start_time": "2025-04-09T07:25:32.557Z"
   },
   {
    "duration": 4,
    "start_time": "2025-04-09T07:45:19.964Z"
   },
   {
    "duration": 22,
    "start_time": "2025-04-09T07:45:35.779Z"
   },
   {
    "duration": 5,
    "start_time": "2025-04-09T07:46:07.959Z"
   },
   {
    "duration": 22,
    "start_time": "2025-04-09T07:46:08.883Z"
   },
   {
    "duration": 5,
    "start_time": "2025-04-09T07:56:34.086Z"
   },
   {
    "duration": 20,
    "start_time": "2025-04-09T07:56:36.118Z"
   },
   {
    "duration": 5,
    "start_time": "2025-04-09T07:56:52.996Z"
   },
   {
    "duration": 299,
    "start_time": "2025-04-09T07:56:53.925Z"
   },
   {
    "duration": 5,
    "start_time": "2025-04-09T07:58:10.296Z"
   },
   {
    "duration": 325,
    "start_time": "2025-04-09T07:58:11.318Z"
   },
   {
    "duration": 5,
    "start_time": "2025-04-09T07:58:29.890Z"
   },
   {
    "duration": 23,
    "start_time": "2025-04-09T07:58:31.176Z"
   },
   {
    "duration": 5,
    "start_time": "2025-04-09T07:58:51.030Z"
   },
   {
    "duration": 19,
    "start_time": "2025-04-09T07:58:52.295Z"
   },
   {
    "duration": 5,
    "start_time": "2025-04-09T07:59:11.533Z"
   },
   {
    "duration": 19,
    "start_time": "2025-04-09T07:59:12.393Z"
   },
   {
    "duration": 5,
    "start_time": "2025-04-09T07:59:31.533Z"
   },
   {
    "duration": 276,
    "start_time": "2025-04-09T07:59:32.210Z"
   },
   {
    "duration": 6,
    "start_time": "2025-04-09T07:59:53.210Z"
   },
   {
    "duration": 26,
    "start_time": "2025-04-09T07:59:53.988Z"
   },
   {
    "duration": 5,
    "start_time": "2025-04-09T08:01:57.594Z"
   },
   {
    "duration": 29,
    "start_time": "2025-04-09T08:01:58.714Z"
   },
   {
    "duration": 6,
    "start_time": "2025-04-09T08:02:19.462Z"
   },
   {
    "duration": 30,
    "start_time": "2025-04-09T08:02:20.359Z"
   },
   {
    "duration": 17,
    "start_time": "2025-04-09T08:34:44.845Z"
   },
   {
    "duration": 9,
    "start_time": "2025-04-09T08:35:40.421Z"
   },
   {
    "duration": 13,
    "start_time": "2025-04-09T08:38:04.378Z"
   },
   {
    "duration": 13,
    "start_time": "2025-04-09T08:38:29.298Z"
   },
   {
    "duration": 7,
    "start_time": "2025-04-09T08:41:16.134Z"
   },
   {
    "duration": 15,
    "start_time": "2025-04-09T08:41:19.636Z"
   },
   {
    "duration": 750,
    "start_time": "2025-04-09T08:55:16.000Z"
   },
   {
    "duration": 21,
    "start_time": "2025-04-09T08:55:16.752Z"
   },
   {
    "duration": 15,
    "start_time": "2025-04-09T08:55:16.775Z"
   },
   {
    "duration": 9,
    "start_time": "2025-04-09T08:55:16.792Z"
   },
   {
    "duration": 34,
    "start_time": "2025-04-09T08:55:16.803Z"
   },
   {
    "duration": 3,
    "start_time": "2025-04-09T08:55:16.838Z"
   },
   {
    "duration": 8,
    "start_time": "2025-04-09T08:55:16.870Z"
   },
   {
    "duration": 5,
    "start_time": "2025-04-09T08:55:16.879Z"
   },
   {
    "duration": 13,
    "start_time": "2025-04-09T08:55:16.886Z"
   },
   {
    "duration": 4,
    "start_time": "2025-04-09T08:55:16.900Z"
   },
   {
    "duration": 32,
    "start_time": "2025-04-09T08:55:16.906Z"
   },
   {
    "duration": 32,
    "start_time": "2025-04-09T08:55:16.939Z"
   },
   {
    "duration": 3,
    "start_time": "2025-04-09T08:55:16.972Z"
   },
   {
    "duration": 12,
    "start_time": "2025-04-09T08:55:16.978Z"
   },
   {
    "duration": 20,
    "start_time": "2025-04-09T08:55:16.991Z"
   },
   {
    "duration": 17,
    "start_time": "2025-04-09T08:55:17.013Z"
   },
   {
    "duration": 4,
    "start_time": "2025-04-09T08:55:17.031Z"
   },
   {
    "duration": 40,
    "start_time": "2025-04-09T08:55:17.036Z"
   },
   {
    "duration": 5,
    "start_time": "2025-04-09T08:55:17.077Z"
   },
   {
    "duration": 3,
    "start_time": "2025-04-09T08:55:17.084Z"
   },
   {
    "duration": 9,
    "start_time": "2025-04-09T08:55:17.088Z"
   },
   {
    "duration": 14,
    "start_time": "2025-04-09T08:55:17.098Z"
   },
   {
    "duration": 9,
    "start_time": "2025-04-09T08:55:17.114Z"
   },
   {
    "duration": 55,
    "start_time": "2025-04-09T08:55:17.125Z"
   },
   {
    "duration": 6,
    "start_time": "2025-04-09T08:55:17.182Z"
   },
   {
    "duration": 490,
    "start_time": "2025-04-09T08:55:17.190Z"
   },
   {
    "duration": 14,
    "start_time": "2025-04-09T08:55:17.682Z"
   },
   {
    "duration": 5,
    "start_time": "2025-04-09T08:55:17.698Z"
   },
   {
    "duration": 17,
    "start_time": "2025-04-09T08:55:17.705Z"
   },
   {
    "duration": 19,
    "start_time": "2025-04-09T08:55:17.723Z"
   },
   {
    "duration": 102,
    "start_time": "2025-04-09T08:55:17.770Z"
   },
   {
    "duration": 0,
    "start_time": "2025-04-09T08:55:17.874Z"
   },
   {
    "duration": 0,
    "start_time": "2025-04-09T08:55:17.875Z"
   },
   {
    "duration": 0,
    "start_time": "2025-04-09T08:55:17.876Z"
   },
   {
    "duration": 0,
    "start_time": "2025-04-09T08:55:17.878Z"
   },
   {
    "duration": 0,
    "start_time": "2025-04-09T08:55:17.878Z"
   },
   {
    "duration": 0,
    "start_time": "2025-04-09T08:55:17.880Z"
   },
   {
    "duration": 0,
    "start_time": "2025-04-09T08:55:17.881Z"
   },
   {
    "duration": 0,
    "start_time": "2025-04-09T08:55:17.882Z"
   },
   {
    "duration": 0,
    "start_time": "2025-04-09T08:55:17.883Z"
   },
   {
    "duration": 16,
    "start_time": "2025-04-09T08:59:51.115Z"
   },
   {
    "duration": 42,
    "start_time": "2025-04-09T08:59:54.983Z"
   },
   {
    "duration": 8,
    "start_time": "2025-04-09T09:01:40.443Z"
   },
   {
    "duration": 21,
    "start_time": "2025-04-09T09:02:12.071Z"
   },
   {
    "duration": 32,
    "start_time": "2025-04-09T09:02:52.698Z"
   },
   {
    "duration": 45,
    "start_time": "2025-04-09T09:03:25.857Z"
   },
   {
    "duration": 19,
    "start_time": "2025-04-09T09:03:28.619Z"
   },
   {
    "duration": 729,
    "start_time": "2025-04-09T09:03:42.713Z"
   },
   {
    "duration": 21,
    "start_time": "2025-04-09T09:03:43.444Z"
   },
   {
    "duration": 22,
    "start_time": "2025-04-09T09:03:43.467Z"
   },
   {
    "duration": 12,
    "start_time": "2025-04-09T09:03:43.492Z"
   },
   {
    "duration": 35,
    "start_time": "2025-04-09T09:03:43.505Z"
   },
   {
    "duration": 31,
    "start_time": "2025-04-09T09:03:43.541Z"
   },
   {
    "duration": 10,
    "start_time": "2025-04-09T09:03:43.574Z"
   },
   {
    "duration": 7,
    "start_time": "2025-04-09T09:03:43.587Z"
   },
   {
    "duration": 15,
    "start_time": "2025-04-09T09:03:43.596Z"
   },
   {
    "duration": 4,
    "start_time": "2025-04-09T09:03:43.614Z"
   },
   {
    "duration": 89,
    "start_time": "2025-04-09T09:03:43.620Z"
   },
   {
    "duration": 11,
    "start_time": "2025-04-09T09:03:43.710Z"
   },
   {
    "duration": 3,
    "start_time": "2025-04-09T09:03:43.723Z"
   },
   {
    "duration": 14,
    "start_time": "2025-04-09T09:03:43.728Z"
   },
   {
    "duration": 52,
    "start_time": "2025-04-09T09:03:43.743Z"
   },
   {
    "duration": 18,
    "start_time": "2025-04-09T09:03:43.797Z"
   },
   {
    "duration": 3,
    "start_time": "2025-04-09T09:03:43.817Z"
   },
   {
    "duration": 10,
    "start_time": "2025-04-09T09:03:43.822Z"
   },
   {
    "duration": 43,
    "start_time": "2025-04-09T09:03:43.833Z"
   },
   {
    "duration": 6,
    "start_time": "2025-04-09T09:03:43.879Z"
   },
   {
    "duration": 12,
    "start_time": "2025-04-09T09:03:43.887Z"
   },
   {
    "duration": 15,
    "start_time": "2025-04-09T09:03:43.900Z"
   },
   {
    "duration": 11,
    "start_time": "2025-04-09T09:03:43.917Z"
   },
   {
    "duration": 56,
    "start_time": "2025-04-09T09:03:43.930Z"
   },
   {
    "duration": 6,
    "start_time": "2025-04-09T09:03:43.988Z"
   },
   {
    "duration": 518,
    "start_time": "2025-04-09T09:03:43.997Z"
   },
   {
    "duration": 15,
    "start_time": "2025-04-09T09:03:44.516Z"
   },
   {
    "duration": 5,
    "start_time": "2025-04-09T09:03:44.535Z"
   },
   {
    "duration": 69,
    "start_time": "2025-04-09T09:03:44.541Z"
   },
   {
    "duration": 8,
    "start_time": "2025-04-09T09:03:44.612Z"
   },
   {
    "duration": 20,
    "start_time": "2025-04-09T09:03:44.621Z"
   },
   {
    "duration": 73,
    "start_time": "2025-04-09T09:03:44.643Z"
   },
   {
    "duration": 17,
    "start_time": "2025-04-09T09:03:44.718Z"
   },
   {
    "duration": 42,
    "start_time": "2025-04-09T09:03:44.737Z"
   },
   {
    "duration": 25,
    "start_time": "2025-04-09T09:03:44.783Z"
   },
   {
    "duration": 63,
    "start_time": "2025-04-09T09:03:44.811Z"
   },
   {
    "duration": 32,
    "start_time": "2025-04-09T09:03:44.876Z"
   },
   {
    "duration": 120,
    "start_time": "2025-04-09T09:03:44.910Z"
   },
   {
    "duration": 0,
    "start_time": "2025-04-09T09:03:45.032Z"
   },
   {
    "duration": 0,
    "start_time": "2025-04-09T09:03:45.033Z"
   },
   {
    "duration": 674,
    "start_time": "2025-04-09T09:19:49.411Z"
   },
   {
    "duration": 21,
    "start_time": "2025-04-09T09:19:50.087Z"
   },
   {
    "duration": 14,
    "start_time": "2025-04-09T09:19:50.110Z"
   },
   {
    "duration": 9,
    "start_time": "2025-04-09T09:19:50.126Z"
   },
   {
    "duration": 55,
    "start_time": "2025-04-09T09:19:50.136Z"
   },
   {
    "duration": 3,
    "start_time": "2025-04-09T09:19:50.193Z"
   },
   {
    "duration": 8,
    "start_time": "2025-04-09T09:19:50.197Z"
   },
   {
    "duration": 3,
    "start_time": "2025-04-09T09:19:50.207Z"
   },
   {
    "duration": 7,
    "start_time": "2025-04-09T09:19:50.212Z"
   },
   {
    "duration": 84,
    "start_time": "2025-04-09T09:19:50.221Z"
   },
   {
    "duration": 34,
    "start_time": "2025-04-09T09:19:50.307Z"
   },
   {
    "duration": 9,
    "start_time": "2025-04-09T09:19:50.342Z"
   },
   {
    "duration": 4,
    "start_time": "2025-04-09T09:19:50.352Z"
   },
   {
    "duration": 12,
    "start_time": "2025-04-09T09:19:50.357Z"
   },
   {
    "duration": 28,
    "start_time": "2025-04-09T09:19:50.370Z"
   },
   {
    "duration": 15,
    "start_time": "2025-04-09T09:19:50.400Z"
   },
   {
    "duration": 4,
    "start_time": "2025-04-09T09:19:50.416Z"
   },
   {
    "duration": 11,
    "start_time": "2025-04-09T09:19:50.421Z"
   },
   {
    "duration": 5,
    "start_time": "2025-04-09T09:19:50.433Z"
   },
   {
    "duration": 4,
    "start_time": "2025-04-09T09:19:50.439Z"
   },
   {
    "duration": 16,
    "start_time": "2025-04-09T09:19:50.469Z"
   },
   {
    "duration": 24,
    "start_time": "2025-04-09T09:19:50.487Z"
   },
   {
    "duration": 9,
    "start_time": "2025-04-09T09:19:50.513Z"
   },
   {
    "duration": 16,
    "start_time": "2025-04-09T09:19:50.523Z"
   },
   {
    "duration": 5,
    "start_time": "2025-04-09T09:19:50.541Z"
   },
   {
    "duration": 489,
    "start_time": "2025-04-09T09:19:50.548Z"
   },
   {
    "duration": 15,
    "start_time": "2025-04-09T09:19:51.038Z"
   },
   {
    "duration": 133,
    "start_time": "2025-04-09T09:19:51.056Z"
   },
   {
    "duration": 53,
    "start_time": "2025-04-09T09:19:51.191Z"
   },
   {
    "duration": 7,
    "start_time": "2025-04-09T09:19:51.246Z"
   },
   {
    "duration": 22,
    "start_time": "2025-04-09T09:19:51.254Z"
   },
   {
    "duration": 34,
    "start_time": "2025-04-09T09:19:51.280Z"
   },
   {
    "duration": 56,
    "start_time": "2025-04-09T09:19:51.316Z"
   },
   {
    "duration": 9,
    "start_time": "2025-04-09T09:19:51.374Z"
   },
   {
    "duration": 31,
    "start_time": "2025-04-09T09:19:51.384Z"
   },
   {
    "duration": 12,
    "start_time": "2025-04-09T09:19:51.417Z"
   },
   {
    "duration": 567,
    "start_time": "2025-04-09T09:54:45.396Z"
   },
   {
    "duration": 23,
    "start_time": "2025-04-09T09:54:45.965Z"
   },
   {
    "duration": 88,
    "start_time": "2025-04-09T09:54:45.990Z"
   },
   {
    "duration": 25,
    "start_time": "2025-04-09T09:54:46.079Z"
   },
   {
    "duration": 58,
    "start_time": "2025-04-09T09:54:46.106Z"
   },
   {
    "duration": 3,
    "start_time": "2025-04-09T09:54:46.166Z"
   },
   {
    "duration": 14,
    "start_time": "2025-04-09T09:54:46.171Z"
   },
   {
    "duration": 11,
    "start_time": "2025-04-09T09:54:46.187Z"
   },
   {
    "duration": 13,
    "start_time": "2025-04-09T09:54:46.200Z"
   },
   {
    "duration": 6,
    "start_time": "2025-04-09T09:54:46.215Z"
   },
   {
    "duration": 53,
    "start_time": "2025-04-09T09:54:46.223Z"
   },
   {
    "duration": 12,
    "start_time": "2025-04-09T09:54:46.278Z"
   },
   {
    "duration": 12,
    "start_time": "2025-04-09T09:54:46.292Z"
   },
   {
    "duration": 13,
    "start_time": "2025-04-09T09:54:46.308Z"
   },
   {
    "duration": 22,
    "start_time": "2025-04-09T09:54:46.323Z"
   },
   {
    "duration": 17,
    "start_time": "2025-04-09T09:54:46.362Z"
   },
   {
    "duration": 7,
    "start_time": "2025-04-09T09:54:46.381Z"
   },
   {
    "duration": 15,
    "start_time": "2025-04-09T09:54:46.389Z"
   },
   {
    "duration": 7,
    "start_time": "2025-04-09T09:54:46.405Z"
   },
   {
    "duration": 4,
    "start_time": "2025-04-09T09:54:46.413Z"
   },
   {
    "duration": 10,
    "start_time": "2025-04-09T09:54:46.418Z"
   },
   {
    "duration": 42,
    "start_time": "2025-04-09T09:54:46.430Z"
   },
   {
    "duration": 9,
    "start_time": "2025-04-09T09:54:46.474Z"
   },
   {
    "duration": 22,
    "start_time": "2025-04-09T09:54:46.485Z"
   },
   {
    "duration": 6,
    "start_time": "2025-04-09T09:54:46.508Z"
   },
   {
    "duration": 471,
    "start_time": "2025-04-09T09:54:46.516Z"
   },
   {
    "duration": 14,
    "start_time": "2025-04-09T09:54:46.989Z"
   },
   {
    "duration": 7,
    "start_time": "2025-04-09T09:54:47.005Z"
   },
   {
    "duration": 48,
    "start_time": "2025-04-09T09:54:47.014Z"
   },
   {
    "duration": 54,
    "start_time": "2025-04-09T09:54:47.064Z"
   },
   {
    "duration": 19,
    "start_time": "2025-04-09T09:54:47.120Z"
   },
   {
    "duration": 34,
    "start_time": "2025-04-09T09:54:47.141Z"
   },
   {
    "duration": 37,
    "start_time": "2025-04-09T09:54:47.176Z"
   },
   {
    "duration": 7,
    "start_time": "2025-04-09T09:54:47.215Z"
   },
   {
    "duration": 37,
    "start_time": "2025-04-09T09:54:47.224Z"
   },
   {
    "duration": 37,
    "start_time": "2025-04-09T09:54:47.263Z"
   },
   {
    "duration": 30,
    "start_time": "2025-04-09T10:05:33.568Z"
   },
   {
    "duration": 5,
    "start_time": "2025-04-09T10:05:51.409Z"
   },
   {
    "duration": 312,
    "start_time": "2025-04-09T10:05:54.938Z"
   },
   {
    "duration": 5,
    "start_time": "2025-04-09T12:32:20.330Z"
   },
   {
    "duration": 24,
    "start_time": "2025-04-09T12:33:07.469Z"
   },
   {
    "duration": 5,
    "start_time": "2025-04-09T12:36:28.582Z"
   },
   {
    "duration": 19,
    "start_time": "2025-04-09T12:36:31.232Z"
   },
   {
    "duration": 5,
    "start_time": "2025-04-09T12:38:17.174Z"
   },
   {
    "duration": 261,
    "start_time": "2025-04-09T12:38:20.133Z"
   },
   {
    "duration": 5,
    "start_time": "2025-04-09T12:39:12.744Z"
   },
   {
    "duration": 20,
    "start_time": "2025-04-09T12:39:15.953Z"
   },
   {
    "duration": 94,
    "start_time": "2025-04-09T12:41:29.256Z"
   },
   {
    "duration": 5,
    "start_time": "2025-04-09T12:41:36.277Z"
   },
   {
    "duration": 20,
    "start_time": "2025-04-09T12:41:39.025Z"
   },
   {
    "duration": 6,
    "start_time": "2025-04-09T12:41:46.686Z"
   },
   {
    "duration": 21,
    "start_time": "2025-04-09T12:41:49.345Z"
   },
   {
    "duration": 5,
    "start_time": "2025-04-09T12:42:12.016Z"
   },
   {
    "duration": 21,
    "start_time": "2025-04-09T12:42:14.635Z"
   },
   {
    "duration": 5,
    "start_time": "2025-04-09T12:54:06.474Z"
   },
   {
    "duration": 21,
    "start_time": "2025-04-09T12:54:08.945Z"
   },
   {
    "duration": 584,
    "start_time": "2025-04-09T12:55:59.183Z"
   },
   {
    "duration": 23,
    "start_time": "2025-04-09T12:55:59.769Z"
   },
   {
    "duration": 15,
    "start_time": "2025-04-09T12:55:59.794Z"
   },
   {
    "duration": 10,
    "start_time": "2025-04-09T12:55:59.811Z"
   },
   {
    "duration": 57,
    "start_time": "2025-04-09T12:55:59.823Z"
   },
   {
    "duration": 3,
    "start_time": "2025-04-09T12:55:59.881Z"
   },
   {
    "duration": 8,
    "start_time": "2025-04-09T12:55:59.886Z"
   },
   {
    "duration": 4,
    "start_time": "2025-04-09T12:55:59.896Z"
   },
   {
    "duration": 8,
    "start_time": "2025-04-09T12:55:59.902Z"
   },
   {
    "duration": 4,
    "start_time": "2025-04-09T12:55:59.912Z"
   },
   {
    "duration": 71,
    "start_time": "2025-04-09T12:55:59.917Z"
   },
   {
    "duration": 10,
    "start_time": "2025-04-09T12:55:59.989Z"
   },
   {
    "duration": 54,
    "start_time": "2025-04-09T12:56:00.001Z"
   },
   {
    "duration": 26,
    "start_time": "2025-04-09T12:56:00.058Z"
   },
   {
    "duration": 49,
    "start_time": "2025-04-09T12:56:00.086Z"
   },
   {
    "duration": 21,
    "start_time": "2025-04-09T12:56:00.137Z"
   },
   {
    "duration": 4,
    "start_time": "2025-04-09T12:56:00.160Z"
   },
   {
    "duration": 33,
    "start_time": "2025-04-09T12:56:00.165Z"
   },
   {
    "duration": 17,
    "start_time": "2025-04-09T12:56:00.199Z"
   },
   {
    "duration": 23,
    "start_time": "2025-04-09T12:56:00.217Z"
   },
   {
    "duration": 16,
    "start_time": "2025-04-09T12:56:00.242Z"
   },
   {
    "duration": 178,
    "start_time": "2025-04-09T12:56:00.260Z"
   },
   {
    "duration": 14,
    "start_time": "2025-04-09T12:56:00.439Z"
   },
   {
    "duration": 58,
    "start_time": "2025-04-09T12:56:00.454Z"
   },
   {
    "duration": 13,
    "start_time": "2025-04-09T12:56:00.514Z"
   },
   {
    "duration": 13,
    "start_time": "2025-04-09T12:56:00.528Z"
   },
   {
    "duration": 434,
    "start_time": "2025-04-09T12:56:00.543Z"
   },
   {
    "duration": 14,
    "start_time": "2025-04-09T12:56:00.978Z"
   },
   {
    "duration": 94,
    "start_time": "2025-04-09T12:56:00.993Z"
   },
   {
    "duration": 53,
    "start_time": "2025-04-09T12:56:01.088Z"
   },
   {
    "duration": 11,
    "start_time": "2025-04-09T12:56:01.142Z"
   },
   {
    "duration": 24,
    "start_time": "2025-04-09T12:56:01.154Z"
   },
   {
    "duration": 31,
    "start_time": "2025-04-09T12:56:01.180Z"
   },
   {
    "duration": 24,
    "start_time": "2025-04-09T12:56:01.212Z"
   },
   {
    "duration": 24,
    "start_time": "2025-04-09T12:56:01.239Z"
   },
   {
    "duration": 5,
    "start_time": "2025-04-09T12:56:01.265Z"
   },
   {
    "duration": 54,
    "start_time": "2025-04-09T12:56:01.271Z"
   },
   {
    "duration": 585,
    "start_time": "2025-04-09T13:21:45.005Z"
   },
   {
    "duration": 23,
    "start_time": "2025-04-09T13:21:45.592Z"
   },
   {
    "duration": 27,
    "start_time": "2025-04-09T13:21:45.616Z"
   },
   {
    "duration": 19,
    "start_time": "2025-04-09T13:21:45.645Z"
   },
   {
    "duration": 39,
    "start_time": "2025-04-09T13:21:45.666Z"
   },
   {
    "duration": 3,
    "start_time": "2025-04-09T13:21:45.707Z"
   },
   {
    "duration": 81,
    "start_time": "2025-04-09T13:21:45.712Z"
   },
   {
    "duration": 10,
    "start_time": "2025-04-09T13:21:45.795Z"
   },
   {
    "duration": 15,
    "start_time": "2025-04-09T13:21:45.807Z"
   },
   {
    "duration": 28,
    "start_time": "2025-04-09T13:21:45.824Z"
   },
   {
    "duration": 51,
    "start_time": "2025-04-09T13:21:45.853Z"
   },
   {
    "duration": 11,
    "start_time": "2025-04-09T13:21:45.906Z"
   },
   {
    "duration": 8,
    "start_time": "2025-04-09T13:21:45.919Z"
   },
   {
    "duration": 23,
    "start_time": "2025-04-09T13:21:45.931Z"
   },
   {
    "duration": 28,
    "start_time": "2025-04-09T13:21:45.956Z"
   },
   {
    "duration": 17,
    "start_time": "2025-04-09T13:21:45.986Z"
   },
   {
    "duration": 4,
    "start_time": "2025-04-09T13:21:46.005Z"
   },
   {
    "duration": 15,
    "start_time": "2025-04-09T13:21:46.010Z"
   },
   {
    "duration": 22,
    "start_time": "2025-04-09T13:21:46.026Z"
   },
   {
    "duration": 110,
    "start_time": "2025-04-09T13:21:46.049Z"
   },
   {
    "duration": 27,
    "start_time": "2025-04-09T13:21:46.161Z"
   },
   {
    "duration": 21,
    "start_time": "2025-04-09T13:21:46.189Z"
   },
   {
    "duration": 22,
    "start_time": "2025-04-09T13:21:46.212Z"
   },
   {
    "duration": 17,
    "start_time": "2025-04-09T13:21:46.235Z"
   },
   {
    "duration": 6,
    "start_time": "2025-04-09T13:21:46.254Z"
   },
   {
    "duration": 18,
    "start_time": "2025-04-09T13:21:46.262Z"
   },
   {
    "duration": 504,
    "start_time": "2025-04-09T13:21:46.282Z"
   },
   {
    "duration": 14,
    "start_time": "2025-04-09T13:21:46.788Z"
   },
   {
    "duration": 56,
    "start_time": "2025-04-09T13:21:46.803Z"
   },
   {
    "duration": 24,
    "start_time": "2025-04-09T13:21:46.861Z"
   },
   {
    "duration": 8,
    "start_time": "2025-04-09T13:21:46.886Z"
   },
   {
    "duration": 44,
    "start_time": "2025-04-09T13:21:46.896Z"
   },
   {
    "duration": 23,
    "start_time": "2025-04-09T13:21:46.941Z"
   },
   {
    "duration": 23,
    "start_time": "2025-04-09T13:21:46.965Z"
   },
   {
    "duration": 8,
    "start_time": "2025-04-09T13:21:46.989Z"
   },
   {
    "duration": 9,
    "start_time": "2025-04-09T13:21:46.998Z"
   },
   {
    "duration": 22,
    "start_time": "2025-04-09T13:21:47.008Z"
   },
   {
    "duration": 613,
    "start_time": "2025-04-09T13:35:35.271Z"
   },
   {
    "duration": 22,
    "start_time": "2025-04-09T13:35:35.886Z"
   },
   {
    "duration": 24,
    "start_time": "2025-04-09T13:35:35.909Z"
   },
   {
    "duration": 11,
    "start_time": "2025-04-09T13:35:35.935Z"
   },
   {
    "duration": 47,
    "start_time": "2025-04-09T13:35:35.947Z"
   },
   {
    "duration": 3,
    "start_time": "2025-04-09T13:35:35.996Z"
   },
   {
    "duration": 36,
    "start_time": "2025-04-09T13:35:36.000Z"
   },
   {
    "duration": 3,
    "start_time": "2025-04-09T13:35:36.038Z"
   },
   {
    "duration": 14,
    "start_time": "2025-04-09T13:35:36.043Z"
   },
   {
    "duration": 5,
    "start_time": "2025-04-09T13:35:36.060Z"
   },
   {
    "duration": 62,
    "start_time": "2025-04-09T13:35:36.066Z"
   },
   {
    "duration": 51,
    "start_time": "2025-04-09T13:35:36.130Z"
   },
   {
    "duration": 42,
    "start_time": "2025-04-09T13:35:36.183Z"
   },
   {
    "duration": 17,
    "start_time": "2025-04-09T13:35:36.227Z"
   },
   {
    "duration": 34,
    "start_time": "2025-04-09T13:35:36.246Z"
   },
   {
    "duration": 17,
    "start_time": "2025-04-09T13:35:36.281Z"
   },
   {
    "duration": 7,
    "start_time": "2025-04-09T13:35:36.300Z"
   },
   {
    "duration": 39,
    "start_time": "2025-04-09T13:35:36.308Z"
   },
   {
    "duration": 17,
    "start_time": "2025-04-09T13:35:36.349Z"
   },
   {
    "duration": 20,
    "start_time": "2025-04-09T13:35:36.368Z"
   },
   {
    "duration": 22,
    "start_time": "2025-04-09T13:35:36.389Z"
   },
   {
    "duration": 28,
    "start_time": "2025-04-09T13:35:36.412Z"
   },
   {
    "duration": 10,
    "start_time": "2025-04-09T13:35:36.442Z"
   },
   {
    "duration": 19,
    "start_time": "2025-04-09T13:35:36.454Z"
   },
   {
    "duration": 115,
    "start_time": "2025-04-09T13:35:36.475Z"
   },
   {
    "duration": 114,
    "start_time": "2025-04-09T13:35:36.592Z"
   },
   {
    "duration": 478,
    "start_time": "2025-04-09T13:35:36.707Z"
   },
   {
    "duration": 14,
    "start_time": "2025-04-09T13:35:37.188Z"
   },
   {
    "duration": 76,
    "start_time": "2025-04-09T13:35:37.204Z"
   },
   {
    "duration": 89,
    "start_time": "2025-04-09T13:35:37.284Z"
   },
   {
    "duration": 12,
    "start_time": "2025-04-09T13:35:37.375Z"
   },
   {
    "duration": 17,
    "start_time": "2025-04-09T13:35:37.389Z"
   },
   {
    "duration": 37,
    "start_time": "2025-04-09T13:35:37.408Z"
   },
   {
    "duration": 31,
    "start_time": "2025-04-09T13:35:37.446Z"
   },
   {
    "duration": 8,
    "start_time": "2025-04-09T13:35:37.479Z"
   },
   {
    "duration": 9,
    "start_time": "2025-04-09T13:35:37.489Z"
   },
   {
    "duration": 33,
    "start_time": "2025-04-09T13:35:37.500Z"
   },
   {
    "duration": 97,
    "start_time": "2025-04-09T14:31:53.111Z"
   },
   {
    "duration": 77,
    "start_time": "2025-04-09T14:38:06.455Z"
   }
  ],
  "colab": {
   "name": "dpp_template_part2.ipynb",
   "provenance": []
  },
  "kernelspec": {
   "display_name": "venv",
   "language": "python",
   "name": "python3"
  },
  "language_info": {
   "codemirror_mode": {
    "name": "ipython",
    "version": 3
   },
   "file_extension": ".py",
   "mimetype": "text/x-python",
   "name": "python",
   "nbconvert_exporter": "python",
   "pygments_lexer": "ipython3",
   "version": "3.12.11"
  },
  "toc": {
   "base_numbering": 1,
   "nav_menu": {},
   "number_sections": true,
   "sideBar": true,
   "skip_h1_title": true,
   "title_cell": "Table of Contents",
   "title_sidebar": "Contents",
   "toc_cell": false,
   "toc_position": {},
   "toc_section_display": true,
   "toc_window_display": false
  }
 },
 "nbformat": 4,
 "nbformat_minor": 5
}
