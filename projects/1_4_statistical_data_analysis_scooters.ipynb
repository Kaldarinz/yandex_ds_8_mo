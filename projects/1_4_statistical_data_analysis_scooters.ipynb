{
 "cells": [
  {
   "cell_type": "markdown",
   "id": "d3f63da3",
   "metadata": {},
   "source": [
    "<a class=\"ancor\" id=\"0-bullet\"></a>\n",
    "## Оглавление"
   ]
  },
  {
   "cell_type": "markdown",
   "id": "9c068d9c",
   "metadata": {},
   "source": [
    "* [Загрузка данных](#1-bullet)\n",
    "* [Предобработка данных](#2-bullet)\n",
    "  * [Корректировка типов](#3-bullet)\n",
    "  * [Категоризация](#4-bullet)\n",
    "  * [Дубликаты](#5-bullet)\n",
    "  * [Аномальные значения](#6-bullet)\n",
    "  * [Выводы](#7-bullet)\n",
    "* [Исследовательский анализ данных](#8-bullet)\n",
    "  * [Частота встречаемости городов](#9-bullet)\n",
    "  * [Соотношение пользователей с подпиской и без](#10-bullet)\n",
    "  * [Возраст пользователей](#11-bullet)\n",
    "  * [Дистанция поездок](#12-bullet)\n",
    "  * [Продолжительность поездок](#13-bullet)\n",
    "  * [Cкорость поездок](#14-bullet)\n",
    "  * [Выводы](#15-bullet)\n",
    "* [Объединение данных](#16-bullet)\n",
    "  * [Создание вспомогательных таблиц для пользователей с/без подписки](#17-bullet)\n",
    "  * [Визуализация данных для пользователей с/без подписки](#18-bullet)\n",
    "  * [Выводы](#19-bullet)\n",
    "* [Подсчёт выручки](#20-bullet)\n",
    "  * [Аггрегация данных по пользователям и месяцам](#21-bullet)\n",
    "  * [Выводы](#22-bullet)\n",
    "* [Проверка гипотез](#23-bullet)\n",
    "  * [Влияние подписки на длительность поездки](#24-bullet)\n",
    "  * [Дистанция поездок пользователей с подпиской](#25-bullet)\n",
    "  * [Влияние подписки на выручку](#26-bullet)\n",
    "  * [Влияние обновления серверов на количество обращений в поддержку](#27-bullet)\n",
    "  * [Выводы](#28-bullet)\n",
    "* [Общие выводы](#29-bullet)\n",
    "* [Распределения](#30-bullet)\n",
    "  * [Промокоды с беплатной подпиской](#31-bullet)\n",
    "  * [Пуш-уведомления](#32-bullet)"
   ]
  },
  {
   "cell_type": "code",
   "execution_count": 1,
   "id": "72576667",
   "metadata": {},
   "outputs": [],
   "source": [
    "import math\n",
    "\n",
    "from matplotlib import pyplot as plt\n",
    "import numpy as np\n",
    "import pandas as pd\n",
    "from scipy import stats"
   ]
  },
  {
   "cell_type": "markdown",
   "id": "c42cbe00",
   "metadata": {},
   "source": [
    "<a class=\"ancor\" id=\"1-bullet\"></a>\n",
    "## Шаг 1. Загрузка данных"
   ]
  },
  {
   "cell_type": "code",
   "execution_count": 2,
   "id": "526f2db9",
   "metadata": {},
   "outputs": [],
   "source": [
    "try:\n",
    "    df_rides = pd.read_csv(\"/datasets/rides_go.csv\")\n",
    "    df_subs = pd.read_csv(\"/datasets/subscriptions_go.csv\")\n",
    "    df_users = pd.read_csv(\"/datasets/users_go.csv\")\n",
    "except FileNotFoundError:\n",
    "    df_rides = pd.read_csv(\"../data/1_4_statistical_data_analysis_rides_go.csv\")\n",
    "    df_subs = pd.read_csv(\"../data/1_4_statistical_data_analysis_subscriptions_go.csv\")\n",
    "    df_users = pd.read_csv(\"../data/1_4_statistical_data_analysis_users_go.csv\")"
   ]
  },
  {
   "cell_type": "code",
   "execution_count": 3,
   "id": "c186e1b7",
   "metadata": {},
   "outputs": [
    {
     "data": {
      "application/vnd.microsoft.datawrangler.viewer.v0+json": {
       "columns": [
        {
         "name": "index",
         "rawType": "int64",
         "type": "integer"
        },
        {
         "name": "user_id",
         "rawType": "int64",
         "type": "integer"
        },
        {
         "name": "distance",
         "rawType": "float64",
         "type": "float"
        },
        {
         "name": "duration",
         "rawType": "float64",
         "type": "float"
        },
        {
         "name": "date",
         "rawType": "object",
         "type": "string"
        }
       ],
       "ref": "1d7136e1-82c4-4e99-a4f4-6603a206e6f4",
       "rows": [
        [
         "15095",
         "1323",
         "634.9375002523072",
         "8.523850000605538",
         "2021-02-28"
        ],
        [
         "200",
         "21",
         "3245.352628435748",
         "14.211894729857216",
         "2021-03-19"
        ],
        [
         "5711",
         "610",
         "2838.9435824451866",
         "26.194717912225933",
         "2021-08-29"
        ],
        [
         "17585",
         "1501",
         "1258.2428951688548",
         "11.774728685506563",
         "2021-11-06"
        ],
        [
         "17762",
         "1514",
         "2540.135864413801",
         "8.443148280886717",
         "2021-01-30"
        ],
        [
         "5426",
         "580",
         "2759.015171098779",
         "14.882900488853654",
         "2021-02-27"
        ],
        [
         "13754",
         "1228",
         "4297.642167770688",
         "28.83527154355702",
         "2021-02-22"
        ],
        [
         "1087",
         "116",
         "2853.6955398964574",
         "15.34154564421435",
         "2021-10-12"
        ],
        [
         "7220",
         "750",
         "3244.815614794438",
         "14.489631229588875",
         "2021-07-14"
        ],
        [
         "14698",
         "1294",
         "4020.8644617352697",
         "19.06259338520581",
         "2021-11-04"
        ]
       ],
       "shape": {
        "columns": 4,
        "rows": 10
       }
      },
      "text/html": [
       "<div>\n",
       "<style scoped>\n",
       "    .dataframe tbody tr th:only-of-type {\n",
       "        vertical-align: middle;\n",
       "    }\n",
       "\n",
       "    .dataframe tbody tr th {\n",
       "        vertical-align: top;\n",
       "    }\n",
       "\n",
       "    .dataframe thead th {\n",
       "        text-align: right;\n",
       "    }\n",
       "</style>\n",
       "<table border=\"1\" class=\"dataframe\">\n",
       "  <thead>\n",
       "    <tr style=\"text-align: right;\">\n",
       "      <th></th>\n",
       "      <th>user_id</th>\n",
       "      <th>distance</th>\n",
       "      <th>duration</th>\n",
       "      <th>date</th>\n",
       "    </tr>\n",
       "  </thead>\n",
       "  <tbody>\n",
       "    <tr>\n",
       "      <th>15095</th>\n",
       "      <td>1323</td>\n",
       "      <td>634.937500</td>\n",
       "      <td>8.523850</td>\n",
       "      <td>2021-02-28</td>\n",
       "    </tr>\n",
       "    <tr>\n",
       "      <th>200</th>\n",
       "      <td>21</td>\n",
       "      <td>3245.352628</td>\n",
       "      <td>14.211895</td>\n",
       "      <td>2021-03-19</td>\n",
       "    </tr>\n",
       "    <tr>\n",
       "      <th>5711</th>\n",
       "      <td>610</td>\n",
       "      <td>2838.943582</td>\n",
       "      <td>26.194718</td>\n",
       "      <td>2021-08-29</td>\n",
       "    </tr>\n",
       "    <tr>\n",
       "      <th>17585</th>\n",
       "      <td>1501</td>\n",
       "      <td>1258.242895</td>\n",
       "      <td>11.774729</td>\n",
       "      <td>2021-11-06</td>\n",
       "    </tr>\n",
       "    <tr>\n",
       "      <th>17762</th>\n",
       "      <td>1514</td>\n",
       "      <td>2540.135864</td>\n",
       "      <td>8.443148</td>\n",
       "      <td>2021-01-30</td>\n",
       "    </tr>\n",
       "    <tr>\n",
       "      <th>5426</th>\n",
       "      <td>580</td>\n",
       "      <td>2759.015171</td>\n",
       "      <td>14.882900</td>\n",
       "      <td>2021-02-27</td>\n",
       "    </tr>\n",
       "    <tr>\n",
       "      <th>13754</th>\n",
       "      <td>1228</td>\n",
       "      <td>4297.642168</td>\n",
       "      <td>28.835272</td>\n",
       "      <td>2021-02-22</td>\n",
       "    </tr>\n",
       "    <tr>\n",
       "      <th>1087</th>\n",
       "      <td>116</td>\n",
       "      <td>2853.695540</td>\n",
       "      <td>15.341546</td>\n",
       "      <td>2021-10-12</td>\n",
       "    </tr>\n",
       "    <tr>\n",
       "      <th>7220</th>\n",
       "      <td>750</td>\n",
       "      <td>3244.815615</td>\n",
       "      <td>14.489631</td>\n",
       "      <td>2021-07-14</td>\n",
       "    </tr>\n",
       "    <tr>\n",
       "      <th>14698</th>\n",
       "      <td>1294</td>\n",
       "      <td>4020.864462</td>\n",
       "      <td>19.062593</td>\n",
       "      <td>2021-11-04</td>\n",
       "    </tr>\n",
       "  </tbody>\n",
       "</table>\n",
       "</div>"
      ],
      "text/plain": [
       "       user_id     distance   duration        date\n",
       "15095     1323   634.937500   8.523850  2021-02-28\n",
       "200         21  3245.352628  14.211895  2021-03-19\n",
       "5711       610  2838.943582  26.194718  2021-08-29\n",
       "17585     1501  1258.242895  11.774729  2021-11-06\n",
       "17762     1514  2540.135864   8.443148  2021-01-30\n",
       "5426       580  2759.015171  14.882900  2021-02-27\n",
       "13754     1228  4297.642168  28.835272  2021-02-22\n",
       "1087       116  2853.695540  15.341546  2021-10-12\n",
       "7220       750  3244.815615  14.489631  2021-07-14\n",
       "14698     1294  4020.864462  19.062593  2021-11-04"
      ]
     },
     "execution_count": 3,
     "metadata": {},
     "output_type": "execute_result"
    }
   ],
   "source": [
    "df_rides.sample(10, random_state=42)"
   ]
  },
  {
   "cell_type": "code",
   "execution_count": null,
   "id": "3b462744",
   "metadata": {},
   "outputs": [
    {
     "name": "stdout",
     "output_type": "stream",
     "text": [
      "<class 'pandas.core.frame.DataFrame'>\n",
      "RangeIndex: 18068 entries, 0 to 18067\n",
      "Data columns (total 4 columns):\n",
      " #   Column    Non-Null Count  Dtype  \n",
      "---  ------    --------------  -----  \n",
      " 0   user_id   18068 non-null  int64  \n",
      " 1   distance  18068 non-null  float64\n",
      " 2   duration  18068 non-null  float64\n",
      " 3   date      18068 non-null  object \n",
      "dtypes: float64(2), int64(1), object(1)\n",
      "memory usage: 564.8+ KB\n"
     ]
    }
   ],
   "source": [
    "df_rides.info()"
   ]
  },
  {
   "cell_type": "code",
   "execution_count": 5,
   "id": "2c23d5db",
   "metadata": {},
   "outputs": [
    {
     "data": {
      "application/vnd.microsoft.datawrangler.viewer.v0+json": {
       "columns": [
        {
         "name": "index",
         "rawType": "int64",
         "type": "integer"
        },
        {
         "name": "subscription_type",
         "rawType": "object",
         "type": "string"
        },
        {
         "name": "minute_price",
         "rawType": "int64",
         "type": "integer"
        },
        {
         "name": "start_ride_price",
         "rawType": "int64",
         "type": "integer"
        },
        {
         "name": "subscription_fee",
         "rawType": "int64",
         "type": "integer"
        }
       ],
       "ref": "c41423b0-f648-4d81-ae60-7c1dadf54f96",
       "rows": [
        [
         "0",
         "free",
         "8",
         "50",
         "0"
        ],
        [
         "1",
         "ultra",
         "6",
         "0",
         "199"
        ]
       ],
       "shape": {
        "columns": 4,
        "rows": 2
       }
      },
      "text/html": [
       "<div>\n",
       "<style scoped>\n",
       "    .dataframe tbody tr th:only-of-type {\n",
       "        vertical-align: middle;\n",
       "    }\n",
       "\n",
       "    .dataframe tbody tr th {\n",
       "        vertical-align: top;\n",
       "    }\n",
       "\n",
       "    .dataframe thead th {\n",
       "        text-align: right;\n",
       "    }\n",
       "</style>\n",
       "<table border=\"1\" class=\"dataframe\">\n",
       "  <thead>\n",
       "    <tr style=\"text-align: right;\">\n",
       "      <th></th>\n",
       "      <th>subscription_type</th>\n",
       "      <th>minute_price</th>\n",
       "      <th>start_ride_price</th>\n",
       "      <th>subscription_fee</th>\n",
       "    </tr>\n",
       "  </thead>\n",
       "  <tbody>\n",
       "    <tr>\n",
       "      <th>0</th>\n",
       "      <td>free</td>\n",
       "      <td>8</td>\n",
       "      <td>50</td>\n",
       "      <td>0</td>\n",
       "    </tr>\n",
       "    <tr>\n",
       "      <th>1</th>\n",
       "      <td>ultra</td>\n",
       "      <td>6</td>\n",
       "      <td>0</td>\n",
       "      <td>199</td>\n",
       "    </tr>\n",
       "  </tbody>\n",
       "</table>\n",
       "</div>"
      ],
      "text/plain": [
       "  subscription_type  minute_price  start_ride_price  subscription_fee\n",
       "0              free             8                50                 0\n",
       "1             ultra             6                 0               199"
      ]
     },
     "execution_count": 5,
     "metadata": {},
     "output_type": "execute_result"
    }
   ],
   "source": [
    "df_subs"
   ]
  },
  {
   "cell_type": "code",
   "execution_count": 6,
   "id": "9bbf292a",
   "metadata": {},
   "outputs": [
    {
     "data": {
      "application/vnd.microsoft.datawrangler.viewer.v0+json": {
       "columns": [
        {
         "name": "index",
         "rawType": "int64",
         "type": "integer"
        },
        {
         "name": "user_id",
         "rawType": "int64",
         "type": "integer"
        },
        {
         "name": "name",
         "rawType": "object",
         "type": "string"
        },
        {
         "name": "age",
         "rawType": "int64",
         "type": "integer"
        },
        {
         "name": "city",
         "rawType": "object",
         "type": "string"
        },
        {
         "name": "subscription_type",
         "rawType": "object",
         "type": "string"
        }
       ],
       "ref": "ad63fbd4-ba08-4b66-beab-1de7581f46cc",
       "rows": [
        [
         "527",
         "528",
         "Степан",
         "20",
         "Екатеринбург",
         "ultra"
        ],
        [
         "271",
         "272",
         "Любовь",
         "21",
         "Омск",
         "ultra"
        ],
        [
         "1402",
         "1403",
         "Алёна",
         "21",
         "Омск",
         "free"
        ],
        [
         "1201",
         "1202",
         "Ангелина",
         "43",
         "Москва",
         "free"
        ],
        [
         "59",
         "60",
         "Алиса",
         "19",
         "Омск",
         "ultra"
        ],
        [
         "1514",
         "1515",
         "Самир",
         "22",
         "Омск",
         "free"
        ],
        [
         "438",
         "439",
         "Тимур",
         "27",
         "Краснодар",
         "ultra"
        ],
        [
         "331",
         "332",
         "Василий",
         "21",
         "Тюмень",
         "ultra"
        ],
        [
         "1084",
         "1085",
         "Глеб",
         "24",
         "Пятигорск",
         "free"
        ],
        [
         "682",
         "683",
         "Лев",
         "27",
         "Сочи",
         "ultra"
        ]
       ],
       "shape": {
        "columns": 5,
        "rows": 10
       }
      },
      "text/html": [
       "<div>\n",
       "<style scoped>\n",
       "    .dataframe tbody tr th:only-of-type {\n",
       "        vertical-align: middle;\n",
       "    }\n",
       "\n",
       "    .dataframe tbody tr th {\n",
       "        vertical-align: top;\n",
       "    }\n",
       "\n",
       "    .dataframe thead th {\n",
       "        text-align: right;\n",
       "    }\n",
       "</style>\n",
       "<table border=\"1\" class=\"dataframe\">\n",
       "  <thead>\n",
       "    <tr style=\"text-align: right;\">\n",
       "      <th></th>\n",
       "      <th>user_id</th>\n",
       "      <th>name</th>\n",
       "      <th>age</th>\n",
       "      <th>city</th>\n",
       "      <th>subscription_type</th>\n",
       "    </tr>\n",
       "  </thead>\n",
       "  <tbody>\n",
       "    <tr>\n",
       "      <th>527</th>\n",
       "      <td>528</td>\n",
       "      <td>Степан</td>\n",
       "      <td>20</td>\n",
       "      <td>Екатеринбург</td>\n",
       "      <td>ultra</td>\n",
       "    </tr>\n",
       "    <tr>\n",
       "      <th>271</th>\n",
       "      <td>272</td>\n",
       "      <td>Любовь</td>\n",
       "      <td>21</td>\n",
       "      <td>Омск</td>\n",
       "      <td>ultra</td>\n",
       "    </tr>\n",
       "    <tr>\n",
       "      <th>1402</th>\n",
       "      <td>1403</td>\n",
       "      <td>Алёна</td>\n",
       "      <td>21</td>\n",
       "      <td>Омск</td>\n",
       "      <td>free</td>\n",
       "    </tr>\n",
       "    <tr>\n",
       "      <th>1201</th>\n",
       "      <td>1202</td>\n",
       "      <td>Ангелина</td>\n",
       "      <td>43</td>\n",
       "      <td>Москва</td>\n",
       "      <td>free</td>\n",
       "    </tr>\n",
       "    <tr>\n",
       "      <th>59</th>\n",
       "      <td>60</td>\n",
       "      <td>Алиса</td>\n",
       "      <td>19</td>\n",
       "      <td>Омск</td>\n",
       "      <td>ultra</td>\n",
       "    </tr>\n",
       "    <tr>\n",
       "      <th>1514</th>\n",
       "      <td>1515</td>\n",
       "      <td>Самир</td>\n",
       "      <td>22</td>\n",
       "      <td>Омск</td>\n",
       "      <td>free</td>\n",
       "    </tr>\n",
       "    <tr>\n",
       "      <th>438</th>\n",
       "      <td>439</td>\n",
       "      <td>Тимур</td>\n",
       "      <td>27</td>\n",
       "      <td>Краснодар</td>\n",
       "      <td>ultra</td>\n",
       "    </tr>\n",
       "    <tr>\n",
       "      <th>331</th>\n",
       "      <td>332</td>\n",
       "      <td>Василий</td>\n",
       "      <td>21</td>\n",
       "      <td>Тюмень</td>\n",
       "      <td>ultra</td>\n",
       "    </tr>\n",
       "    <tr>\n",
       "      <th>1084</th>\n",
       "      <td>1085</td>\n",
       "      <td>Глеб</td>\n",
       "      <td>24</td>\n",
       "      <td>Пятигорск</td>\n",
       "      <td>free</td>\n",
       "    </tr>\n",
       "    <tr>\n",
       "      <th>682</th>\n",
       "      <td>683</td>\n",
       "      <td>Лев</td>\n",
       "      <td>27</td>\n",
       "      <td>Сочи</td>\n",
       "      <td>ultra</td>\n",
       "    </tr>\n",
       "  </tbody>\n",
       "</table>\n",
       "</div>"
      ],
      "text/plain": [
       "      user_id      name  age          city subscription_type\n",
       "527       528    Степан   20  Екатеринбург             ultra\n",
       "271       272    Любовь   21          Омск             ultra\n",
       "1402     1403     Алёна   21          Омск              free\n",
       "1201     1202  Ангелина   43        Москва              free\n",
       "59         60     Алиса   19          Омск             ultra\n",
       "1514     1515     Самир   22          Омск              free\n",
       "438       439     Тимур   27     Краснодар             ultra\n",
       "331       332   Василий   21        Тюмень             ultra\n",
       "1084     1085      Глеб   24     Пятигорск              free\n",
       "682       683       Лев   27          Сочи             ultra"
      ]
     },
     "execution_count": 6,
     "metadata": {},
     "output_type": "execute_result"
    }
   ],
   "source": [
    "df_users.sample(10, random_state=42)"
   ]
  },
  {
   "cell_type": "code",
   "execution_count": 7,
   "id": "cac07aab",
   "metadata": {},
   "outputs": [
    {
     "name": "stdout",
     "output_type": "stream",
     "text": [
      "<class 'pandas.core.frame.DataFrame'>\n",
      "RangeIndex: 1565 entries, 0 to 1564\n",
      "Data columns (total 5 columns):\n",
      " #   Column             Non-Null Count  Dtype \n",
      "---  ------             --------------  ----- \n",
      " 0   user_id            1565 non-null   int64 \n",
      " 1   name               1565 non-null   object\n",
      " 2   age                1565 non-null   int64 \n",
      " 3   city               1565 non-null   object\n",
      " 4   subscription_type  1565 non-null   object\n",
      "dtypes: int64(2), object(3)\n",
      "memory usage: 61.3+ KB\n"
     ]
    }
   ],
   "source": [
    "df_users.info()"
   ]
  },
  {
   "cell_type": "markdown",
   "id": "6e18f162",
   "metadata": {},
   "source": [
    "### Выводы\n",
    "\n",
    "Данные загрузились успешно.\n",
    "Пропусков в данных не видно, особых проблем с данными тоже.\n",
    "\n",
    "Данные загружены в 3 таблицы:\n",
    "* df_rides - информация о поездках\n",
    "* df_users - информация о пользователях\n",
    "* df_subs - информация о подписках"
   ]
  },
  {
   "cell_type": "markdown",
   "id": "bbf230cc",
   "metadata": {},
   "source": [
    "[Оглавление](#0-bullet)"
   ]
  },
  {
   "cell_type": "markdown",
   "id": "e95ebca7",
   "metadata": {},
   "source": [
    "<a class=\"ancor\" id=\"2-bullet\"></a>\n",
    "## Шаг 2. Предобработка данных"
   ]
  },
  {
   "cell_type": "markdown",
   "id": "2ab0e661",
   "metadata": {},
   "source": [
    "<a class=\"ancor\" id=\"3-bullet\"></a>\n",
    "\n",
    "### Корректировка типов"
   ]
  },
  {
   "cell_type": "code",
   "execution_count": 8,
   "id": "53d8f5dc",
   "metadata": {},
   "outputs": [
    {
     "data": {
      "application/vnd.microsoft.datawrangler.viewer.v0+json": {
       "columns": [
        {
         "name": "index",
         "rawType": "int64",
         "type": "integer"
        },
        {
         "name": "user_id",
         "rawType": "int64",
         "type": "integer"
        },
        {
         "name": "distance",
         "rawType": "float64",
         "type": "float"
        },
        {
         "name": "duration",
         "rawType": "float64",
         "type": "float"
        },
        {
         "name": "date",
         "rawType": "datetime64[ns]",
         "type": "datetime"
        }
       ],
       "ref": "0ef466be-febd-4a5e-90ae-20850270eda5",
       "rows": [
        [
         "15095",
         "1323",
         "634.9375002523072",
         "8.523850000605538",
         "2021-02-28 00:00:00"
        ],
        [
         "200",
         "21",
         "3245.352628435748",
         "14.211894729857216",
         "2021-03-19 00:00:00"
        ],
        [
         "5711",
         "610",
         "2838.9435824451866",
         "26.194717912225933",
         "2021-08-29 00:00:00"
        ],
        [
         "17585",
         "1501",
         "1258.2428951688548",
         "11.774728685506563",
         "2021-11-06 00:00:00"
        ],
        [
         "17762",
         "1514",
         "2540.135864413801",
         "8.443148280886717",
         "2021-01-30 00:00:00"
        ],
        [
         "5426",
         "580",
         "2759.015171098779",
         "14.882900488853654",
         "2021-02-27 00:00:00"
        ],
        [
         "13754",
         "1228",
         "4297.642167770688",
         "28.83527154355702",
         "2021-02-22 00:00:00"
        ],
        [
         "1087",
         "116",
         "2853.6955398964574",
         "15.34154564421435",
         "2021-10-12 00:00:00"
        ],
        [
         "7220",
         "750",
         "3244.815614794438",
         "14.489631229588875",
         "2021-07-14 00:00:00"
        ],
        [
         "14698",
         "1294",
         "4020.8644617352697",
         "19.06259338520581",
         "2021-11-04 00:00:00"
        ]
       ],
       "shape": {
        "columns": 4,
        "rows": 10
       }
      },
      "text/html": [
       "<div>\n",
       "<style scoped>\n",
       "    .dataframe tbody tr th:only-of-type {\n",
       "        vertical-align: middle;\n",
       "    }\n",
       "\n",
       "    .dataframe tbody tr th {\n",
       "        vertical-align: top;\n",
       "    }\n",
       "\n",
       "    .dataframe thead th {\n",
       "        text-align: right;\n",
       "    }\n",
       "</style>\n",
       "<table border=\"1\" class=\"dataframe\">\n",
       "  <thead>\n",
       "    <tr style=\"text-align: right;\">\n",
       "      <th></th>\n",
       "      <th>user_id</th>\n",
       "      <th>distance</th>\n",
       "      <th>duration</th>\n",
       "      <th>date</th>\n",
       "    </tr>\n",
       "  </thead>\n",
       "  <tbody>\n",
       "    <tr>\n",
       "      <th>15095</th>\n",
       "      <td>1323</td>\n",
       "      <td>634.937500</td>\n",
       "      <td>8.523850</td>\n",
       "      <td>2021-02-28</td>\n",
       "    </tr>\n",
       "    <tr>\n",
       "      <th>200</th>\n",
       "      <td>21</td>\n",
       "      <td>3245.352628</td>\n",
       "      <td>14.211895</td>\n",
       "      <td>2021-03-19</td>\n",
       "    </tr>\n",
       "    <tr>\n",
       "      <th>5711</th>\n",
       "      <td>610</td>\n",
       "      <td>2838.943582</td>\n",
       "      <td>26.194718</td>\n",
       "      <td>2021-08-29</td>\n",
       "    </tr>\n",
       "    <tr>\n",
       "      <th>17585</th>\n",
       "      <td>1501</td>\n",
       "      <td>1258.242895</td>\n",
       "      <td>11.774729</td>\n",
       "      <td>2021-11-06</td>\n",
       "    </tr>\n",
       "    <tr>\n",
       "      <th>17762</th>\n",
       "      <td>1514</td>\n",
       "      <td>2540.135864</td>\n",
       "      <td>8.443148</td>\n",
       "      <td>2021-01-30</td>\n",
       "    </tr>\n",
       "    <tr>\n",
       "      <th>5426</th>\n",
       "      <td>580</td>\n",
       "      <td>2759.015171</td>\n",
       "      <td>14.882900</td>\n",
       "      <td>2021-02-27</td>\n",
       "    </tr>\n",
       "    <tr>\n",
       "      <th>13754</th>\n",
       "      <td>1228</td>\n",
       "      <td>4297.642168</td>\n",
       "      <td>28.835272</td>\n",
       "      <td>2021-02-22</td>\n",
       "    </tr>\n",
       "    <tr>\n",
       "      <th>1087</th>\n",
       "      <td>116</td>\n",
       "      <td>2853.695540</td>\n",
       "      <td>15.341546</td>\n",
       "      <td>2021-10-12</td>\n",
       "    </tr>\n",
       "    <tr>\n",
       "      <th>7220</th>\n",
       "      <td>750</td>\n",
       "      <td>3244.815615</td>\n",
       "      <td>14.489631</td>\n",
       "      <td>2021-07-14</td>\n",
       "    </tr>\n",
       "    <tr>\n",
       "      <th>14698</th>\n",
       "      <td>1294</td>\n",
       "      <td>4020.864462</td>\n",
       "      <td>19.062593</td>\n",
       "      <td>2021-11-04</td>\n",
       "    </tr>\n",
       "  </tbody>\n",
       "</table>\n",
       "</div>"
      ],
      "text/plain": [
       "       user_id     distance   duration       date\n",
       "15095     1323   634.937500   8.523850 2021-02-28\n",
       "200         21  3245.352628  14.211895 2021-03-19\n",
       "5711       610  2838.943582  26.194718 2021-08-29\n",
       "17585     1501  1258.242895  11.774729 2021-11-06\n",
       "17762     1514  2540.135864   8.443148 2021-01-30\n",
       "5426       580  2759.015171  14.882900 2021-02-27\n",
       "13754     1228  4297.642168  28.835272 2021-02-22\n",
       "1087       116  2853.695540  15.341546 2021-10-12\n",
       "7220       750  3244.815615  14.489631 2021-07-14\n",
       "14698     1294  4020.864462  19.062593 2021-11-04"
      ]
     },
     "execution_count": 8,
     "metadata": {},
     "output_type": "execute_result"
    }
   ],
   "source": [
    "df_rides[\"date\"] = pd.to_datetime(df_rides[\"date\"], format=\"%Y-%m-%d\")\n",
    "df_rides.sample(10, random_state=42)"
   ]
  },
  {
   "cell_type": "markdown",
   "id": "f86acb8f",
   "metadata": {},
   "source": [
    "<a class=\"ancor\" id=\"4-bullet\"></a>\n",
    "### Категоризация\n",
    "\n",
    "Добавим колонку с месяцем поездки"
   ]
  },
  {
   "cell_type": "code",
   "execution_count": 9,
   "id": "07fc59b1",
   "metadata": {},
   "outputs": [
    {
     "data": {
      "application/vnd.microsoft.datawrangler.viewer.v0+json": {
       "columns": [
        {
         "name": "index",
         "rawType": "int64",
         "type": "integer"
        },
        {
         "name": "date",
         "rawType": "datetime64[ns]",
         "type": "datetime"
        },
        {
         "name": "month",
         "rawType": "category",
         "type": "unknown"
        }
       ],
       "ref": "2d0d89da-65e5-4bce-bc05-3613a91bfa2f",
       "rows": [
        [
         "15095",
         "2021-02-28 00:00:00",
         "February"
        ],
        [
         "200",
         "2021-03-19 00:00:00",
         "March"
        ],
        [
         "5711",
         "2021-08-29 00:00:00",
         "August"
        ],
        [
         "17585",
         "2021-11-06 00:00:00",
         "November"
        ],
        [
         "17762",
         "2021-01-30 00:00:00",
         "January"
        ],
        [
         "5426",
         "2021-02-27 00:00:00",
         "February"
        ],
        [
         "13754",
         "2021-02-22 00:00:00",
         "February"
        ],
        [
         "1087",
         "2021-10-12 00:00:00",
         "October"
        ],
        [
         "7220",
         "2021-07-14 00:00:00",
         "July"
        ],
        [
         "14698",
         "2021-11-04 00:00:00",
         "November"
        ]
       ],
       "shape": {
        "columns": 2,
        "rows": 10
       }
      },
      "text/html": [
       "<div>\n",
       "<style scoped>\n",
       "    .dataframe tbody tr th:only-of-type {\n",
       "        vertical-align: middle;\n",
       "    }\n",
       "\n",
       "    .dataframe tbody tr th {\n",
       "        vertical-align: top;\n",
       "    }\n",
       "\n",
       "    .dataframe thead th {\n",
       "        text-align: right;\n",
       "    }\n",
       "</style>\n",
       "<table border=\"1\" class=\"dataframe\">\n",
       "  <thead>\n",
       "    <tr style=\"text-align: right;\">\n",
       "      <th></th>\n",
       "      <th>date</th>\n",
       "      <th>month</th>\n",
       "    </tr>\n",
       "  </thead>\n",
       "  <tbody>\n",
       "    <tr>\n",
       "      <th>15095</th>\n",
       "      <td>2021-02-28</td>\n",
       "      <td>February</td>\n",
       "    </tr>\n",
       "    <tr>\n",
       "      <th>200</th>\n",
       "      <td>2021-03-19</td>\n",
       "      <td>March</td>\n",
       "    </tr>\n",
       "    <tr>\n",
       "      <th>5711</th>\n",
       "      <td>2021-08-29</td>\n",
       "      <td>August</td>\n",
       "    </tr>\n",
       "    <tr>\n",
       "      <th>17585</th>\n",
       "      <td>2021-11-06</td>\n",
       "      <td>November</td>\n",
       "    </tr>\n",
       "    <tr>\n",
       "      <th>17762</th>\n",
       "      <td>2021-01-30</td>\n",
       "      <td>January</td>\n",
       "    </tr>\n",
       "    <tr>\n",
       "      <th>5426</th>\n",
       "      <td>2021-02-27</td>\n",
       "      <td>February</td>\n",
       "    </tr>\n",
       "    <tr>\n",
       "      <th>13754</th>\n",
       "      <td>2021-02-22</td>\n",
       "      <td>February</td>\n",
       "    </tr>\n",
       "    <tr>\n",
       "      <th>1087</th>\n",
       "      <td>2021-10-12</td>\n",
       "      <td>October</td>\n",
       "    </tr>\n",
       "    <tr>\n",
       "      <th>7220</th>\n",
       "      <td>2021-07-14</td>\n",
       "      <td>July</td>\n",
       "    </tr>\n",
       "    <tr>\n",
       "      <th>14698</th>\n",
       "      <td>2021-11-04</td>\n",
       "      <td>November</td>\n",
       "    </tr>\n",
       "  </tbody>\n",
       "</table>\n",
       "</div>"
      ],
      "text/plain": [
       "            date     month\n",
       "15095 2021-02-28  February\n",
       "200   2021-03-19     March\n",
       "5711  2021-08-29    August\n",
       "17585 2021-11-06  November\n",
       "17762 2021-01-30   January\n",
       "5426  2021-02-27  February\n",
       "13754 2021-02-22  February\n",
       "1087  2021-10-12   October\n",
       "7220  2021-07-14      July\n",
       "14698 2021-11-04  November"
      ]
     },
     "execution_count": 9,
     "metadata": {},
     "output_type": "execute_result"
    }
   ],
   "source": [
    "df_rides[\"month\"] = df_rides[\"date\"].dt.month_name()\n",
    "df_rides[\"month\"] = pd.Categorical(\n",
    "    df_rides[\"month\"],\n",
    "    categories=[\n",
    "        \"January\",\n",
    "        \"February\",\n",
    "        \"March\",\n",
    "        \"April\",\n",
    "        \"May\",\n",
    "        \"June\",\n",
    "        \"July\",\n",
    "        \"August\",\n",
    "        \"September\",\n",
    "        \"October\",\n",
    "        \"November\",\n",
    "        \"December\",\n",
    "    ],\n",
    "    ordered=True,\n",
    ")\n",
    "df_rides[[\"date\", \"month\"]].sample(10, random_state=42)"
   ]
  },
  {
   "cell_type": "code",
   "execution_count": 10,
   "id": "d6b4ce99",
   "metadata": {},
   "outputs": [
    {
     "data": {
      "application/vnd.microsoft.datawrangler.viewer.v0+json": {
       "columns": [
        {
         "name": "index",
         "rawType": "object",
         "type": "string"
        },
        {
         "name": "date",
         "rawType": "object",
         "type": "unknown"
        }
       ],
       "ref": "50fd1289-2cf6-46f6-930d-b8b514acf220",
       "rows": [
        [
         "count",
         "18068"
        ],
        [
         "mean",
         "2021-06-30 19:47:21.266327296"
        ],
        [
         "min",
         "2021-01-01 00:00:00"
        ],
        [
         "25%",
         "2021-04-02 00:00:00"
        ],
        [
         "50%",
         "2021-06-30 00:00:00"
        ],
        [
         "75%",
         "2021-09-28 00:00:00"
        ],
        [
         "max",
         "2021-12-30 00:00:00"
        ]
       ],
       "shape": {
        "columns": 1,
        "rows": 7
       }
      },
      "text/plain": [
       "count                            18068\n",
       "mean     2021-06-30 19:47:21.266327296\n",
       "min                2021-01-01 00:00:00\n",
       "25%                2021-04-02 00:00:00\n",
       "50%                2021-06-30 00:00:00\n",
       "75%                2021-09-28 00:00:00\n",
       "max                2021-12-30 00:00:00\n",
       "Name: date, dtype: object"
      ]
     },
     "execution_count": 10,
     "metadata": {},
     "output_type": "execute_result"
    }
   ],
   "source": [
    "df_rides[\"date\"].describe()"
   ]
  },
  {
   "cell_type": "markdown",
   "id": "dfbf03f2",
   "metadata": {},
   "source": [
    "В датасете инфомрация только за один год, поэтому категорию лет выделять не будем."
   ]
  },
  {
   "cell_type": "markdown",
   "id": "19ce1ddd",
   "metadata": {},
   "source": [
    "Добавим еще сразу категории скорости в км/ч."
   ]
  },
  {
   "cell_type": "code",
   "execution_count": 11,
   "id": "a391d408",
   "metadata": {},
   "outputs": [],
   "source": [
    "df_rides[\"speed\"] = (df_rides[\"distance\"] / 1000) / (df_rides[\"duration\"] / 60)"
   ]
  },
  {
   "cell_type": "markdown",
   "id": "72eb1b62",
   "metadata": {},
   "source": [
    "Округлим скорости и длительности поездки до 2 знаков после запятой."
   ]
  },
  {
   "cell_type": "code",
   "execution_count": 12,
   "id": "2a07e2a5",
   "metadata": {},
   "outputs": [
    {
     "data": {
      "application/vnd.microsoft.datawrangler.viewer.v0+json": {
       "columns": [
        {
         "name": "index",
         "rawType": "int64",
         "type": "integer"
        },
        {
         "name": "distance",
         "rawType": "float64",
         "type": "float"
        },
        {
         "name": "speed",
         "rawType": "float64",
         "type": "float"
        }
       ],
       "ref": "64c6e96b-195b-401c-ad05-800d74b908ff",
       "rows": [
        [
         "15095",
         "634.94",
         "4.47"
        ],
        [
         "200",
         "3245.35",
         "13.7"
        ],
        [
         "5711",
         "2838.94",
         "6.5"
        ],
        [
         "17585",
         "1258.24",
         "6.41"
        ],
        [
         "17762",
         "2540.14",
         "18.05"
        ],
        [
         "5426",
         "2759.02",
         "11.12"
        ],
        [
         "13754",
         "4297.64",
         "8.94"
        ],
        [
         "1087",
         "2853.7",
         "11.16"
        ],
        [
         "7220",
         "3244.82",
         "13.44"
        ],
        [
         "14698",
         "4020.86",
         "12.66"
        ]
       ],
       "shape": {
        "columns": 2,
        "rows": 10
       }
      },
      "text/html": [
       "<div>\n",
       "<style scoped>\n",
       "    .dataframe tbody tr th:only-of-type {\n",
       "        vertical-align: middle;\n",
       "    }\n",
       "\n",
       "    .dataframe tbody tr th {\n",
       "        vertical-align: top;\n",
       "    }\n",
       "\n",
       "    .dataframe thead th {\n",
       "        text-align: right;\n",
       "    }\n",
       "</style>\n",
       "<table border=\"1\" class=\"dataframe\">\n",
       "  <thead>\n",
       "    <tr style=\"text-align: right;\">\n",
       "      <th></th>\n",
       "      <th>distance</th>\n",
       "      <th>speed</th>\n",
       "    </tr>\n",
       "  </thead>\n",
       "  <tbody>\n",
       "    <tr>\n",
       "      <th>15095</th>\n",
       "      <td>634.94</td>\n",
       "      <td>4.47</td>\n",
       "    </tr>\n",
       "    <tr>\n",
       "      <th>200</th>\n",
       "      <td>3245.35</td>\n",
       "      <td>13.70</td>\n",
       "    </tr>\n",
       "    <tr>\n",
       "      <th>5711</th>\n",
       "      <td>2838.94</td>\n",
       "      <td>6.50</td>\n",
       "    </tr>\n",
       "    <tr>\n",
       "      <th>17585</th>\n",
       "      <td>1258.24</td>\n",
       "      <td>6.41</td>\n",
       "    </tr>\n",
       "    <tr>\n",
       "      <th>17762</th>\n",
       "      <td>2540.14</td>\n",
       "      <td>18.05</td>\n",
       "    </tr>\n",
       "    <tr>\n",
       "      <th>5426</th>\n",
       "      <td>2759.02</td>\n",
       "      <td>11.12</td>\n",
       "    </tr>\n",
       "    <tr>\n",
       "      <th>13754</th>\n",
       "      <td>4297.64</td>\n",
       "      <td>8.94</td>\n",
       "    </tr>\n",
       "    <tr>\n",
       "      <th>1087</th>\n",
       "      <td>2853.70</td>\n",
       "      <td>11.16</td>\n",
       "    </tr>\n",
       "    <tr>\n",
       "      <th>7220</th>\n",
       "      <td>3244.82</td>\n",
       "      <td>13.44</td>\n",
       "    </tr>\n",
       "    <tr>\n",
       "      <th>14698</th>\n",
       "      <td>4020.86</td>\n",
       "      <td>12.66</td>\n",
       "    </tr>\n",
       "  </tbody>\n",
       "</table>\n",
       "</div>"
      ],
      "text/plain": [
       "       distance  speed\n",
       "15095    634.94   4.47\n",
       "200     3245.35  13.70\n",
       "5711    2838.94   6.50\n",
       "17585   1258.24   6.41\n",
       "17762   2540.14  18.05\n",
       "5426    2759.02  11.12\n",
       "13754   4297.64   8.94\n",
       "1087    2853.70  11.16\n",
       "7220    3244.82  13.44\n",
       "14698   4020.86  12.66"
      ]
     },
     "execution_count": 12,
     "metadata": {},
     "output_type": "execute_result"
    }
   ],
   "source": [
    "df_rides[\"distance\"] = np.round(df_rides[\"distance\"], 2)\n",
    "df_rides[\"speed\"] = np.round(df_rides[\"speed\"], 2)\n",
    "df_rides[[\"distance\", \"speed\"]].sample(10, random_state=42)"
   ]
  },
  {
   "cell_type": "markdown",
   "id": "3154d110",
   "metadata": {},
   "source": [
    "<a class=\"ancor\" id=\"5-bullet\"></a>\n",
    "### Поиск и обработка дубликатов\n",
    "\n",
    "Похоже, что потенциальные неявные дубликаты могут быть только в колонке города"
   ]
  },
  {
   "cell_type": "code",
   "execution_count": 13,
   "id": "6be399a6",
   "metadata": {},
   "outputs": [
    {
     "data": {
      "text/plain": [
       "array(['Тюмень', 'Омск', 'Москва', 'Ростов-на-Дону', 'Краснодар',\n",
       "       'Пятигорск', 'Екатеринбург', 'Сочи'], dtype=object)"
      ]
     },
     "execution_count": 13,
     "metadata": {},
     "output_type": "execute_result"
    }
   ],
   "source": [
    "df_users[\"city\"].unique()"
   ]
  },
  {
   "cell_type": "markdown",
   "id": "53356fae",
   "metadata": {},
   "source": [
    "Всё чисто, проверим еще явные дубликаты"
   ]
  },
  {
   "cell_type": "code",
   "execution_count": 14,
   "id": "ea837ba9",
   "metadata": {},
   "outputs": [
    {
     "data": {
      "text/plain": [
       "np.int64(0)"
      ]
     },
     "metadata": {},
     "output_type": "display_data"
    },
    {
     "data": {
      "text/plain": [
       "np.int64(31)"
      ]
     },
     "execution_count": 14,
     "metadata": {},
     "output_type": "execute_result"
    }
   ],
   "source": [
    "display(df_rides.duplicated().sum())\n",
    "df_users.duplicated().sum()"
   ]
  },
  {
   "cell_type": "markdown",
   "id": "50b93d77",
   "metadata": {},
   "source": [
    "Ага, в пользователях есть немного неявных дубликатов, удалим их."
   ]
  },
  {
   "cell_type": "code",
   "execution_count": 15,
   "id": "73dae9cc",
   "metadata": {},
   "outputs": [],
   "source": [
    "df_users = df_users.drop_duplicates().reset_index(drop=True)"
   ]
  },
  {
   "cell_type": "markdown",
   "id": "9a870775",
   "metadata": {},
   "source": [
    "<a class=\"ancor\" id=\"6-bullet\"></a>\n",
    "### Поиск и отработка аномальных значений"
   ]
  },
  {
   "cell_type": "code",
   "execution_count": null,
   "id": "12ee3e96",
   "metadata": {},
   "outputs": [
    {
     "data": {
      "application/vnd.microsoft.datawrangler.viewer.v0+json": {
       "columns": [
        {
         "name": "index",
         "rawType": "object",
         "type": "string"
        },
        {
         "name": "speed",
         "rawType": "float64",
         "type": "float"
        },
        {
         "name": "distance",
         "rawType": "float64",
         "type": "float"
        },
        {
         "name": "duration",
         "rawType": "float64",
         "type": "float"
        }
       ],
       "ref": "3b1a604d-1514-4296-8dbd-ec8c7d7db3bd",
       "rows": [
        [
         "count",
         "18068.0",
         "18068.0",
         "18068.0"
        ],
        [
         "mean",
         "13.785278946203233",
         "3070.6599922514943",
         "17.805011197984445"
        ],
        [
         "std",
         "44.15620022580356",
         "1116.8312222195354",
         "6.0910513753416895"
        ],
        [
         "min",
         "0.01",
         "0.86",
         "0.5"
        ],
        [
         "25%",
         "8.13",
         "2543.2275",
         "13.597562849246899"
        ],
        [
         "50%",
         "10.25",
         "3133.61",
         "17.678394530393803"
        ],
        [
         "75%",
         "12.93",
         "3776.2200000000003",
         "21.724800019793314"
        ],
        [
         "max",
         "865.32",
         "7211.01",
         "40.82396261922424"
        ]
       ],
       "shape": {
        "columns": 3,
        "rows": 8
       }
      },
      "text/html": [
       "<div>\n",
       "<style scoped>\n",
       "    .dataframe tbody tr th:only-of-type {\n",
       "        vertical-align: middle;\n",
       "    }\n",
       "\n",
       "    .dataframe tbody tr th {\n",
       "        vertical-align: top;\n",
       "    }\n",
       "\n",
       "    .dataframe thead th {\n",
       "        text-align: right;\n",
       "    }\n",
       "</style>\n",
       "<table border=\"1\" class=\"dataframe\">\n",
       "  <thead>\n",
       "    <tr style=\"text-align: right;\">\n",
       "      <th></th>\n",
       "      <th>speed</th>\n",
       "      <th>distance</th>\n",
       "      <th>duration</th>\n",
       "    </tr>\n",
       "  </thead>\n",
       "  <tbody>\n",
       "    <tr>\n",
       "      <th>count</th>\n",
       "      <td>18068.000000</td>\n",
       "      <td>18068.000000</td>\n",
       "      <td>18068.000000</td>\n",
       "    </tr>\n",
       "    <tr>\n",
       "      <th>mean</th>\n",
       "      <td>13.785279</td>\n",
       "      <td>3070.659992</td>\n",
       "      <td>17.805011</td>\n",
       "    </tr>\n",
       "    <tr>\n",
       "      <th>std</th>\n",
       "      <td>44.156200</td>\n",
       "      <td>1116.831222</td>\n",
       "      <td>6.091051</td>\n",
       "    </tr>\n",
       "    <tr>\n",
       "      <th>min</th>\n",
       "      <td>0.010000</td>\n",
       "      <td>0.860000</td>\n",
       "      <td>0.500000</td>\n",
       "    </tr>\n",
       "    <tr>\n",
       "      <th>25%</th>\n",
       "      <td>8.130000</td>\n",
       "      <td>2543.227500</td>\n",
       "      <td>13.597563</td>\n",
       "    </tr>\n",
       "    <tr>\n",
       "      <th>50%</th>\n",
       "      <td>10.250000</td>\n",
       "      <td>3133.610000</td>\n",
       "      <td>17.678395</td>\n",
       "    </tr>\n",
       "    <tr>\n",
       "      <th>75%</th>\n",
       "      <td>12.930000</td>\n",
       "      <td>3776.220000</td>\n",
       "      <td>21.724800</td>\n",
       "    </tr>\n",
       "    <tr>\n",
       "      <th>max</th>\n",
       "      <td>865.320000</td>\n",
       "      <td>7211.010000</td>\n",
       "      <td>40.823963</td>\n",
       "    </tr>\n",
       "  </tbody>\n",
       "</table>\n",
       "</div>"
      ],
      "text/plain": [
       "              speed      distance      duration\n",
       "count  18068.000000  18068.000000  18068.000000\n",
       "mean      13.785279   3070.659992     17.805011\n",
       "std       44.156200   1116.831222      6.091051\n",
       "min        0.010000      0.860000      0.500000\n",
       "25%        8.130000   2543.227500     13.597563\n",
       "50%       10.250000   3133.610000     17.678395\n",
       "75%       12.930000   3776.220000     21.724800\n",
       "max      865.320000   7211.010000     40.823963"
      ]
     },
     "execution_count": 16,
     "metadata": {},
     "output_type": "execute_result"
    }
   ],
   "source": [
    "df_rides[[\"speed\", \"distance\", \"duration\"]].describe()"
   ]
  },
  {
   "cell_type": "markdown",
   "id": "ccfb2c32",
   "metadata": {},
   "source": [
    "Есть довольно странные значения скорости, надо посомтреть на них поподробнее."
   ]
  },
  {
   "cell_type": "code",
   "execution_count": 17,
   "id": "6739f702",
   "metadata": {},
   "outputs": [
    {
     "data": {
      "application/vnd.microsoft.datawrangler.viewer.v0+json": {
       "columns": [
        {
         "name": "index",
         "rawType": "int64",
         "type": "integer"
        },
        {
         "name": "user_id",
         "rawType": "int64",
         "type": "integer"
        },
        {
         "name": "distance",
         "rawType": "float64",
         "type": "float"
        },
        {
         "name": "duration",
         "rawType": "float64",
         "type": "float"
        },
        {
         "name": "date",
         "rawType": "datetime64[ns]",
         "type": "datetime"
        },
        {
         "name": "month",
         "rawType": "category",
         "type": "unknown"
        },
        {
         "name": "speed",
         "rawType": "float64",
         "type": "float"
        }
       ],
       "ref": "878ac834-940d-4f38-bb98-66b9eb531846",
       "rows": [
        [
         "6531",
         "701",
         "4196.45",
         "0.5",
         "2021-08-31 00:00:00",
         "August",
         "503.57"
        ],
        [
         "6570",
         "704",
         "4830.82",
         "0.5",
         "2021-10-14 00:00:00",
         "October",
         "579.7"
        ],
        [
         "6680",
         "712",
         "4684.0",
         "0.5",
         "2021-03-04 00:00:00",
         "March",
         "562.08"
        ],
        [
         "6695",
         "713",
         "5215.64",
         "0.5",
         "2021-02-25 00:00:00",
         "February",
         "625.88"
        ],
        [
         "6768",
         "718",
         "5197.44",
         "0.5",
         "2021-02-11 00:00:00",
         "February",
         "623.69"
        ],
        [
         "6860",
         "724",
         "6225.52",
         "0.5",
         "2021-12-16 00:00:00",
         "December",
         "747.06"
        ],
        [
         "6883",
         "726",
         "4452.49",
         "0.5",
         "2021-03-01 00:00:00",
         "March",
         "534.3"
        ],
        [
         "7018",
         "735",
         "4406.95",
         "0.5",
         "2021-04-13 00:00:00",
         "April",
         "528.83"
        ],
        [
         "7160",
         "745",
         "5286.17",
         "0.5",
         "2021-08-17 00:00:00",
         "August",
         "634.34"
        ],
        [
         "7364",
         "760",
         "4881.39",
         "0.5",
         "2021-08-29 00:00:00",
         "August",
         "585.77"
        ],
        [
         "7437",
         "766",
         "4539.09",
         "0.5",
         "2021-12-22 00:00:00",
         "December",
         "544.69"
        ],
        [
         "7508",
         "772",
         "4718.82",
         "0.5",
         "2021-05-22 00:00:00",
         "May",
         "566.26"
        ],
        [
         "7537",
         "774",
         "5488.14",
         "0.5",
         "2021-05-27 00:00:00",
         "May",
         "658.58"
        ],
        [
         "7612",
         "780",
         "6112.64",
         "0.5",
         "2021-11-23 00:00:00",
         "November",
         "733.52"
        ],
        [
         "7679",
         "784",
         "5202.82",
         "0.5",
         "2021-06-03 00:00:00",
         "June",
         "624.34"
        ],
        [
         "7791",
         "792",
         "5353.19",
         "0.5",
         "2021-11-06 00:00:00",
         "November",
         "642.38"
        ],
        [
         "7830",
         "795",
         "6262.3",
         "0.5",
         "2021-09-09 00:00:00",
         "September",
         "751.48"
        ],
        [
         "7883",
         "800",
         "5052.41",
         "0.5",
         "2021-07-19 00:00:00",
         "July",
         "606.29"
        ],
        [
         "7932",
         "804",
         "5547.83",
         "0.5",
         "2021-05-10 00:00:00",
         "May",
         "665.74"
        ],
        [
         "8329",
         "836",
         "4958.92",
         "0.5",
         "2021-01-12 00:00:00",
         "January",
         "595.07"
        ],
        [
         "8472",
         "847",
         "4770.17",
         "0.5",
         "2021-03-26 00:00:00",
         "March",
         "572.42"
        ],
        [
         "9049",
         "890",
         "4848.49",
         "0.5",
         "2021-11-20 00:00:00",
         "November",
         "581.82"
        ],
        [
         "9077",
         "893",
         "4762.12",
         "0.5",
         "2021-03-18 00:00:00",
         "March",
         "571.45"
        ],
        [
         "9135",
         "896",
         "5466.27",
         "0.5",
         "2021-10-13 00:00:00",
         "October",
         "655.95"
        ],
        [
         "9268",
         "906",
         "5258.16",
         "0.5",
         "2021-02-02 00:00:00",
         "February",
         "630.98"
        ],
        [
         "9282",
         "907",
         "4520.12",
         "0.5",
         "2021-04-24 00:00:00",
         "April",
         "542.41"
        ],
        [
         "9497",
         "922",
         "4620.9",
         "0.5",
         "2021-01-05 00:00:00",
         "January",
         "554.51"
        ],
        [
         "9581",
         "928",
         "4857.41",
         "0.5",
         "2021-06-06 00:00:00",
         "June",
         "582.89"
        ],
        [
         "9622",
         "931",
         "6002.24",
         "0.5",
         "2021-11-10 00:00:00",
         "November",
         "720.27"
        ],
        [
         "9698",
         "937",
         "4169.07",
         "0.5",
         "2021-12-12 00:00:00",
         "December",
         "500.29"
        ],
        [
         "10182",
         "970",
         "5180.55",
         "0.5",
         "2021-08-07 00:00:00",
         "August",
         "621.67"
        ],
        [
         "10217",
         "973",
         "4578.71",
         "0.5",
         "2021-03-01 00:00:00",
         "March",
         "549.45"
        ],
        [
         "10229",
         "973",
         "5052.77",
         "0.5",
         "2021-11-27 00:00:00",
         "November",
         "606.33"
        ],
        [
         "10295",
         "978",
         "4835.93",
         "0.5",
         "2021-02-12 00:00:00",
         "February",
         "580.31"
        ],
        [
         "10426",
         "987",
         "5375.14",
         "0.5",
         "2021-03-16 00:00:00",
         "March",
         "645.02"
        ],
        [
         "10457",
         "989",
         "5035.1",
         "0.5",
         "2021-12-09 00:00:00",
         "December",
         "604.21"
        ],
        [
         "10484",
         "991",
         "4753.93",
         "0.5",
         "2021-07-23 00:00:00",
         "July",
         "570.47"
        ],
        [
         "10650",
         "1003",
         "4204.3",
         "0.5",
         "2021-05-17 00:00:00",
         "May",
         "504.52"
        ],
        [
         "10692",
         "1006",
         "4106.28",
         "0.5",
         "2021-10-31 00:00:00",
         "October",
         "492.75"
        ],
        [
         "10698",
         "1007",
         "5245.63",
         "0.5",
         "2021-04-12 00:00:00",
         "April",
         "629.48"
        ],
        [
         "10699",
         "1007",
         "4633.26",
         "0.5",
         "2021-04-27 00:00:00",
         "April",
         "555.99"
        ],
        [
         "11096",
         "1035",
         "5488.78",
         "0.5",
         "2021-07-28 00:00:00",
         "July",
         "658.65"
        ],
        [
         "11149",
         "1039",
         "5314.19",
         "0.5",
         "2021-12-23 00:00:00",
         "December",
         "637.7"
        ],
        [
         "11162",
         "1040",
         "5129.34",
         "0.5",
         "2021-11-22 00:00:00",
         "November",
         "615.52"
        ],
        [
         "11165",
         "1041",
         "4599.8",
         "0.5",
         "2021-02-26 00:00:00",
         "February",
         "551.98"
        ],
        [
         "11385",
         "1057",
         "6601.2",
         "0.5",
         "2021-02-07 00:00:00",
         "February",
         "792.14"
        ],
        [
         "11445",
         "1062",
         "5486.75",
         "0.5",
         "2021-05-25 00:00:00",
         "May",
         "658.41"
        ],
        [
         "11559",
         "1069",
         "5780.32",
         "0.5",
         "2021-04-06 00:00:00",
         "April",
         "693.64"
        ],
        [
         "11822",
         "1088",
         "4533.96",
         "0.5",
         "2021-11-23 00:00:00",
         "November",
         "544.08"
        ],
        [
         "11853",
         "1090",
         "5121.4",
         "0.5",
         "2021-09-29 00:00:00",
         "September",
         "614.57"
        ]
       ],
       "shape": {
        "columns": 6,
        "rows": 95
       }
      },
      "text/html": [
       "<div>\n",
       "<style scoped>\n",
       "    .dataframe tbody tr th:only-of-type {\n",
       "        vertical-align: middle;\n",
       "    }\n",
       "\n",
       "    .dataframe tbody tr th {\n",
       "        vertical-align: top;\n",
       "    }\n",
       "\n",
       "    .dataframe thead th {\n",
       "        text-align: right;\n",
       "    }\n",
       "</style>\n",
       "<table border=\"1\" class=\"dataframe\">\n",
       "  <thead>\n",
       "    <tr style=\"text-align: right;\">\n",
       "      <th></th>\n",
       "      <th>user_id</th>\n",
       "      <th>distance</th>\n",
       "      <th>duration</th>\n",
       "      <th>date</th>\n",
       "      <th>month</th>\n",
       "      <th>speed</th>\n",
       "    </tr>\n",
       "  </thead>\n",
       "  <tbody>\n",
       "    <tr>\n",
       "      <th>6531</th>\n",
       "      <td>701</td>\n",
       "      <td>4196.45</td>\n",
       "      <td>0.5</td>\n",
       "      <td>2021-08-31</td>\n",
       "      <td>August</td>\n",
       "      <td>503.57</td>\n",
       "    </tr>\n",
       "    <tr>\n",
       "      <th>6570</th>\n",
       "      <td>704</td>\n",
       "      <td>4830.82</td>\n",
       "      <td>0.5</td>\n",
       "      <td>2021-10-14</td>\n",
       "      <td>October</td>\n",
       "      <td>579.70</td>\n",
       "    </tr>\n",
       "    <tr>\n",
       "      <th>6680</th>\n",
       "      <td>712</td>\n",
       "      <td>4684.00</td>\n",
       "      <td>0.5</td>\n",
       "      <td>2021-03-04</td>\n",
       "      <td>March</td>\n",
       "      <td>562.08</td>\n",
       "    </tr>\n",
       "    <tr>\n",
       "      <th>6695</th>\n",
       "      <td>713</td>\n",
       "      <td>5215.64</td>\n",
       "      <td>0.5</td>\n",
       "      <td>2021-02-25</td>\n",
       "      <td>February</td>\n",
       "      <td>625.88</td>\n",
       "    </tr>\n",
       "    <tr>\n",
       "      <th>6768</th>\n",
       "      <td>718</td>\n",
       "      <td>5197.44</td>\n",
       "      <td>0.5</td>\n",
       "      <td>2021-02-11</td>\n",
       "      <td>February</td>\n",
       "      <td>623.69</td>\n",
       "    </tr>\n",
       "    <tr>\n",
       "      <th>...</th>\n",
       "      <td>...</td>\n",
       "      <td>...</td>\n",
       "      <td>...</td>\n",
       "      <td>...</td>\n",
       "      <td>...</td>\n",
       "      <td>...</td>\n",
       "    </tr>\n",
       "    <tr>\n",
       "      <th>17004</th>\n",
       "      <td>1460</td>\n",
       "      <td>5531.34</td>\n",
       "      <td>0.5</td>\n",
       "      <td>2021-01-19</td>\n",
       "      <td>January</td>\n",
       "      <td>663.76</td>\n",
       "    </tr>\n",
       "    <tr>\n",
       "      <th>17242</th>\n",
       "      <td>1477</td>\n",
       "      <td>6724.93</td>\n",
       "      <td>0.5</td>\n",
       "      <td>2021-01-12</td>\n",
       "      <td>January</td>\n",
       "      <td>806.99</td>\n",
       "    </tr>\n",
       "    <tr>\n",
       "      <th>17314</th>\n",
       "      <td>1483</td>\n",
       "      <td>4445.48</td>\n",
       "      <td>0.5</td>\n",
       "      <td>2021-03-06</td>\n",
       "      <td>March</td>\n",
       "      <td>533.46</td>\n",
       "    </tr>\n",
       "    <tr>\n",
       "      <th>17505</th>\n",
       "      <td>1496</td>\n",
       "      <td>5722.55</td>\n",
       "      <td>0.5</td>\n",
       "      <td>2021-02-14</td>\n",
       "      <td>February</td>\n",
       "      <td>686.71</td>\n",
       "    </tr>\n",
       "    <tr>\n",
       "      <th>17909</th>\n",
       "      <td>1524</td>\n",
       "      <td>4104.00</td>\n",
       "      <td>0.5</td>\n",
       "      <td>2021-06-18</td>\n",
       "      <td>June</td>\n",
       "      <td>492.48</td>\n",
       "    </tr>\n",
       "  </tbody>\n",
       "</table>\n",
       "<p>95 rows × 6 columns</p>\n",
       "</div>"
      ],
      "text/plain": [
       "       user_id  distance  duration       date     month   speed\n",
       "6531       701   4196.45       0.5 2021-08-31    August  503.57\n",
       "6570       704   4830.82       0.5 2021-10-14   October  579.70\n",
       "6680       712   4684.00       0.5 2021-03-04     March  562.08\n",
       "6695       713   5215.64       0.5 2021-02-25  February  625.88\n",
       "6768       718   5197.44       0.5 2021-02-11  February  623.69\n",
       "...        ...       ...       ...        ...       ...     ...\n",
       "17004     1460   5531.34       0.5 2021-01-19   January  663.76\n",
       "17242     1477   6724.93       0.5 2021-01-12   January  806.99\n",
       "17314     1483   4445.48       0.5 2021-03-06     March  533.46\n",
       "17505     1496   5722.55       0.5 2021-02-14  February  686.71\n",
       "17909     1524   4104.00       0.5 2021-06-18      June  492.48\n",
       "\n",
       "[95 rows x 6 columns]"
      ]
     },
     "execution_count": 17,
     "metadata": {},
     "output_type": "execute_result"
    }
   ],
   "source": [
    "df_rides.query(\"speed > 30\")"
   ]
  },
  {
   "cell_type": "markdown",
   "id": "11f90cab",
   "metadata": {},
   "source": [
    "Случаев не так много, но во всех таких случаях длительность 30 секунд, что явно подозрительно. Удалим такие аномальные записи, и нужно бы сообщить команде сервиса, чтобы подумали, что за проблема может приводить именно к такому значению длительности."
   ]
  },
  {
   "cell_type": "code",
   "execution_count": 18,
   "id": "226a1657",
   "metadata": {},
   "outputs": [],
   "source": [
    "df_rides.drop(df_rides.query(\"speed > 30\").index, inplace=True)"
   ]
  },
  {
   "cell_type": "markdown",
   "id": "6e508378",
   "metadata": {},
   "source": [
    "<a class=\"ancor\" id=\"7-bullet\"></a>\n",
    "### Выводы\n",
    "\n",
    "Была проведена предобработка данных:\n",
    "* Корректировка типов:\n",
    "  * Установлен корректный формат даты в таблице df_rides\n",
    "* Категоризация. Добавлены столбцы:\n",
    "  * month - месяц совершения поездки\n",
    "  * speed - км/ч, средняя скорость поездки\n",
    "* Дубликаты:\n",
    "  * Найдены явные дубликаты (31) в таблице df_users. Дубликаты удалены.\n",
    "  * Неявные дубликаты не обнаружены.\n",
    "* Аномальные значения:\n",
    "  * Анализ средней скорости выявил наличие аномальных значений. Таких случаев не так много (95), но во всех таких случаях длительность поездки 30 секунд, что явно подозрительно. Нужно уточнить у команды сервиса с чем может быть связана подобная проблема. Все 95 записей были удалены."
   ]
  },
  {
   "cell_type": "markdown",
   "id": "c3410013",
   "metadata": {},
   "source": [
    "[Оглавление](#0-bullet)"
   ]
  },
  {
   "cell_type": "markdown",
   "id": "212593c7",
   "metadata": {},
   "source": [
    "<a class=\"ancor\" id=\"8-bullet\"></a>\n",
    "## Шаг 3. Исследовательский анализ данных"
   ]
  },
  {
   "cell_type": "markdown",
   "id": "2548fb14",
   "metadata": {},
   "source": [
    "<a class=\"ancor\" id=\"9-bullet\"></a>\n",
    "### Частота встречаемости городов"
   ]
  },
  {
   "cell_type": "code",
   "execution_count": 19,
   "id": "9e619a1b",
   "metadata": {},
   "outputs": [
    {
     "data": {
      "image/png": "[encoded data removed]",
      "text/plain": [
       "<Figure size 640x480 with 1 Axes>"
      ]
     },
     "metadata": {},
     "output_type": "display_data"
    }
   ],
   "source": [
    "_ = df_users[\"city\"].value_counts().plot(\n",
    "    kind=\"bar\",\n",
    "    title=\"Количество пользователей по городам\",\n",
    "    xlabel=\"Города\",\n",
    "    ylabel=\"Количество пользователей\",\n",
    "    rot=45,\n",
    ")"
   ]
  },
  {
   "cell_type": "markdown",
   "id": "4353760f",
   "metadata": {},
   "source": [
    "В целом пользователи довольно равномерно распределены по городам.\n",
    "\n",
    "На удивление в Москве пользователей меньше всего."
   ]
  },
  {
   "cell_type": "markdown",
   "id": "968809c2",
   "metadata": {},
   "source": [
    "<a class=\"ancor\" id=\"10-bullet\"></a>\n",
    "### Соотношение пользователей с подпиской и без подписки"
   ]
  },
  {
   "cell_type": "code",
   "execution_count": 20,
   "id": "867603d5",
   "metadata": {},
   "outputs": [
    {
     "data": {
      "application/vnd.microsoft.datawrangler.viewer.v0+json": {
       "columns": [
        {
         "name": "subscription_type",
         "rawType": "object",
         "type": "string"
        },
        {
         "name": "proportion",
         "rawType": "float64",
         "type": "float"
        }
       ],
       "ref": "fc5aea57-8451-4f62-a4f6-39609ff82163",
       "rows": [
        [
         "free",
         "0.5443285528031291"
        ],
        [
         "ultra",
         "0.4556714471968709"
        ]
       ],
       "shape": {
        "columns": 1,
        "rows": 2
       }
      },
      "text/plain": [
       "subscription_type\n",
       "free     0.544329\n",
       "ultra    0.455671\n",
       "Name: proportion, dtype: float64"
      ]
     },
     "execution_count": 20,
     "metadata": {},
     "output_type": "execute_result"
    },
    {
     "data": {
      "image/png": "[encoded data removed]",
      "text/plain": [
       "<Figure size 640x480 with 1 Axes>"
      ]
     },
     "metadata": {},
     "output_type": "display_data"
    }
   ],
   "source": [
    "df_users[\"subscription_type\"].value_counts().plot(\n",
    "    kind=\"bar\",\n",
    "    title=\"Количество пользователей по типу подписки\",\n",
    "    xlabel=\"Тип подписки\",\n",
    "    ylabel=\"Количество пользователей\",\n",
    "    rot=0,\n",
    ")\n",
    "df_users[\"subscription_type\"].value_counts(normalize=True)"
   ]
  },
  {
   "cell_type": "markdown",
   "id": "57bc712b",
   "metadata": {},
   "source": [
    "Пользователей с подпиской чуть меньше, но не кардинально."
   ]
  },
  {
   "cell_type": "markdown",
   "id": "e912a2cf",
   "metadata": {},
   "source": [
    "<a class=\"ancor\" id=\"11-bullet\"></a>\n",
    "### Возраст пользователей"
   ]
  },
  {
   "cell_type": "code",
   "execution_count": 21,
   "id": "428764ee",
   "metadata": {},
   "outputs": [
    {
     "data": {
      "application/vnd.microsoft.datawrangler.viewer.v0+json": {
       "columns": [
        {
         "name": "index",
         "rawType": "object",
         "type": "string"
        },
        {
         "name": "age",
         "rawType": "float64",
         "type": "float"
        }
       ],
       "ref": "a80aeed9-266d-4133-aa18-b704c436a1d3",
       "rows": [
        [
         "count",
         "1534.0"
        ],
        [
         "mean",
         "24.903520208604956"
        ],
        [
         "std",
         "4.572366657419863"
        ],
        [
         "min",
         "12.0"
        ],
        [
         "25%",
         "22.0"
        ],
        [
         "50%",
         "25.0"
        ],
        [
         "75%",
         "28.0"
        ],
        [
         "max",
         "43.0"
        ]
       ],
       "shape": {
        "columns": 1,
        "rows": 8
       }
      },
      "text/plain": [
       "count    1534.000000\n",
       "mean       24.903520\n",
       "std         4.572367\n",
       "min        12.000000\n",
       "25%        22.000000\n",
       "50%        25.000000\n",
       "75%        28.000000\n",
       "max        43.000000\n",
       "Name: age, dtype: float64"
      ]
     },
     "execution_count": 21,
     "metadata": {},
     "output_type": "execute_result"
    },
    {
     "data": {
      "image/png": "[encoded data removed]",
      "text/plain": [
       "<Figure size 640x480 with 1 Axes>"
      ]
     },
     "metadata": {},
     "output_type": "display_data"
    }
   ],
   "source": [
    "df_users[\"age\"].value_counts().sort_index().plot(\n",
    "    kind=\"bar\",\n",
    "    title=\"Возраст пользователей\",\n",
    "    xlabel=\"Возраст\",\n",
    "    ylabel=\"Количество пользователей\",\n",
    "    rot=60,\n",
    ")\n",
    "df_users[\"age\"].describe()"
   ]
  },
  {
   "cell_type": "markdown",
   "id": "23574403",
   "metadata": {},
   "source": [
    "Распределение возраста пользователей близко к нормальному со средним значением 25 и СО 4.6.\n",
    "\n",
    "P.S. А что, у нас в 2021 году можно было кататься на электросамокатах несовершеннолетним?"
   ]
  },
  {
   "cell_type": "markdown",
   "id": "180cd465",
   "metadata": {},
   "source": [
    "<a class=\"ancor\" id=\"12-bullet\"></a>\n",
    "### Дистанция поездок"
   ]
  },
  {
   "cell_type": "code",
   "execution_count": 22,
   "id": "9471a86e",
   "metadata": {},
   "outputs": [
    {
     "data": {
      "application/vnd.microsoft.datawrangler.viewer.v0+json": {
       "columns": [
        {
         "name": "index",
         "rawType": "object",
         "type": "string"
        },
        {
         "name": "distance",
         "rawType": "float64",
         "type": "float"
        }
       ],
       "ref": "0f95bbef-1a52-474d-80a2-c9eea2463ff6",
       "rows": [
        [
         "count",
         "17973.0"
        ],
        [
         "mean",
         "3059.863848550604"
        ],
        [
         "std",
         "1108.8146234027104"
        ],
        [
         "min",
         "0.86"
        ],
        [
         "25%",
         "2538.84"
        ],
        [
         "50%",
         "3129.03"
        ],
        [
         "75%",
         "3762.64"
        ],
        [
         "max",
         "7066.0"
        ]
       ],
       "shape": {
        "columns": 1,
        "rows": 8
       }
      },
      "text/plain": [
       "count    17973.000000\n",
       "mean      3059.863849\n",
       "std       1108.814623\n",
       "min          0.860000\n",
       "25%       2538.840000\n",
       "50%       3129.030000\n",
       "75%       3762.640000\n",
       "max       7066.000000\n",
       "Name: distance, dtype: float64"
      ]
     },
     "execution_count": 22,
     "metadata": {},
     "output_type": "execute_result"
    },
    {
     "data": {
      "image/png": "[encoded data removed]",
      "text/plain": [
       "<Figure size 640x480 with 1 Axes>"
      ]
     },
     "metadata": {},
     "output_type": "display_data"
    }
   ],
   "source": [
    "df_rides[\"distance\"].plot(\n",
    "    kind=\"hist\",\n",
    "    bins=100,\n",
    "    title=\"Распределение расстояний поездок\",\n",
    "    xlabel=\"Расстояние, м\",\n",
    "    ylabel=\"Количество поездок\",\n",
    ")\n",
    "df_rides[\"distance\"].describe()"
   ]
  },
  {
   "cell_type": "markdown",
   "id": "2d94dbe5",
   "metadata": {},
   "source": [
    "В распределении проезжаемых расстояний не всё так просто. Явно выделяются 2 пика со средними значениями около 700 м и 3100, также есть подозрение, что возможно там еще подмешено распределние со средним около 4 км.\n",
    "\n",
    "В целом медианное расстояние 3130 м."
   ]
  },
  {
   "cell_type": "markdown",
   "id": "8e05a5bf",
   "metadata": {},
   "source": [
    "Попробуем поискать какую-то простую причину такого распределения расстояний.\n",
    "\n",
    "Попробуе посмотреть на распределения дистанций по городам, месяцам, возрасту и типу подписки."
   ]
  },
  {
   "cell_type": "code",
   "execution_count": 23,
   "id": "31680232",
   "metadata": {},
   "outputs": [],
   "source": [
    "df = df_rides.merge(df_users, on=\"user_id\", how=\"left\")"
   ]
  },
  {
   "cell_type": "code",
   "execution_count": 24,
   "id": "30503c45",
   "metadata": {},
   "outputs": [],
   "source": [
    "def plot_histograms(\n",
    "    df: pd.DataFrame,\n",
    "    category: str,\n",
    "    data_col: str,\n",
    "    bins: int = 100,\n",
    "    ncols: int = 4,\n",
    "    title: str = \"\",\n",
    "    ylabel: str = \"\",\n",
    "    xfigsize: int = 3,\n",
    "    yfigsize: int = 3,\n",
    "    sharex: bool = False,\n",
    "    sharey: bool = True,\n",
    ") -> None:\n",
    "    \"\"\"\n",
    "    Функция для построения гистограмм по категориям.\n",
    "\n",
    "    parameters\n",
    "    ----------\n",
    "    df : pd.DataFrame\n",
    "        Датафрейм с данными.\n",
    "    category : str\n",
    "        Название колонки с категориями.\n",
    "    data_col : str\n",
    "        Название колонки с данными для построения гистограммы.\n",
    "    bins : int\n",
    "        Количество бинов для гистограммы.\n",
    "    ncols : int\n",
    "        Количество колонок в графике.\n",
    "    \"\"\"\n",
    "\n",
    "    nrows = math.ceil(len(df[category].unique()) / ncols)\n",
    "\n",
    "    fig, axs = plt.subplots(\n",
    "        nrows,\n",
    "        ncols,\n",
    "        figsize=(xfigsize * ncols, yfigsize * nrows),\n",
    "        sharey=sharey,\n",
    "        sharex=sharex,\n",
    "    )\n",
    "    axs = axs.flatten()\n",
    "\n",
    "    for i, col in enumerate(df[category].unique()):\n",
    "        df[df[category] == col].plot(\n",
    "            kind=\"hist\",\n",
    "            y=data_col,\n",
    "            ax=axs[i],\n",
    "            grid=True,\n",
    "            bins=bins,\n",
    "            xlabel=col,\n",
    "            ylabel=ylabel,\n",
    "        )\n",
    "    fig.suptitle(title)\n",
    "    fig.tight_layout()"
   ]
  },
  {
   "cell_type": "code",
   "execution_count": 25,
   "id": "17b368eb",
   "metadata": {},
   "outputs": [
    {
     "data": {
      "image/png": "[encoded data removed]",
      "text/plain": [
       "<Figure size 1200x600 with 8 Axes>"
      ]
     },
     "metadata": {},
     "output_type": "display_data"
    }
   ],
   "source": [
    "plot_histograms(\n",
    "    df,\n",
    "    category=\"city\",\n",
    "    data_col=\"distance\",\n",
    "    title=\"Распределение расстояний поездок по городам\",\n",
    "    ylabel=\"Количество поездок\",\n",
    ")"
   ]
  },
  {
   "cell_type": "code",
   "execution_count": 26,
   "id": "88efe44f",
   "metadata": {},
   "outputs": [
    {
     "data": {
      "image/png": "[encoded data removed]",
      "text/plain": [
       "<Figure size 1200x900 with 12 Axes>"
      ]
     },
     "metadata": {},
     "output_type": "display_data"
    }
   ],
   "source": [
    "plot_histograms(\n",
    "    df,\n",
    "    category=\"month\",\n",
    "    data_col=\"distance\",\n",
    "    title=\"Распределение расстояний поездок по месяцам\",\n",
    "    ylabel=\"Количество поездок\",\n",
    ")"
   ]
  },
  {
   "cell_type": "code",
   "execution_count": 27,
   "id": "788c083a",
   "metadata": {},
   "outputs": [
    {
     "data": {
      "image/png": "[encoded data removed]",
      "text/plain": [
       "<Figure size 900x600 with 6 Axes>"
      ]
     },
     "metadata": {},
     "output_type": "display_data"
    }
   ],
   "source": [
    "plot_histograms(\n",
    "    df.assign(age_cat=pd.qcut(df[\"age\"], q=5)).sort_values(by=\"age_cat\"),\n",
    "    category=\"age_cat\",\n",
    "    data_col=\"distance\",\n",
    "    title=\"Распределение расстояний поездок по возрасту\",\n",
    "    ncols=3,\n",
    "    ylabel=\"Количество поездок\",\n",
    ")"
   ]
  },
  {
   "cell_type": "code",
   "execution_count": 28,
   "id": "485b3d36",
   "metadata": {},
   "outputs": [
    {
     "data": {
      "image/png": "[encoded data removed]",
      "text/plain": [
       "<Figure size 1000x300 with 2 Axes>"
      ]
     },
     "metadata": {},
     "output_type": "display_data"
    }
   ],
   "source": [
    "plot_histograms(\n",
    "    df,\n",
    "    category=\"subscription_type\",\n",
    "    data_col=\"distance\",\n",
    "    ncols=2,\n",
    "    title=\"Распределение расстояний поездок по типу подписки\",\n",
    "    ylabel=\"Количество поездок\",\n",
    "    xfigsize=5,\n",
    "    yfigsize=3,\n",
    ")"
   ]
  },
  {
   "cell_type": "markdown",
   "id": "7a03a3ec",
   "metadata": {},
   "source": [
    "Простых причин такого возникновения такого распределения не просматривается. Распределение дистанция явно не зависит ни от города, ни от месяца, ни от возраста. Просматривается некоторая зависимость от типа подписки, но с этим мы разберёмся позднее."
   ]
  },
  {
   "cell_type": "markdown",
   "id": "5101fd16",
   "metadata": {},
   "source": [
    "Посмотрим еще как распределены скорости для этих коротких поездок."
   ]
  },
  {
   "cell_type": "code",
   "execution_count": 29,
   "id": "cc65449d",
   "metadata": {},
   "outputs": [
    {
     "data": {
      "text/plain": [
       "<Axes: title={'center': 'Распределение скорости поездок'}, xlabel='Скорость, км/ч', ylabel='Количество поездок'>"
      ]
     },
     "execution_count": 29,
     "metadata": {},
     "output_type": "execute_result"
    },
    {
     "data": {
      "image/png": "[encoded data removed]",
      "text/plain": [
       "<Figure size 640x480 with 1 Axes>"
      ]
     },
     "metadata": {},
     "output_type": "display_data"
    }
   ],
   "source": [
    "df.query(\"distance < 1500\")[\"speed\"].plot(\n",
    "    kind=\"hist\",\n",
    "    bins=100,\n",
    "    title=\"Распределение скорости поездок\",\n",
    "    xlabel=\"Скорость, км/ч\",\n",
    "    ylabel=\"Количество поездок\",\n",
    "    grid=True,\n",
    ")"
   ]
  },
  {
   "cell_type": "markdown",
   "id": "c2f0d1ed",
   "metadata": {},
   "source": [
    "Ага, в большинстве случаев скорости близки к скорости пешехода.\n",
    "\n",
    "Можно сделать предположение, что эти \"короткие\" поездки связаны с тем, что что вместе с человеком, который взял самокат есть еще один или несколько человек и они просто движутся вместе. На имеющихся данных это предположение нельзя ни подтвердить ни опровергнуть, но оно хоть как-то может объяснить наличие этого аномального пика в распределении дистанций поездок."
   ]
  },
  {
   "cell_type": "markdown",
   "id": "4f74816d",
   "metadata": {},
   "source": [
    "<a class=\"ancor\" id=\"13-bullet\"></a>\n",
    "### Продолжительность поездок"
   ]
  },
  {
   "cell_type": "code",
   "execution_count": 30,
   "id": "868d0298",
   "metadata": {},
   "outputs": [
    {
     "data": {
      "application/vnd.microsoft.datawrangler.viewer.v0+json": {
       "columns": [
        {
         "name": "index",
         "rawType": "object",
         "type": "string"
        },
        {
         "name": "duration",
         "rawType": "float64",
         "type": "float"
        }
       ],
       "ref": "319ff782-4b84-4212-a5c1-2104b3e45fce",
       "rows": [
        [
         "count",
         "17973.0"
        ],
        [
         "mean",
         "17.896480405340398"
        ],
        [
         "std",
         "5.975423955978009"
        ],
        [
         "min",
         "2.0356324681963884"
        ],
        [
         "25%",
         "13.670438710227346"
        ],
        [
         "50%",
         "17.714122496583943"
        ],
        [
         "75%",
         "21.747016004186488"
        ],
        [
         "max",
         "40.82396261922424"
        ]
       ],
       "shape": {
        "columns": 1,
        "rows": 8
       }
      },
      "text/plain": [
       "count    17973.000000\n",
       "mean        17.896480\n",
       "std          5.975424\n",
       "min          2.035632\n",
       "25%         13.670439\n",
       "50%         17.714122\n",
       "75%         21.747016\n",
       "max         40.823963\n",
       "Name: duration, dtype: float64"
      ]
     },
     "execution_count": 30,
     "metadata": {},
     "output_type": "execute_result"
    },
    {
     "data": {
      "image/png": "[encoded data removed]",
      "text/plain": [
       "<Figure size 640x480 with 1 Axes>"
      ]
     },
     "metadata": {},
     "output_type": "display_data"
    }
   ],
   "source": [
    "df_rides[\"duration\"].plot(\n",
    "    kind=\"hist\",\n",
    "    bins=100,\n",
    "    title=\"Распределение продолжительности поездок\",\n",
    "    xlabel=\"Продолжительность, мин\",\n",
    "    ylabel=\"Количество поездок\",\n",
    ")\n",
    "df_rides[\"duration\"].describe()"
   ]
  },
  {
   "cell_type": "markdown",
   "id": "2b5ec865",
   "metadata": {},
   "source": [
    "С распределнием длительности поездок при этом ничего необычного нет. Распределние близко к номарльному. Среднее значение близко к 18 минутам, СО около 6."
   ]
  },
  {
   "cell_type": "markdown",
   "id": "54a22a13",
   "metadata": {},
   "source": [
    "<a class=\"ancor\" id=\"14-bullet\"></a>\n",
    "### Скорость поездок\n",
    "Интересно посмотреть как ведём себя при этом распределение средних скоростей."
   ]
  },
  {
   "cell_type": "code",
   "execution_count": 31,
   "id": "e8838002",
   "metadata": {},
   "outputs": [
    {
     "data": {
      "application/vnd.microsoft.datawrangler.viewer.v0+json": {
       "columns": [
        {
         "name": "index",
         "rawType": "object",
         "type": "string"
        },
        {
         "name": "speed",
         "rawType": "float64",
         "type": "float"
        }
       ],
       "ref": "4df56325-bd36-4db2-b3f0-e5ecc9571b9d",
       "rows": [
        [
         "count",
         "17973.0"
        ],
        [
         "mean",
         "10.614932398597896"
        ],
        [
         "std",
         "3.9652023913806396"
        ],
        [
         "min",
         "0.01"
        ],
        [
         "25%",
         "8.11"
        ],
        [
         "50%",
         "10.23"
        ],
        [
         "75%",
         "12.87"
        ],
        [
         "max",
         "25.39"
        ]
       ],
       "shape": {
        "columns": 1,
        "rows": 8
       }
      },
      "text/plain": [
       "count    17973.000000\n",
       "mean        10.614932\n",
       "std          3.965202\n",
       "min          0.010000\n",
       "25%          8.110000\n",
       "50%         10.230000\n",
       "75%         12.870000\n",
       "max         25.390000\n",
       "Name: speed, dtype: float64"
      ]
     },
     "execution_count": 31,
     "metadata": {},
     "output_type": "execute_result"
    },
    {
     "data": {
      "image/png": "[encoded data removed]",
      "text/plain": [
       "<Figure size 640x480 with 1 Axes>"
      ]
     },
     "metadata": {},
     "output_type": "display_data"
    }
   ],
   "source": [
    "df_rides[\"speed\"].plot(\n",
    "    kind=\"hist\",\n",
    "    bins=100,\n",
    "    title=\"Распределение скорости поездок\",\n",
    "    xlabel=\"Скорость, км/ч\",\n",
    "    ylabel=\"Количество поездок\",\n",
    ")\n",
    "df_rides[\"speed\"].describe()"
   ]
  },
  {
   "cell_type": "markdown",
   "id": "99ae6d44",
   "metadata": {},
   "source": [
    "Распределние явно далеко от нормального. медианное значение около 10 км/ч."
   ]
  },
  {
   "cell_type": "markdown",
   "id": "c1ab1f16",
   "metadata": {},
   "source": [
    "<a class=\"ancor\" id=\"15-bullet\"></a>\n",
    "### Выводы\n",
    "\n",
    "Был проведён исследовательский анализ данных:\n",
    "* Изучение распределения пользователей по городам показало, что пользователи в выборке довольно равномерно распределены по городам.\n",
    "* Пользователи с подпиской составляют примерно 45% всех пользователей.\n",
    "* Распределение возраста пользователей близко к нормальному со средним значением 25 и СО 4.6.\n",
    "* В распределении проезжаемых расстояний выделяются 2 пика со средними значениями около 700 м и 3100. В целом медианное расстояние 3130 м.\n",
    "\n",
    "    Были изучены распределения дистанций поездок при группировках по городам, месяцам, возрасту и типу подписки. Распределение дистанция явно не зависит ни от города, ни от месяца, ни от возраста. Просматривается некоторая зависимость от типа подписки.\n",
    "\n",
    "    Анализ средней скорости для \"коротких\" поездок показал, что в большинстве случаев скорости близки к скорости пешехода. Можно сделать предположение, что эти \"короткие\" поездки связаны с тем, что что вместе с человеком, который взял самокат есть еще один или несколько человек и они просто движутся вместе. На имеющихся данных это предположение нельзя ни подтвердить ни опровергнуть, но оно хоть как-то может объяснить наличие этого аномального пика в распределении дистанций поездок.\n",
    "* Распределние длительностей поездок близко к номарльному. Среднее значение около 18 минут, СО около 6.\n",
    "* Медианное значение средних скоростей поездок 10 км/ч."
   ]
  },
  {
   "cell_type": "markdown",
   "id": "8a506ccb",
   "metadata": {},
   "source": [
    "[Оглавление](#0-bullet)"
   ]
  },
  {
   "cell_type": "markdown",
   "id": "4ef51331",
   "metadata": {},
   "source": [
    "<a class=\"ancor\" id=\"16-bullet\"></a>\n",
    "## Шаг 4. Объединение данных\n",
    "\n",
    "Данные по поездкам и пользователям мы уже объединили в одну таблицу на предыдущем шаге.\n",
    "\n",
    "Добавим сюда еще данные по подписке."
   ]
  },
  {
   "cell_type": "code",
   "execution_count": 32,
   "id": "c1f77089",
   "metadata": {},
   "outputs": [
    {
     "data": {
      "application/vnd.microsoft.datawrangler.viewer.v0+json": {
       "columns": [
        {
         "name": "index",
         "rawType": "int64",
         "type": "integer"
        },
        {
         "name": "subscription_type",
         "rawType": "object",
         "type": "string"
        },
        {
         "name": "minute_price",
         "rawType": "int64",
         "type": "integer"
        },
        {
         "name": "start_ride_price",
         "rawType": "int64",
         "type": "integer"
        },
        {
         "name": "subscription_fee",
         "rawType": "int64",
         "type": "integer"
        }
       ],
       "ref": "ad9de9b7-ab01-4e95-a32b-bdea2740499e",
       "rows": [
        [
         "11945",
         "free",
         "8",
         "50",
         "0"
        ],
        [
         "3295",
         "ultra",
         "6",
         "0",
         "199"
        ],
        [
         "15663",
         "free",
         "8",
         "50",
         "0"
        ],
        [
         "7516",
         "free",
         "8",
         "50",
         "0"
        ],
        [
         "13781",
         "free",
         "8",
         "50",
         "0"
        ],
        [
         "16649",
         "free",
         "8",
         "50",
         "0"
        ],
        [
         "2519",
         "ultra",
         "6",
         "0",
         "199"
        ],
        [
         "361",
         "ultra",
         "6",
         "0",
         "199"
        ],
        [
         "3752",
         "ultra",
         "6",
         "0",
         "199"
        ],
        [
         "10540",
         "free",
         "8",
         "50",
         "0"
        ]
       ],
       "shape": {
        "columns": 4,
        "rows": 10
       }
      },
      "text/html": [
       "<div>\n",
       "<style scoped>\n",
       "    .dataframe tbody tr th:only-of-type {\n",
       "        vertical-align: middle;\n",
       "    }\n",
       "\n",
       "    .dataframe tbody tr th {\n",
       "        vertical-align: top;\n",
       "    }\n",
       "\n",
       "    .dataframe thead th {\n",
       "        text-align: right;\n",
       "    }\n",
       "</style>\n",
       "<table border=\"1\" class=\"dataframe\">\n",
       "  <thead>\n",
       "    <tr style=\"text-align: right;\">\n",
       "      <th></th>\n",
       "      <th>subscription_type</th>\n",
       "      <th>minute_price</th>\n",
       "      <th>start_ride_price</th>\n",
       "      <th>subscription_fee</th>\n",
       "    </tr>\n",
       "  </thead>\n",
       "  <tbody>\n",
       "    <tr>\n",
       "      <th>11945</th>\n",
       "      <td>free</td>\n",
       "      <td>8</td>\n",
       "      <td>50</td>\n",
       "      <td>0</td>\n",
       "    </tr>\n",
       "    <tr>\n",
       "      <th>3295</th>\n",
       "      <td>ultra</td>\n",
       "      <td>6</td>\n",
       "      <td>0</td>\n",
       "      <td>199</td>\n",
       "    </tr>\n",
       "    <tr>\n",
       "      <th>15663</th>\n",
       "      <td>free</td>\n",
       "      <td>8</td>\n",
       "      <td>50</td>\n",
       "      <td>0</td>\n",
       "    </tr>\n",
       "    <tr>\n",
       "      <th>7516</th>\n",
       "      <td>free</td>\n",
       "      <td>8</td>\n",
       "      <td>50</td>\n",
       "      <td>0</td>\n",
       "    </tr>\n",
       "    <tr>\n",
       "      <th>13781</th>\n",
       "      <td>free</td>\n",
       "      <td>8</td>\n",
       "      <td>50</td>\n",
       "      <td>0</td>\n",
       "    </tr>\n",
       "    <tr>\n",
       "      <th>16649</th>\n",
       "      <td>free</td>\n",
       "      <td>8</td>\n",
       "      <td>50</td>\n",
       "      <td>0</td>\n",
       "    </tr>\n",
       "    <tr>\n",
       "      <th>2519</th>\n",
       "      <td>ultra</td>\n",
       "      <td>6</td>\n",
       "      <td>0</td>\n",
       "      <td>199</td>\n",
       "    </tr>\n",
       "    <tr>\n",
       "      <th>361</th>\n",
       "      <td>ultra</td>\n",
       "      <td>6</td>\n",
       "      <td>0</td>\n",
       "      <td>199</td>\n",
       "    </tr>\n",
       "    <tr>\n",
       "      <th>3752</th>\n",
       "      <td>ultra</td>\n",
       "      <td>6</td>\n",
       "      <td>0</td>\n",
       "      <td>199</td>\n",
       "    </tr>\n",
       "    <tr>\n",
       "      <th>10540</th>\n",
       "      <td>free</td>\n",
       "      <td>8</td>\n",
       "      <td>50</td>\n",
       "      <td>0</td>\n",
       "    </tr>\n",
       "  </tbody>\n",
       "</table>\n",
       "</div>"
      ],
      "text/plain": [
       "      subscription_type  minute_price  start_ride_price  subscription_fee\n",
       "11945              free             8                50                 0\n",
       "3295              ultra             6                 0               199\n",
       "15663              free             8                50                 0\n",
       "7516               free             8                50                 0\n",
       "13781              free             8                50                 0\n",
       "16649              free             8                50                 0\n",
       "2519              ultra             6                 0               199\n",
       "361               ultra             6                 0               199\n",
       "3752              ultra             6                 0               199\n",
       "10540              free             8                50                 0"
      ]
     },
     "execution_count": 32,
     "metadata": {},
     "output_type": "execute_result"
    }
   ],
   "source": [
    "df = df.merge(df_subs, on=\"subscription_type\", how=\"left\")\n",
    "df[\n",
    "    [\"subscription_type\", \"minute_price\", \"start_ride_price\", \"subscription_fee\"]\n",
    "].sample(10, random_state=42)"
   ]
  },
  {
   "cell_type": "markdown",
   "id": "bb6ecdf8",
   "metadata": {},
   "source": [
    "Добавим еще столбец стоимости поездки"
   ]
  },
  {
   "cell_type": "code",
   "execution_count": 33,
   "id": "02a6049a",
   "metadata": {},
   "outputs": [
    {
     "data": {
      "application/vnd.microsoft.datawrangler.viewer.v0+json": {
       "columns": [
        {
         "name": "index",
         "rawType": "int64",
         "type": "integer"
        },
        {
         "name": "duration",
         "rawType": "float64",
         "type": "float"
        },
        {
         "name": "minute_price",
         "rawType": "int64",
         "type": "integer"
        },
        {
         "name": "start_ride_price",
         "rawType": "int64",
         "type": "integer"
        },
        {
         "name": "revenue",
         "rawType": "float64",
         "type": "float"
        }
       ],
       "ref": "d258f227-fab9-498e-aa6d-ca5d34059d55",
       "rows": [
        [
         "11945",
         "13.399158891172442",
         "8",
         "50",
         "162.0"
        ],
        [
         "3295",
         "15.16305780575716",
         "6",
         "0",
         "96.0"
        ],
        [
         "15663",
         "17.587383030821677",
         "8",
         "50",
         "194.0"
        ],
        [
         "7516",
         "23.04714861823996",
         "8",
         "50",
         "242.0"
        ],
        [
         "13781",
         "21.528225724211964",
         "8",
         "50",
         "226.0"
        ],
        [
         "16649",
         "15.07087469269212",
         "8",
         "50",
         "178.0"
        ],
        [
         "2519",
         "20.86495053126174",
         "6",
         "0",
         "126.0"
        ],
        [
         "361",
         "25.455757747183046",
         "6",
         "0",
         "156.0"
        ],
        [
         "3752",
         "28.36314757601356",
         "6",
         "0",
         "174.0"
        ],
        [
         "10540",
         "12.628842870239437",
         "8",
         "50",
         "154.0"
        ]
       ],
       "shape": {
        "columns": 4,
        "rows": 10
       }
      },
      "text/html": [
       "<div>\n",
       "<style scoped>\n",
       "    .dataframe tbody tr th:only-of-type {\n",
       "        vertical-align: middle;\n",
       "    }\n",
       "\n",
       "    .dataframe tbody tr th {\n",
       "        vertical-align: top;\n",
       "    }\n",
       "\n",
       "    .dataframe thead th {\n",
       "        text-align: right;\n",
       "    }\n",
       "</style>\n",
       "<table border=\"1\" class=\"dataframe\">\n",
       "  <thead>\n",
       "    <tr style=\"text-align: right;\">\n",
       "      <th></th>\n",
       "      <th>duration</th>\n",
       "      <th>minute_price</th>\n",
       "      <th>start_ride_price</th>\n",
       "      <th>revenue</th>\n",
       "    </tr>\n",
       "  </thead>\n",
       "  <tbody>\n",
       "    <tr>\n",
       "      <th>11945</th>\n",
       "      <td>13.399159</td>\n",
       "      <td>8</td>\n",
       "      <td>50</td>\n",
       "      <td>162.0</td>\n",
       "    </tr>\n",
       "    <tr>\n",
       "      <th>3295</th>\n",
       "      <td>15.163058</td>\n",
       "      <td>6</td>\n",
       "      <td>0</td>\n",
       "      <td>96.0</td>\n",
       "    </tr>\n",
       "    <tr>\n",
       "      <th>15663</th>\n",
       "      <td>17.587383</td>\n",
       "      <td>8</td>\n",
       "      <td>50</td>\n",
       "      <td>194.0</td>\n",
       "    </tr>\n",
       "    <tr>\n",
       "      <th>7516</th>\n",
       "      <td>23.047149</td>\n",
       "      <td>8</td>\n",
       "      <td>50</td>\n",
       "      <td>242.0</td>\n",
       "    </tr>\n",
       "    <tr>\n",
       "      <th>13781</th>\n",
       "      <td>21.528226</td>\n",
       "      <td>8</td>\n",
       "      <td>50</td>\n",
       "      <td>226.0</td>\n",
       "    </tr>\n",
       "    <tr>\n",
       "      <th>16649</th>\n",
       "      <td>15.070875</td>\n",
       "      <td>8</td>\n",
       "      <td>50</td>\n",
       "      <td>178.0</td>\n",
       "    </tr>\n",
       "    <tr>\n",
       "      <th>2519</th>\n",
       "      <td>20.864951</td>\n",
       "      <td>6</td>\n",
       "      <td>0</td>\n",
       "      <td>126.0</td>\n",
       "    </tr>\n",
       "    <tr>\n",
       "      <th>361</th>\n",
       "      <td>25.455758</td>\n",
       "      <td>6</td>\n",
       "      <td>0</td>\n",
       "      <td>156.0</td>\n",
       "    </tr>\n",
       "    <tr>\n",
       "      <th>3752</th>\n",
       "      <td>28.363148</td>\n",
       "      <td>6</td>\n",
       "      <td>0</td>\n",
       "      <td>174.0</td>\n",
       "    </tr>\n",
       "    <tr>\n",
       "      <th>10540</th>\n",
       "      <td>12.628843</td>\n",
       "      <td>8</td>\n",
       "      <td>50</td>\n",
       "      <td>154.0</td>\n",
       "    </tr>\n",
       "  </tbody>\n",
       "</table>\n",
       "</div>"
      ],
      "text/plain": [
       "        duration  minute_price  start_ride_price  revenue\n",
       "11945  13.399159             8                50    162.0\n",
       "3295   15.163058             6                 0     96.0\n",
       "15663  17.587383             8                50    194.0\n",
       "7516   23.047149             8                50    242.0\n",
       "13781  21.528226             8                50    226.0\n",
       "16649  15.070875             8                50    178.0\n",
       "2519   20.864951             6                 0    126.0\n",
       "361    25.455758             6                 0    156.0\n",
       "3752   28.363148             6                 0    174.0\n",
       "10540  12.628843             8                50    154.0"
      ]
     },
     "execution_count": 33,
     "metadata": {},
     "output_type": "execute_result"
    }
   ],
   "source": [
    "df[\"revenue\"] = np.ceil(df[\"duration\"]) * df[\"minute_price\"] + df[\"start_ride_price\"]\n",
    "df[[\"duration\", \"minute_price\", \"start_ride_price\", \"revenue\"]].sample(\n",
    "    10, random_state=42\n",
    ")"
   ]
  },
  {
   "cell_type": "code",
   "execution_count": 34,
   "id": "db43b5e7",
   "metadata": {},
   "outputs": [
    {
     "name": "stdout",
     "output_type": "stream",
     "text": [
      "<class 'pandas.core.frame.DataFrame'>\n",
      "RangeIndex: 17973 entries, 0 to 17972\n",
      "Data columns (total 14 columns):\n",
      " #   Column             Non-Null Count  Dtype         \n",
      "---  ------             --------------  -----         \n",
      " 0   user_id            17973 non-null  int64         \n",
      " 1   distance           17973 non-null  float64       \n",
      " 2   duration           17973 non-null  float64       \n",
      " 3   date               17973 non-null  datetime64[ns]\n",
      " 4   month              17973 non-null  category      \n",
      " 5   speed              17973 non-null  float64       \n",
      " 6   name               17973 non-null  object        \n",
      " 7   age                17973 non-null  int64         \n",
      " 8   city               17973 non-null  object        \n",
      " 9   subscription_type  17973 non-null  object        \n",
      " 10  minute_price       17973 non-null  int64         \n",
      " 11  start_ride_price   17973 non-null  int64         \n",
      " 12  subscription_fee   17973 non-null  int64         \n",
      " 13  revenue            17973 non-null  float64       \n",
      "dtypes: category(1), datetime64[ns](1), float64(4), int64(5), object(3)\n",
      "memory usage: 1.8+ MB\n"
     ]
    }
   ],
   "source": [
    "df.info()"
   ]
  },
  {
   "cell_type": "markdown",
   "id": "854a6d0c",
   "metadata": {},
   "source": [
    "<a class=\"ancor\" id=\"17-bullet\"></a>\n",
    "### Создание вспомогательных датафреймов (с/без подписки)"
   ]
  },
  {
   "cell_type": "code",
   "execution_count": 35,
   "id": "4100eadc",
   "metadata": {},
   "outputs": [],
   "source": [
    "df_free = df.query('subscription_type == \"free\"')\n",
    "df_ultra = df.query('subscription_type == \"ultra\"')"
   ]
  },
  {
   "cell_type": "markdown",
   "id": "be6e7de4",
   "metadata": {},
   "source": [
    "<a class=\"ancor\" id=\"18-bullet\"></a>\n",
    "### Визуализация данных о расстоянии и времени для различных категорий пользователей"
   ]
  },
  {
   "cell_type": "code",
   "execution_count": 36,
   "id": "0d34fbec",
   "metadata": {},
   "outputs": [
    {
     "data": {
      "application/vnd.microsoft.datawrangler.viewer.v0+json": {
       "columns": [
        {
         "name": "subscription_type",
         "rawType": "object",
         "type": "string"
        },
        {
         "name": "count",
         "rawType": "float64",
         "type": "float"
        },
        {
         "name": "mean",
         "rawType": "float64",
         "type": "float"
        },
        {
         "name": "std",
         "rawType": "float64",
         "type": "float"
        },
        {
         "name": "min",
         "rawType": "float64",
         "type": "float"
        },
        {
         "name": "25%",
         "rawType": "float64",
         "type": "float"
        },
        {
         "name": "50%",
         "rawType": "float64",
         "type": "float"
        },
        {
         "name": "75%",
         "rawType": "float64",
         "type": "float"
        },
        {
         "name": "max",
         "rawType": "float64",
         "type": "float"
        }
       ],
       "ref": "96504b4f-5944-4b15-95e0-c324819a6a9c",
       "rows": [
        [
         "free",
         "11473.0",
         "17.530771268800226",
         "6.162608726726466",
         "2.0356324681963884",
         "13.085687850923176",
         "17.383807372851628",
         "21.6380375094802",
         "34.948498234556965"
        ],
        [
         "ultra",
         "6500.0",
         "18.54198516280583",
         "5.572048329261366",
         "3.760352854281739",
         "14.524653911131882",
         "18.17815320055055",
         "21.884128697712004",
         "40.82396261922424"
        ]
       ],
       "shape": {
        "columns": 8,
        "rows": 2
       }
      },
      "text/html": [
       "<div>\n",
       "<style scoped>\n",
       "    .dataframe tbody tr th:only-of-type {\n",
       "        vertical-align: middle;\n",
       "    }\n",
       "\n",
       "    .dataframe tbody tr th {\n",
       "        vertical-align: top;\n",
       "    }\n",
       "\n",
       "    .dataframe thead th {\n",
       "        text-align: right;\n",
       "    }\n",
       "</style>\n",
       "<table border=\"1\" class=\"dataframe\">\n",
       "  <thead>\n",
       "    <tr style=\"text-align: right;\">\n",
       "      <th></th>\n",
       "      <th>count</th>\n",
       "      <th>mean</th>\n",
       "      <th>std</th>\n",
       "      <th>min</th>\n",
       "      <th>25%</th>\n",
       "      <th>50%</th>\n",
       "      <th>75%</th>\n",
       "      <th>max</th>\n",
       "    </tr>\n",
       "    <tr>\n",
       "      <th>subscription_type</th>\n",
       "      <th></th>\n",
       "      <th></th>\n",
       "      <th></th>\n",
       "      <th></th>\n",
       "      <th></th>\n",
       "      <th></th>\n",
       "      <th></th>\n",
       "      <th></th>\n",
       "    </tr>\n",
       "  </thead>\n",
       "  <tbody>\n",
       "    <tr>\n",
       "      <th>free</th>\n",
       "      <td>11473.0</td>\n",
       "      <td>17.530771</td>\n",
       "      <td>6.162609</td>\n",
       "      <td>2.035632</td>\n",
       "      <td>13.085688</td>\n",
       "      <td>17.383807</td>\n",
       "      <td>21.638038</td>\n",
       "      <td>34.948498</td>\n",
       "    </tr>\n",
       "    <tr>\n",
       "      <th>ultra</th>\n",
       "      <td>6500.0</td>\n",
       "      <td>18.541985</td>\n",
       "      <td>5.572048</td>\n",
       "      <td>3.760353</td>\n",
       "      <td>14.524654</td>\n",
       "      <td>18.178153</td>\n",
       "      <td>21.884129</td>\n",
       "      <td>40.823963</td>\n",
       "    </tr>\n",
       "  </tbody>\n",
       "</table>\n",
       "</div>"
      ],
      "text/plain": [
       "                     count       mean       std       min        25%  \\\n",
       "subscription_type                                                      \n",
       "free               11473.0  17.530771  6.162609  2.035632  13.085688   \n",
       "ultra               6500.0  18.541985  5.572048  3.760353  14.524654   \n",
       "\n",
       "                         50%        75%        max  \n",
       "subscription_type                                   \n",
       "free               17.383807  21.638038  34.948498  \n",
       "ultra              18.178153  21.884129  40.823963  "
      ]
     },
     "execution_count": 36,
     "metadata": {},
     "output_type": "execute_result"
    },
    {
     "data": {
      "image/png": "[encoded data removed]",
      "text/plain": [
       "<Figure size 1000x300 with 2 Axes>"
      ]
     },
     "metadata": {},
     "output_type": "display_data"
    }
   ],
   "source": [
    "plot_histograms(\n",
    "    df,\n",
    "    category=\"subscription_type\",\n",
    "    data_col=\"duration\",\n",
    "    ncols=2,\n",
    "    title=\"Распределение продолжительности поездок по типу подписки\",\n",
    "    ylabel=\"Количество поездок\",\n",
    "    xfigsize=5,\n",
    "    yfigsize=3,\n",
    "    sharex=True,\n",
    ")\n",
    "df.groupby(\"subscription_type\")[\"duration\"].describe()"
   ]
  },
  {
   "cell_type": "markdown",
   "id": "99ec4789",
   "metadata": {},
   "source": [
    "На первый взгляд распределния длительностей поездок для обоих категорий выглядят довольно похоже..."
   ]
  },
  {
   "cell_type": "code",
   "execution_count": 37,
   "id": "7ed43574",
   "metadata": {},
   "outputs": [
    {
     "data": {
      "application/vnd.microsoft.datawrangler.viewer.v0+json": {
       "columns": [
        {
         "name": "subscription_type",
         "rawType": "object",
         "type": "string"
        },
        {
         "name": "count",
         "rawType": "float64",
         "type": "float"
        },
        {
         "name": "mean",
         "rawType": "float64",
         "type": "float"
        },
        {
         "name": "std",
         "rawType": "float64",
         "type": "float"
        },
        {
         "name": "min",
         "rawType": "float64",
         "type": "float"
        },
        {
         "name": "25%",
         "rawType": "float64",
         "type": "float"
        },
        {
         "name": "50%",
         "rawType": "float64",
         "type": "float"
        },
        {
         "name": "75%",
         "rawType": "float64",
         "type": "float"
        },
        {
         "name": "max",
         "rawType": "float64",
         "type": "float"
        }
       ],
       "ref": "648e61f3-3e0d-45da-84db-a7a8d8824025",
       "rows": [
        [
         "free",
         "11473.0",
         "3028.37423951887",
         "1235.5410511003886",
         "0.86",
         "2360.88",
         "3102.08",
         "3883.98",
         "7066.0"
        ],
        [
         "ultra",
         "6500.0",
         "3115.445430769231",
         "836.8953689212581",
         "244.21",
         "2785.4474999999998",
         "3148.6400000000003",
         "3560.5775000000003",
         "5699.77"
        ]
       ],
       "shape": {
        "columns": 8,
        "rows": 2
       }
      },
      "text/html": [
       "<div>\n",
       "<style scoped>\n",
       "    .dataframe tbody tr th:only-of-type {\n",
       "        vertical-align: middle;\n",
       "    }\n",
       "\n",
       "    .dataframe tbody tr th {\n",
       "        vertical-align: top;\n",
       "    }\n",
       "\n",
       "    .dataframe thead th {\n",
       "        text-align: right;\n",
       "    }\n",
       "</style>\n",
       "<table border=\"1\" class=\"dataframe\">\n",
       "  <thead>\n",
       "    <tr style=\"text-align: right;\">\n",
       "      <th></th>\n",
       "      <th>count</th>\n",
       "      <th>mean</th>\n",
       "      <th>std</th>\n",
       "      <th>min</th>\n",
       "      <th>25%</th>\n",
       "      <th>50%</th>\n",
       "      <th>75%</th>\n",
       "      <th>max</th>\n",
       "    </tr>\n",
       "    <tr>\n",
       "      <th>subscription_type</th>\n",
       "      <th></th>\n",
       "      <th></th>\n",
       "      <th></th>\n",
       "      <th></th>\n",
       "      <th></th>\n",
       "      <th></th>\n",
       "      <th></th>\n",
       "      <th></th>\n",
       "    </tr>\n",
       "  </thead>\n",
       "  <tbody>\n",
       "    <tr>\n",
       "      <th>free</th>\n",
       "      <td>11473.0</td>\n",
       "      <td>3028.374240</td>\n",
       "      <td>1235.541051</td>\n",
       "      <td>0.86</td>\n",
       "      <td>2360.8800</td>\n",
       "      <td>3102.08</td>\n",
       "      <td>3883.9800</td>\n",
       "      <td>7066.00</td>\n",
       "    </tr>\n",
       "    <tr>\n",
       "      <th>ultra</th>\n",
       "      <td>6500.0</td>\n",
       "      <td>3115.445431</td>\n",
       "      <td>836.895369</td>\n",
       "      <td>244.21</td>\n",
       "      <td>2785.4475</td>\n",
       "      <td>3148.64</td>\n",
       "      <td>3560.5775</td>\n",
       "      <td>5699.77</td>\n",
       "    </tr>\n",
       "  </tbody>\n",
       "</table>\n",
       "</div>"
      ],
      "text/plain": [
       "                     count         mean          std     min        25%  \\\n",
       "subscription_type                                                         \n",
       "free               11473.0  3028.374240  1235.541051    0.86  2360.8800   \n",
       "ultra               6500.0  3115.445431   836.895369  244.21  2785.4475   \n",
       "\n",
       "                       50%        75%      max  \n",
       "subscription_type                               \n",
       "free               3102.08  3883.9800  7066.00  \n",
       "ultra              3148.64  3560.5775  5699.77  "
      ]
     },
     "execution_count": 37,
     "metadata": {},
     "output_type": "execute_result"
    },
    {
     "data": {
      "image/png": "[encoded data removed]",
      "text/plain": [
       "<Figure size 1000x300 with 2 Axes>"
      ]
     },
     "metadata": {},
     "output_type": "display_data"
    }
   ],
   "source": [
    "plot_histograms(\n",
    "    df,\n",
    "    category=\"subscription_type\",\n",
    "    data_col=\"distance\",\n",
    "    ncols=2,\n",
    "    title=\"Распределение продолжительности поездок по типу подписки\",\n",
    "    ylabel=\"Количество поездок\",\n",
    "    xfigsize=5,\n",
    "    yfigsize=3,\n",
    "    sharex=True,\n",
    ")\n",
    "df.groupby(\"subscription_type\")[\"distance\"].describe()"
   ]
  },
  {
   "cell_type": "markdown",
   "id": "2d45abf4",
   "metadata": {},
   "source": [
    "У пользователей с беслпатной подпиской выше вариатвность проезжаемых расстояний, кроме того, для них распределение \"коротких\" поездок сосредоточено около 600 метров, тогда как для платных подписчиков прослеживается более чётко выраженный пик около 3100 метров с дополнительным пиком на 4000 метров, а пик \"коротких\" поездок сосредоточен около 1 км."
   ]
  },
  {
   "cell_type": "markdown",
   "id": "60d3fcc8",
   "metadata": {},
   "source": [
    "<a class=\"ancor\" id=\"19-bullet\"></a>\n",
    "### Выводы\n",
    "\n",
    "Данные всех таблиц были сведены в одну таблицу (df).\n",
    "\n",
    "В эту таблицу был добавлен столбец со стоимостью поездки (revenue).\n",
    "\n",
    "Созданы две вспомогательные таблицы, включающие данных о поездках пользователей с подпиской (df_ultra) и без подписки (df_free).\n",
    "\n",
    "Был произведён анализ  распределения проезжаемхы расстояний и длительностей поездок для этих двух категорий пользователей:\n",
    "* Визуально распределния длительностей поездок для обоих категорий выглядят довольно похоже.\n",
    "* У пользователей с беслпатной подпиской выше вариатвность проезжаемых расстояний, кроме того, для них распределение \"коротких\" поездок сосредоточено около 600 метров, тогда как для платных подписчиков прослеживается более чётко выраженный пик около 3100 метров с дополнительным пиком на 4000 метров, а пик \"коротких\" поездок сосредоточен около 1 км."
   ]
  },
  {
   "cell_type": "markdown",
   "id": "03cfd9e9",
   "metadata": {},
   "source": [
    "[Оглавление](#0-bullet)"
   ]
  },
  {
   "cell_type": "markdown",
   "id": "402d620f",
   "metadata": {},
   "source": [
    "<a class=\"ancor\" id=\"20-bullet\"></a>\n",
    "## Шаг 5. Подсчёт выручки"
   ]
  },
  {
   "cell_type": "markdown",
   "id": "6f1ac439",
   "metadata": {},
   "source": [
    "<a class=\"ancor\" id=\"21-bullet\"></a>\n",
    "### Аггрегация данных по пользователям - суммарное расстояние, длительность, количество поездок и выручка за каждый месяц"
   ]
  },
  {
   "cell_type": "code",
   "execution_count": 38,
   "id": "567da5aa",
   "metadata": {},
   "outputs": [
    {
     "data": {
      "application/vnd.microsoft.datawrangler.viewer.v0+json": {
       "columns": [
        {
         "name": "('user_id', 'month')",
         "rawType": "object",
         "type": "unknown"
        },
        {
         "name": "tot_duration",
         "rawType": "float64",
         "type": "float"
        },
        {
         "name": "tot_distance",
         "rawType": "float64",
         "type": "float"
        },
        {
         "name": "rides_num",
         "rawType": "int64",
         "type": "integer"
        },
        {
         "name": "revenue",
         "rawType": "float64",
         "type": "float"
        }
       ],
       "ref": "10c0e7aa-0d34-4620-a704-ab0ec4d016c8",
       "rows": [
        [
         "(np.int64(409), 'August')",
         "15.541154820420294",
         "2703.33",
         "1",
         "295.0"
        ],
        [
         "(np.int64(106), 'February')",
         "0.0",
         "0.0",
         "0",
         "199.0"
        ],
        [
         "(np.int64(329), 'October')",
         "0.0",
         "0.0",
         "0",
         "199.0"
        ],
        [
         "(np.int64(207), 'December')",
         "35.74848247705895",
         "6674.21",
         "2",
         "421.0"
        ],
        [
         "(np.int64(225), 'October')",
         "26.43733803330417",
         "3859.33",
         "1",
         "361.0"
        ],
        [
         "(np.int64(221), 'July')",
         "0.0",
         "0.0",
         "0",
         "199.0"
        ],
        [
         "(np.int64(44), 'March')",
         "0.0",
         "0.0",
         "0",
         "199.0"
        ],
        [
         "(np.int64(3), 'October')",
         "0.0",
         "0.0",
         "0",
         "199.0"
        ],
        [
         "(np.int64(376), 'September')",
         "14.94406137083591",
         "3310.03",
         "1",
         "289.0"
        ],
        [
         "(np.int64(397), 'May')",
         "36.87968858224741",
         "5292.55",
         "2",
         "427.0"
        ]
       ],
       "shape": {
        "columns": 4,
        "rows": 10
       }
      },
      "text/html": [
       "<div>\n",
       "<style scoped>\n",
       "    .dataframe tbody tr th:only-of-type {\n",
       "        vertical-align: middle;\n",
       "    }\n",
       "\n",
       "    .dataframe tbody tr th {\n",
       "        vertical-align: top;\n",
       "    }\n",
       "\n",
       "    .dataframe thead th {\n",
       "        text-align: right;\n",
       "    }\n",
       "</style>\n",
       "<table border=\"1\" class=\"dataframe\">\n",
       "  <thead>\n",
       "    <tr style=\"text-align: right;\">\n",
       "      <th></th>\n",
       "      <th></th>\n",
       "      <th>tot_duration</th>\n",
       "      <th>tot_distance</th>\n",
       "      <th>rides_num</th>\n",
       "      <th>revenue</th>\n",
       "    </tr>\n",
       "    <tr>\n",
       "      <th>user_id</th>\n",
       "      <th>month</th>\n",
       "      <th></th>\n",
       "      <th></th>\n",
       "      <th></th>\n",
       "      <th></th>\n",
       "    </tr>\n",
       "  </thead>\n",
       "  <tbody>\n",
       "    <tr>\n",
       "      <th>409</th>\n",
       "      <th>August</th>\n",
       "      <td>15.541155</td>\n",
       "      <td>2703.33</td>\n",
       "      <td>1</td>\n",
       "      <td>295.0</td>\n",
       "    </tr>\n",
       "    <tr>\n",
       "      <th>106</th>\n",
       "      <th>February</th>\n",
       "      <td>0.000000</td>\n",
       "      <td>0.00</td>\n",
       "      <td>0</td>\n",
       "      <td>199.0</td>\n",
       "    </tr>\n",
       "    <tr>\n",
       "      <th>329</th>\n",
       "      <th>October</th>\n",
       "      <td>0.000000</td>\n",
       "      <td>0.00</td>\n",
       "      <td>0</td>\n",
       "      <td>199.0</td>\n",
       "    </tr>\n",
       "    <tr>\n",
       "      <th>207</th>\n",
       "      <th>December</th>\n",
       "      <td>35.748482</td>\n",
       "      <td>6674.21</td>\n",
       "      <td>2</td>\n",
       "      <td>421.0</td>\n",
       "    </tr>\n",
       "    <tr>\n",
       "      <th>225</th>\n",
       "      <th>October</th>\n",
       "      <td>26.437338</td>\n",
       "      <td>3859.33</td>\n",
       "      <td>1</td>\n",
       "      <td>361.0</td>\n",
       "    </tr>\n",
       "    <tr>\n",
       "      <th>221</th>\n",
       "      <th>July</th>\n",
       "      <td>0.000000</td>\n",
       "      <td>0.00</td>\n",
       "      <td>0</td>\n",
       "      <td>199.0</td>\n",
       "    </tr>\n",
       "    <tr>\n",
       "      <th>44</th>\n",
       "      <th>March</th>\n",
       "      <td>0.000000</td>\n",
       "      <td>0.00</td>\n",
       "      <td>0</td>\n",
       "      <td>199.0</td>\n",
       "    </tr>\n",
       "    <tr>\n",
       "      <th>3</th>\n",
       "      <th>October</th>\n",
       "      <td>0.000000</td>\n",
       "      <td>0.00</td>\n",
       "      <td>0</td>\n",
       "      <td>199.0</td>\n",
       "    </tr>\n",
       "    <tr>\n",
       "      <th>376</th>\n",
       "      <th>September</th>\n",
       "      <td>14.944061</td>\n",
       "      <td>3310.03</td>\n",
       "      <td>1</td>\n",
       "      <td>289.0</td>\n",
       "    </tr>\n",
       "    <tr>\n",
       "      <th>397</th>\n",
       "      <th>May</th>\n",
       "      <td>36.879689</td>\n",
       "      <td>5292.55</td>\n",
       "      <td>2</td>\n",
       "      <td>427.0</td>\n",
       "    </tr>\n",
       "  </tbody>\n",
       "</table>\n",
       "</div>"
      ],
      "text/plain": [
       "                   tot_duration  tot_distance  rides_num  revenue\n",
       "user_id month                                                    \n",
       "409     August        15.541155       2703.33          1    295.0\n",
       "106     February       0.000000          0.00          0    199.0\n",
       "329     October        0.000000          0.00          0    199.0\n",
       "207     December      35.748482       6674.21          2    421.0\n",
       "225     October       26.437338       3859.33          1    361.0\n",
       "221     July           0.000000          0.00          0    199.0\n",
       "44      March          0.000000          0.00          0    199.0\n",
       "3       October        0.000000          0.00          0    199.0\n",
       "376     September     14.944061       3310.03          1    289.0\n",
       "397     May           36.879689       5292.55          2    427.0"
      ]
     },
     "execution_count": 38,
     "metadata": {},
     "output_type": "execute_result"
    }
   ],
   "source": [
    "df_ultra_rides = df_ultra.groupby([\"user_id\", \"month\"], observed=False).agg(\n",
    "    tot_duration=(\"duration\", \"sum\"),\n",
    "    tot_distance=(\"distance\", \"sum\"),\n",
    "    rides_num=(\"duration\", \"count\"),\n",
    "    revenue=(\"revenue\", \"sum\"),\n",
    ")\n",
    "# Добавляем к выручке ежемесячную стоимость подписки\n",
    "df_ultra_rides[\"revenue\"] += df_ultra[\"subscription_fee\"][0]\n",
    "df_ultra_rides.sample(10, random_state=42)"
   ]
  },
  {
   "cell_type": "code",
   "execution_count": 39,
   "id": "6dc8e743",
   "metadata": {},
   "outputs": [
    {
     "data": {
      "application/vnd.microsoft.datawrangler.viewer.v0+json": {
       "columns": [
        {
         "name": "('user_id', 'month')",
         "rawType": "object",
         "type": "unknown"
        },
        {
         "name": "tot_duration",
         "rawType": "float64",
         "type": "float"
        },
        {
         "name": "tot_distance",
         "rawType": "float64",
         "type": "float"
        },
        {
         "name": "rides_num",
         "rawType": "int64",
         "type": "integer"
        },
        {
         "name": "revenue",
         "rawType": "float64",
         "type": "float"
        }
       ],
       "ref": "2f9fd8d8-cf40-4453-a277-6fe92be6e1e6",
       "rows": [
        [
         "(np.int64(1484), 'December')",
         "17.846285845064106",
         "3792.37",
         "1",
         "194.0"
        ],
        [
         "(np.int64(1430), 'September')",
         "57.306797913717276",
         "9307.53",
         "2",
         "564.0"
        ],
        [
         "(np.int64(1338), 'January')",
         "32.09338882610711",
         "5269.45",
         "2",
         "364.0"
        ],
        [
         "(np.int64(734), 'September')",
         "32.447781846241",
         "2449.9",
         "2",
         "364.0"
        ],
        [
         "(np.int64(1009), 'March')",
         "11.916992715454006",
         "2859.88",
         "1",
         "146.0"
        ],
        [
         "(np.int64(1098), 'July')",
         "14.76885482850939",
         "3158.8",
         "1",
         "170.0"
        ],
        [
         "(np.int64(1041), 'March')",
         "17.16285448671234",
         "2604.67",
         "1",
         "194.0"
        ],
        [
         "(np.int64(1329), 'April')",
         "84.98451720592499",
         "12699.94",
         "5",
         "946.0"
        ],
        [
         "(np.int64(1344), 'August')",
         "0.0",
         "0.0",
         "0",
         "0.0"
        ],
        [
         "(np.int64(816), 'February')",
         "0.0",
         "0.0",
         "0",
         "0.0"
        ]
       ],
       "shape": {
        "columns": 4,
        "rows": 10
       }
      },
      "text/html": [
       "<div>\n",
       "<style scoped>\n",
       "    .dataframe tbody tr th:only-of-type {\n",
       "        vertical-align: middle;\n",
       "    }\n",
       "\n",
       "    .dataframe tbody tr th {\n",
       "        vertical-align: top;\n",
       "    }\n",
       "\n",
       "    .dataframe thead th {\n",
       "        text-align: right;\n",
       "    }\n",
       "</style>\n",
       "<table border=\"1\" class=\"dataframe\">\n",
       "  <thead>\n",
       "    <tr style=\"text-align: right;\">\n",
       "      <th></th>\n",
       "      <th></th>\n",
       "      <th>tot_duration</th>\n",
       "      <th>tot_distance</th>\n",
       "      <th>rides_num</th>\n",
       "      <th>revenue</th>\n",
       "    </tr>\n",
       "    <tr>\n",
       "      <th>user_id</th>\n",
       "      <th>month</th>\n",
       "      <th></th>\n",
       "      <th></th>\n",
       "      <th></th>\n",
       "      <th></th>\n",
       "    </tr>\n",
       "  </thead>\n",
       "  <tbody>\n",
       "    <tr>\n",
       "      <th>1484</th>\n",
       "      <th>December</th>\n",
       "      <td>17.846286</td>\n",
       "      <td>3792.37</td>\n",
       "      <td>1</td>\n",
       "      <td>194.0</td>\n",
       "    </tr>\n",
       "    <tr>\n",
       "      <th>1430</th>\n",
       "      <th>September</th>\n",
       "      <td>57.306798</td>\n",
       "      <td>9307.53</td>\n",
       "      <td>2</td>\n",
       "      <td>564.0</td>\n",
       "    </tr>\n",
       "    <tr>\n",
       "      <th>1338</th>\n",
       "      <th>January</th>\n",
       "      <td>32.093389</td>\n",
       "      <td>5269.45</td>\n",
       "      <td>2</td>\n",
       "      <td>364.0</td>\n",
       "    </tr>\n",
       "    <tr>\n",
       "      <th>734</th>\n",
       "      <th>September</th>\n",
       "      <td>32.447782</td>\n",
       "      <td>2449.90</td>\n",
       "      <td>2</td>\n",
       "      <td>364.0</td>\n",
       "    </tr>\n",
       "    <tr>\n",
       "      <th>1009</th>\n",
       "      <th>March</th>\n",
       "      <td>11.916993</td>\n",
       "      <td>2859.88</td>\n",
       "      <td>1</td>\n",
       "      <td>146.0</td>\n",
       "    </tr>\n",
       "    <tr>\n",
       "      <th>1098</th>\n",
       "      <th>July</th>\n",
       "      <td>14.768855</td>\n",
       "      <td>3158.80</td>\n",
       "      <td>1</td>\n",
       "      <td>170.0</td>\n",
       "    </tr>\n",
       "    <tr>\n",
       "      <th>1041</th>\n",
       "      <th>March</th>\n",
       "      <td>17.162854</td>\n",
       "      <td>2604.67</td>\n",
       "      <td>1</td>\n",
       "      <td>194.0</td>\n",
       "    </tr>\n",
       "    <tr>\n",
       "      <th>1329</th>\n",
       "      <th>April</th>\n",
       "      <td>84.984517</td>\n",
       "      <td>12699.94</td>\n",
       "      <td>5</td>\n",
       "      <td>946.0</td>\n",
       "    </tr>\n",
       "    <tr>\n",
       "      <th>1344</th>\n",
       "      <th>August</th>\n",
       "      <td>0.000000</td>\n",
       "      <td>0.00</td>\n",
       "      <td>0</td>\n",
       "      <td>0.0</td>\n",
       "    </tr>\n",
       "    <tr>\n",
       "      <th>816</th>\n",
       "      <th>February</th>\n",
       "      <td>0.000000</td>\n",
       "      <td>0.00</td>\n",
       "      <td>0</td>\n",
       "      <td>0.0</td>\n",
       "    </tr>\n",
       "  </tbody>\n",
       "</table>\n",
       "</div>"
      ],
      "text/plain": [
       "                   tot_duration  tot_distance  rides_num  revenue\n",
       "user_id month                                                    \n",
       "1484    December      17.846286       3792.37          1    194.0\n",
       "1430    September     57.306798       9307.53          2    564.0\n",
       "1338    January       32.093389       5269.45          2    364.0\n",
       "734     September     32.447782       2449.90          2    364.0\n",
       "1009    March         11.916993       2859.88          1    146.0\n",
       "1098    July          14.768855       3158.80          1    170.0\n",
       "1041    March         17.162854       2604.67          1    194.0\n",
       "1329    April         84.984517      12699.94          5    946.0\n",
       "1344    August         0.000000          0.00          0      0.0\n",
       "816     February       0.000000          0.00          0      0.0"
      ]
     },
     "execution_count": 39,
     "metadata": {},
     "output_type": "execute_result"
    }
   ],
   "source": [
    "df_free_rides = df_free.groupby([\"user_id\", \"month\"], observed=False).agg(\n",
    "    tot_duration=(\"duration\", \"sum\"),\n",
    "    tot_distance=(\"distance\", \"sum\"),\n",
    "    rides_num=(\"duration\", \"count\"),\n",
    "    revenue=(\"revenue\", \"sum\"),\n",
    ")\n",
    "df_free_rides.sample(10, random_state=42)"
   ]
  },
  {
   "cell_type": "code",
   "execution_count": 40,
   "id": "a1bdb9e2",
   "metadata": {},
   "outputs": [
    {
     "data": {
      "image/png": "[encoded data removed]",
      "text/plain": [
       "<Figure size 640x480 with 1 Axes>"
      ]
     },
     "metadata": {},
     "output_type": "display_data"
    }
   ],
   "source": [
    "_ = (\n",
    "    df_ultra_rides.groupby(\"month\", observed=False)[\"revenue\"].sum()\n",
    "    + df_free_rides.groupby(\"month\", observed=False)[\"revenue\"].sum()\n",
    ").plot(\n",
    "    kind=\"bar\",\n",
    "    title=\"Выручка по месяцам\",\n",
    "    xlabel=\"Месяц\",\n",
    "    ylabel=\"Выручка, руб.\",\n",
    "    rot=45,\n",
    ")"
   ]
  },
  {
   "cell_type": "markdown",
   "id": "4ceeff55",
   "metadata": {},
   "source": [
    "Удивительное дело: в 4 из 9 городов, представленных в выборке на самокатах зимой точно ездить нельзя, а выручка при этом зимой не особо проседает, наоборот самая большая выручка за явнарь..."
   ]
  },
  {
   "cell_type": "markdown",
   "id": "56375602",
   "metadata": {},
   "source": [
    "<a class=\"ancor\" id=\"22-bullet\"></a>\n",
    "### Выводы\n",
    "\n",
    "Созданы еще 2 вспомогательные таблицы, содержащие суммарное расстояние, длительность, количество поездок и приносимую сервису выручку по месяцам, для пользователей с подпиской (df_ultra_rides) и пользователей без подписки (df_free_rides).\n",
    "\n",
    "Кажется при этом несколько подозрительным равномерное распределение выручки по месяцам."
   ]
  },
  {
   "cell_type": "markdown",
   "id": "01df6119",
   "metadata": {},
   "source": [
    "[Оглавление](#0-bullet)"
   ]
  },
  {
   "cell_type": "markdown",
   "id": "41545ac0",
   "metadata": {},
   "source": [
    "<a class=\"ancor\" id=\"23-bullet\"></a>\n",
    "## Шаг 6. Проверка гипотез"
   ]
  },
  {
   "cell_type": "markdown",
   "id": "f2afdef3",
   "metadata": {},
   "source": [
    "<a class=\"ancor\" id=\"24-bullet\"></a>\n",
    "### Влияние подписки на длительность поездки\n",
    "\n",
    "Нуль-гипотеза: средняя длительность поездок для пользователей с подпиской и без подписки одинакова.\n",
    "\n",
    "Альтернативная гипотеза: средняя длительность поездок для пользователей с подпиской больше, чем для пользователей без подписки."
   ]
  },
  {
   "cell_type": "code",
   "execution_count": 41,
   "id": "ad819581",
   "metadata": {},
   "outputs": [
    {
     "data": {
      "text/plain": [
       "np.float64(1.6162210195311066e-29)"
      ]
     },
     "execution_count": 41,
     "metadata": {},
     "output_type": "execute_result"
    }
   ],
   "source": [
    "# Размеры выборок несколько различны, поэтому поставим параметр equal_var=False, хотя на результат это не повлияет\n",
    "result = stats.ttest_ind(\n",
    "    df_free[\"duration\"], df_ultra[\"duration\"], equal_var=False, alternative=\"less\"\n",
    ")\n",
    "result.pvalue"
   ]
  },
  {
   "cell_type": "markdown",
   "id": "e639613d",
   "metadata": {},
   "source": [
    "p-value очень мало. Нуль-гипотезу стоит отвергнуть в пользу альтернативной гипотезы: средняя длительность поездок для пользователей с подпиской больше, чем для пользователей без подписки."
   ]
  },
  {
   "cell_type": "markdown",
   "id": "23b7fcd0",
   "metadata": {},
   "source": [
    "<a class=\"ancor\" id=\"25-bullet\"></a>\n",
    "### Дистанция за одну поездку для пользователей с подпиской по отношению к оптимальной (3130 м)\n",
    "\n",
    "Нуль-гипотеза: Средняя дистанция, проезжаемая пользователями с подпиской за один сеанс равна 3130 метров.\n",
    "\n",
    "Альтернативная гипотеза: Средняя средняя дистанция, проезжаемая пользователями с подпиской за один сеанс меньше 3130 метров."
   ]
  },
  {
   "cell_type": "code",
   "execution_count": 42,
   "id": "a6c9d9ea",
   "metadata": {},
   "outputs": [
    {
     "data": {
      "text/plain": [
       "np.float64(0.0804637394157586)"
      ]
     },
     "execution_count": 42,
     "metadata": {},
     "output_type": "execute_result"
    }
   ],
   "source": [
    "result = stats.ttest_1samp(df_ultra[\"distance\"], 3130, alternative=\"less\")\n",
    "result.pvalue"
   ]
  },
  {
   "cell_type": "markdown",
   "id": "abb7f0a0",
   "metadata": {},
   "source": [
    "p-value достаточно велико (0.08), данные не дают оснований отвергнуть нуль-гипотезу: Средняя дистанция, проезжаемая пользователями с подпиской за один сеанс равна 3130 метров."
   ]
  },
  {
   "cell_type": "markdown",
   "id": "c48cdb2a",
   "metadata": {},
   "source": [
    "<a class=\"ancor\" id=\"26-bullet\"></a>\n",
    "### Влияние подписки на выручку\n",
    "\n",
    "Нуль-гипотеза: среднее значение среднемесячной выручки для пользователей с подпиской равна среднему значению среднемесячной выручки пользователей без подписки.\n",
    "\n",
    "Альтернативная гипотеза: среднее значение среднемесяной выручки пользователей с подпиской выше, чем среднее значение среднемесячной выручки пользователей без подписки. "
   ]
  },
  {
   "cell_type": "code",
   "execution_count": 43,
   "id": "69b7cae7",
   "metadata": {},
   "outputs": [
    {
     "name": "stdout",
     "output_type": "stream",
     "text": [
      "Средняя среднемесячная выручка по подписке Ultra: 287.5 руб.\n",
      "Средняя среднемесячная выручка по подписке Free: 222.4 руб.\n",
      "p-value=8.415959094821155e-125\n"
     ]
    }
   ],
   "source": [
    "ultra_rev_per_user = df_ultra_rides.groupby(level=\"user_id\", observed=False)[\n",
    "    \"revenue\"\n",
    "].mean()\n",
    "free_rev_per_user = df_free_rides.groupby(level=\"user_id\", observed=False)[\n",
    "    \"revenue\"\n",
    "].mean()\n",
    "result = stats.ttest_ind(\n",
    "    ultra_rev_per_user,\n",
    "    free_rev_per_user,\n",
    "    equal_var=False,\n",
    "    alternative=\"greater\",\n",
    ")\n",
    "print(\n",
    "    f\"Средняя среднемесячная выручка по подписке Ultra: {ultra_rev_per_user.mean():.1f} руб.\"\n",
    ")\n",
    "print(\n",
    "    f\"Средняя среднемесячная выручка по подписке Free: {free_rev_per_user.mean():.1f} руб.\"\n",
    ")\n",
    "print(f\"p-value={result.pvalue}\")"
   ]
  },
  {
   "cell_type": "markdown",
   "id": "abf72096",
   "metadata": {},
   "source": [
    "p-value очень мало, нуль-гипотезу стоит отвергнуть в пользу альтернативной гипотезы: среднее значение среднемесяной выручки пользователей с подпиской выше, чем среднее значение среднемесячной выручки пользователей без подписки."
   ]
  },
  {
   "cell_type": "markdown",
   "id": "a332a797",
   "metadata": {},
   "source": [
    "<a class=\"ancor\" id=\"27-bullet\"></a>\n",
    "### Влияние обновления серверов на количество обращений в поддержку\n",
    "\n",
    "Для исследования влияния обновления на количество обновлений в тех поддержку нужно воспользоваться функцией ttest_rel(before_upd, after_upd, alternative='greater') из модуля stats пакета scipy. Массивы before_upd и after_upd должны содержать количества обращений в техподдержку одних и тех же пользователей (в одном и том же порядке) за одинаковый промежуток времени до и после обновления. Нуль-гипотеза при этом можно сформулировать следующим образом: среднее количество обращений в техподдержку до и после обновления равны. Альтернативная гипотеза: среднее количество обновлений в тех поддержку после обновления уменьшилось."
   ]
  },
  {
   "cell_type": "markdown",
   "id": "d95fcb85",
   "metadata": {},
   "source": [
    "<a class=\"ancor\" id=\"28-bullet\"></a>\n",
    "### Выводы\n",
    "\n",
    "Был изучен ряд гипотез касательно влияния подписки на аренду самокатов:\n",
    "1. С высокой степенью достоверности (p-value ~ e-29) можно утверждать, что средняя длительность поездок для пользователей с подпиской больше, чем для пользователей без подписки.\n",
    "2. Данные не позволяют утверждать (p-value ~ 0.08), что средняя дистанция, проезжаемая пользователями с подпиской за один сеанс не превышает.\n",
    "3. С высокой степенью достоверности (p-value ~ e-125) можно утверждать, что среднее значение среднемесяной выручки пользователей с подпиской выше, чем среднее значение среднемесячной выручки пользователей без подписки."
   ]
  },
  {
   "cell_type": "markdown",
   "id": "59c64953",
   "metadata": {},
   "source": [
    "[Оглавление](#0-bullet)"
   ]
  },
  {
   "cell_type": "markdown",
   "id": "2bab5eba",
   "metadata": {},
   "source": [
    "<a class=\"ancor\" id=\"29-bullet\"></a>\n",
    "## Общие выводы\n",
    "\n",
    "Была проведена предобработка данных:\n",
    "* Корректировка типов:\n",
    "  * Установлен корректный формат даты в таблице df_rides\n",
    "* Категоризация. Добавлены столбцы:\n",
    "  * month - месяц совершения поездки\n",
    "  * speed - км/ч, средняя скорость поездки\n",
    "* Дубликаты:\n",
    "  * Найдены явные дубликаты (31) в таблице df_users. Дубликаты удалены.\n",
    "  * Неявные дубликаты не обнаружены.\n",
    "* Аномальные значения:\n",
    "  * Анализ средней скорости выявил наличие аномальных значений. Таких случаев не так много (95), но во всех таких случаях длительность поездки 30 секунд, что явно подозрительно. Нужно уточнить у команды сервиса с чем может быть связана подобная проблема. Все 95 записей были удалены.\n",
    "\n",
    "Был проведён исследовательский анализ данных:\n",
    "* Изучение распределения пользователей по городам показало, что пользователи в выборке равномерно распределены по городам.\n",
    "* Пользователи с подпиской составляют примерно 45% всех пользователей.\n",
    "* Распределение возраста пользователей близко к нормальному со средним значением 25 и СО 4.6.\n",
    "* В распределении проезжаемых расстояний выделяются 2 пика со средними значениями около 700 м и 3100. В целом медианное расстояние 3130 м.\n",
    "\n",
    "    Были изучены распределения дистанций поездок при группировках по городам, месяцам, возрасту и типу подписки. Распределение дистанция явно не зависит ни от города, ни от месяца, ни от возраста. Просматривается некоторая зависимость от типа подписки.\n",
    "\n",
    "    Анализ средней скорости для \"коротких\" поездок показал, что в большинстве случаев скорости близки к скорости пешехода. Можно сделать предположение, что эти \"короткие\" поездки связаны с тем, что что вместе с человеком, который взял самокат есть еще один или несколько человек и они просто движутся вместе. На имеющихся данных это предположение нельзя ни подтвердить ни опровергнуть, но оно хоть как-то может объяснить наличие этого аномального пика в распределении дистанций поездок.\n",
    "* Распределние длительностей поездок близко к номарльному. Среднее значение около 18 минут, СО около 6.\n",
    "* Медианное значение средних скоростей поездок 10 км/ч.\n",
    "* Был произведён анализ  распределения проезжаемхы расстояний и длительностей поездок для пользователей с подпиской и без:\n",
    "  * Визуально распределния длительностей поездок для обоих категорий выглядят довольно похоже.\n",
    "  * У пользователей с беслпатной подпиской выше вариатвность проезжаемых расстояний, кроме того, для них распределение \"коротких\" поездок сосредоточено около 600 метров, тогда как для платных подписчиков прослеживается более чётко выраженный пик около 3100 метров с дополнительным пиком на 4000 метров, а пик \"коротких\" поездок сосредоточен около 1 км.\n",
    "\n",
    "**Портрет средней поездки**\n",
    "Длительность 18 минут, дистанция 3.1 км, скорость 10 км/ч.\n",
    "\n",
    "**Портрет среднего пользователя**\n",
    "25 лет, имеет платную подписку с вероятностью около 45%. При наличии подписки приносит ежемесячную выручку около 287 руб, без подписки 222 руб.\n",
    "\n",
    "Был изучен ряд гипотез касательно влияния подписки на аренду самокатов:\n",
    "1. С высокой степенью достоверности (p-value ~ e-29) можно утверждать, что средняя длительность поездок для пользователей с подпиской больше, чем для пользователей без подписки.\n",
    "2. Данные не позволяют утверждать (p-value ~ 0.08), что средняя дистанция, проезжаемая пользователями с подпиской за один сеанс не превышает.\n",
    "3. С высокой степенью достоверности (p-value ~ e-125) можно утверждать, что среднее значение среднемесяной выручки пользователей с подпиской выше, чем среднее значение среднемесячной выручки пользователей без подписки.\n",
    "\n",
    "В целом, стремление увеличить количество пользователей с подпиской выглядит обоснованным.\n",
    "\n",
    "**Рекомендации**\n",
    "* Анализ выручки показал, что она примерно равномерно распределена по месяцам, причём  в 4 из 9 городов, представленных в выборке на самокатах зимой точно ездить нельзя, а выручка при этом зимой не особо проседает, наоборот самая большая выручка за явнарь. Возможно в данных есть какая-то проблема.\n",
    "* Часть данных о поездках содержит явно некорректную длительность поездок (0.5 минуты), возможно стоит поискать причину возникновения этой проблемы."
   ]
  },
  {
   "cell_type": "markdown",
   "id": "c0b72e7f",
   "metadata": {},
   "source": [
    "[Оглавление](#0-bullet)"
   ]
  },
  {
   "cell_type": "markdown",
   "id": "61213c5e",
   "metadata": {},
   "source": [
    "<a class=\"ancor\" id=\"30-bullet\"></a>\n",
    "## Шаг 7. Распределения"
   ]
  },
  {
   "cell_type": "markdown",
   "id": "e0ed1292",
   "metadata": {},
   "source": [
    "<a class=\"ancor\" id=\"31-bullet\"></a>\n",
    "### Промокоды с бесплатной подпиской\n",
    "\n",
    "**Формулировка задания**\n",
    "\n",
    "Отделу маркетинга GoFast поставили задачу: нужно провести акцию с раздачей промокодов на один бесплатный месяц подписки, в рамках которой как минимум 100 существующих клиентов должны продлить эту подписку. То есть по завершении периода действия подписки пользователь может либо отказаться от неё, либо продлить, совершив соответствующий платёж. \n",
    "Эта акция уже проводилась ранее и по итогу выяснилось, что после бесплатного пробного периода подписку продлевают 10 % пользователей. Выясните, какое минимальное количество промокодов нужно разослать, чтобы вероятность не выполнить план была примерно 5 %. Подберите параметры распределения, описывающего эту ситуацию, постройте график распределения и сформулируйте ответ на вопрос о количестве промокодов.\n",
    "\n",
    "**Решение**\n",
    "\n",
    "Предположим, что решения о продлении подписки пользователи принимают независимо друг от друга. У нас получается классическая схема испытаний Бернулли с вероятностью успеха p=0.1. Распределение успехов будет описываться биномиальным распределением. Биномиальное распределение задаётся вероятностью успеха *p* и общим количеством испытаний *n*. Нам нужно найти такое *n*, что вероятность получить менее 100 успехов составит менее 5%.\n",
    "\n",
    "Попробуем получить разумную оценку *n*. Шанс успеха довольно большой, а количество испытаний у нас явно будет значительно больше 100, поэтому искомое биномиальное распределение можно аппроксимировать нормальным со средним *np* и СО (np(1-p))**0.5. Вероятность отклониться от нормального распределения более, чем на 2 СО составляет менее 2.5 %, поэтому в качестве грубой оценки *n* можно составить следующее уравнение:\n",
    "\n",
    "$$np - 2\\sqrt{(np(1-p))} = 100$$\n",
    "\n",
    "Преобразуем его к виду квадратного уравнения\n",
    "$$p^2n^2 -(200p + 4p(1-p))n + 10000 = 0 $$\n",
    "\n",
    "Найдём корни этого уравнения."
   ]
  },
  {
   "cell_type": "code",
   "execution_count": 44,
   "id": "80b36f9d",
   "metadata": {},
   "outputs": [
    {
     "name": "stdout",
     "output_type": "stream",
     "text": [
      "827.4114379087773 1208.5885620912222\n"
     ]
    }
   ],
   "source": [
    "from numpy.polynomial import Polynomial\n",
    "\n",
    "p = 0.1\n",
    "poly = Polynomial([10_000, -(200 * p + 4 * p * (1 - p)), p**2])\n",
    "root1, root2 = poly.roots()\n",
    "print(root1, root2)"
   ]
  },
  {
   "cell_type": "markdown",
   "id": "5d8f1a18",
   "metadata": {},
   "source": [
    "Первый из этих корней соответствует ситуации, когда с вероятность 97.7% у нас будет меньше 100 положительных исходов, поэтому нас интересует второй корень. Проверим это."
   ]
  },
  {
   "cell_type": "code",
   "execution_count": 45,
   "id": "fe25faeb",
   "metadata": {},
   "outputs": [
    {
     "data": {
      "text/plain": [
       "np.float64(0.01842778665646817)"
      ]
     },
     "execution_count": 45,
     "metadata": {},
     "output_type": "execute_result"
    }
   ],
   "source": [
    "binom = stats.binom(int(root2), p)\n",
    "binom.cdf(99)"
   ]
  },
  {
   "cell_type": "markdown",
   "id": "523d21b4",
   "metadata": {},
   "source": [
    "Отлично! Мы уже довольно близки, давайте найдем минимальное количество испытаний, при котором вероятность получить менее 100 положительных исходов всё еще будет менее 95%."
   ]
  },
  {
   "cell_type": "code",
   "execution_count": 46,
   "id": "016f277c",
   "metadata": {},
   "outputs": [
    {
     "data": {
      "text/plain": [
       "1161"
      ]
     },
     "execution_count": 46,
     "metadata": {},
     "output_type": "execute_result"
    }
   ],
   "source": [
    "n = int(root2)\n",
    "while stats.binom.cdf(99, n, p) < 0.05:\n",
    "    n -= 1\n",
    "result = n + 1\n",
    "result"
   ]
  },
  {
   "cell_type": "markdown",
   "id": "8c67f23d",
   "metadata": {},
   "source": [
    "Построим графики распределения"
   ]
  },
  {
   "cell_type": "code",
   "execution_count": 47,
   "id": "17d01ca1",
   "metadata": {},
   "outputs": [
    {
     "data": {
      "text/plain": [
       "Text(0.5, 1.0, 'Распределение вероятностей продления подписок')"
      ]
     },
     "execution_count": 47,
     "metadata": {},
     "output_type": "execute_result"
    },
    {
     "data": {
      "image/png": "[encoded data removed]",
      "text/plain": [
       "<Figure size 640x480 with 2 Axes>"
      ]
     },
     "metadata": {},
     "output_type": "display_data"
    }
   ],
   "source": [
    "ax = plt.subplot()\n",
    "x = np.arange(75, 175)\n",
    "ax.plot(x, stats.binom.pmf(x, result, p), color=\"blue\")\n",
    "ax.set_ylabel(\"Вероятность успеха\", color=\"blue\")\n",
    "ax.set_xlabel(\"Количество успехов\")\n",
    "ax2 = ax.twinx()\n",
    "ax2.plot(x, stats.binom.cdf(x, result, p), color=\"red\")\n",
    "ax2.set_ylabel(\"Кумулятивная вероятность успеха\", color=\"red\")\n",
    "ax2.annotate(\n",
    "    f\"99, {stats.binom.cdf(99, result, p)*100:.1f}%\",\n",
    "    xy=(99, stats.binom.cdf(99, result, p)),\n",
    "    xytext=(120, 0.1),\n",
    "    arrowprops=dict(facecolor=\"red\"),\n",
    "    fontsize=12,\n",
    "    horizontalalignment=\"left\",\n",
    "    verticalalignment=\"bottom\",\n",
    ")\n",
    "ax.set_title(\"Распределение вероятностей продления подписок\")"
   ]
  },
  {
   "cell_type": "markdown",
   "id": "3d4b7bb5",
   "metadata": {},
   "source": [
    "**Вывод**\n",
    "\n",
    "Нужно разослать около 1160 промокодов"
   ]
  },
  {
   "cell_type": "markdown",
   "id": "b7424ed4",
   "metadata": {},
   "source": [
    "<a class=\"ancor\" id=\"32-bullet\"></a>\n",
    "### Пуш-уведомления\n",
    "\n",
    "**Задание**\n",
    "\n",
    "Отдел маркетинга рассылает клиентам push-уведомления в мобильном приложении. Клиенты могут открыть его или не открывать. Известно, что уведомления открывают около 40 % получивших клиентов. Отдел планирует разослать 1 млн уведомлений. С помощью аппроксимации постройте примерный график распределения и оцените вероятность того, что уведомление откроют не более 399,5 тыс. пользователей.\n",
    "\n",
    "**Решение**\n",
    "У нас опять опять схема Бернулли и порождаемое ей биномиальное распределение. Вероятность успеха еще ближе к 0.5 и общее количество испытаний здесь очень большое, поэтому опять можно аппроксимировать биномиальное распределение нормальным с параметрами.\n",
    "$$\\mu=np=1000000*0.4=400000$$ \n",
    "$$\\sigma=\\sqrt{np(1-p)}=\\sqrt{1000000*0.4*0.6}\\approx490$$ "
   ]
  },
  {
   "cell_type": "code",
   "execution_count": 48,
   "id": "95cd1d51",
   "metadata": {},
   "outputs": [
    {
     "name": "stdout",
     "output_type": "stream",
     "text": [
      "Вероятность того, что уведомление откроют не более 399,5 тыс. пользователей 15.4%\n"
     ]
    }
   ],
   "source": [
    "n = 1_000_000\n",
    "p = 0.4\n",
    "\n",
    "push_distr = stats.norm(n * p, math.sqrt(n * p * (1 - p)))\n",
    "print(\n",
    "    f\"Вероятность того, что уведомление откроют не более 399,5 тыс. пользователей {push_distr.cdf(399_500)*100:.1f}%\"\n",
    ")"
   ]
  },
  {
   "cell_type": "code",
   "execution_count": 49,
   "id": "6410fe90",
   "metadata": {},
   "outputs": [
    {
     "data": {
      "text/plain": [
       "Text(0.5, 1.0, 'Распределение вероятностей открытия уведомлений')"
      ]
     },
     "execution_count": 49,
     "metadata": {},
     "output_type": "execute_result"
    },
    {
     "data": {
      "image/png": "[encoded data removed]",
      "text/plain": [
       "<Figure size 640x480 with 2 Axes>"
      ]
     },
     "metadata": {},
     "output_type": "display_data"
    }
   ],
   "source": [
    "ax = plt.subplot()\n",
    "x = np.arange(398_000, 402_000, 10)\n",
    "ax.plot(x, push_distr.pdf(x), color=\"blue\")\n",
    "ax.set_ylabel(\"Вероятность открытия\", color=\"blue\")\n",
    "ax.set_xlabel(\"Количество открытий\")\n",
    "ax2 = ax.twinx()\n",
    "ax2.plot(x, push_distr.cdf(x), color=\"red\")\n",
    "ax2.set_ylabel(\"Кумулятивная вероятность открытия\", color=\"red\")\n",
    "ax2.annotate(\n",
    "    f\"399.5k, {push_distr.cdf(399_500)*100:.1f}%\",\n",
    "    xy=(399_500, push_distr.cdf(399_500)),\n",
    "    xytext=(400_000, 0.03),\n",
    "    arrowprops=dict(facecolor=\"red\"),\n",
    "    fontsize=12,\n",
    "    horizontalalignment=\"left\",\n",
    "    verticalalignment=\"bottom\",\n",
    ")\n",
    "ax.set_title(\"Распределение вероятностей открытия уведомлений\")"
   ]
  },
  {
   "cell_type": "markdown",
   "id": "56fc6b26",
   "metadata": {},
   "source": [
    "**Вывод**\n",
    "\n",
    "Вероятность того, что уведомление откроют не более 399,5 тыс. пользователей 15.4%"
   ]
  }
 ],
 "metadata": {
  "ExecuteTimeLog": [
   {
    "duration": 1393,
    "start_time": "2025-05-09T06:30:07.768Z"
   },
   {
    "duration": 70,
    "start_time": "2025-05-09T06:30:09.163Z"
   },
   {
    "duration": 79,
    "start_time": "2025-05-09T06:30:09.235Z"
   },
   {
    "duration": 20,
    "start_time": "2025-05-09T06:30:09.317Z"
   },
   {
    "duration": 22,
    "start_time": "2025-05-09T06:30:09.339Z"
   },
   {
    "duration": 20,
    "start_time": "2025-05-09T06:30:09.363Z"
   },
   {
    "duration": 33,
    "start_time": "2025-05-09T06:30:09.384Z"
   },
   {
    "duration": 88,
    "start_time": "2025-05-09T06:30:09.419Z"
   },
   {
    "duration": 25,
    "start_time": "2025-05-09T06:30:09.509Z"
   },
   {
    "duration": 28,
    "start_time": "2025-05-09T06:30:09.537Z"
   },
   {
    "duration": 27,
    "start_time": "2025-05-09T06:30:09.567Z"
   },
   {
    "duration": 29,
    "start_time": "2025-05-09T06:30:09.596Z"
   },
   {
    "duration": 18,
    "start_time": "2025-05-09T06:30:09.627Z"
   },
   {
    "duration": 34,
    "start_time": "2025-05-09T06:30:09.647Z"
   },
   {
    "duration": 25,
    "start_time": "2025-05-09T06:30:09.683Z"
   },
   {
    "duration": 13,
    "start_time": "2025-05-09T06:30:09.709Z"
   },
   {
    "duration": 192,
    "start_time": "2025-05-09T06:30:09.724Z"
   },
   {
    "duration": 153,
    "start_time": "2025-05-09T06:30:09.918Z"
   },
   {
    "duration": 296,
    "start_time": "2025-05-09T06:30:10.072Z"
   },
   {
    "duration": 295,
    "start_time": "2025-05-09T06:30:10.370Z"
   },
   {
    "duration": 12,
    "start_time": "2025-05-09T06:30:10.667Z"
   },
   {
    "duration": 13,
    "start_time": "2025-05-09T06:30:10.681Z"
   },
   {
    "duration": 2572,
    "start_time": "2025-05-09T06:30:10.696Z"
   },
   {
    "duration": 4075,
    "start_time": "2025-05-09T06:30:13.270Z"
   },
   {
    "duration": 1909,
    "start_time": "2025-05-09T06:30:17.347Z"
   },
   {
    "duration": 760,
    "start_time": "2025-05-09T06:30:19.260Z"
   },
   {
    "duration": 281,
    "start_time": "2025-05-09T06:30:20.022Z"
   },
   {
    "duration": 275,
    "start_time": "2025-05-09T06:30:20.307Z"
   },
   {
    "duration": 424,
    "start_time": "2025-05-09T06:30:20.584Z"
   },
   {
    "duration": 20,
    "start_time": "2025-05-09T06:30:21.010Z"
   },
   {
    "duration": 186,
    "start_time": "2025-05-09T06:30:21.032Z"
   },
   {
    "duration": 43,
    "start_time": "2025-05-09T06:30:21.220Z"
   },
   {
    "duration": 785,
    "start_time": "2025-05-09T06:30:21.265Z"
   },
   {
    "duration": 772,
    "start_time": "2025-05-09T06:30:22.053Z"
   },
   {
    "duration": 296,
    "start_time": "2025-05-09T06:30:22.827Z"
   },
   {
    "duration": 294,
    "start_time": "2025-05-09T06:30:23.125Z"
   },
   {
    "duration": 203,
    "start_time": "2025-05-09T06:30:23.421Z"
   },
   {
    "duration": 6,
    "start_time": "2025-05-09T06:30:23.626Z"
   },
   {
    "duration": 82,
    "start_time": "2025-05-09T06:30:23.634Z"
   },
   {
    "duration": 40,
    "start_time": "2025-05-09T06:30:23.717Z"
   },
   {
    "duration": 40,
    "start_time": "2025-05-09T06:30:23.759Z"
   },
   {
    "duration": 53,
    "start_time": "2025-05-09T06:30:23.801Z"
   },
   {
    "duration": 120,
    "start_time": "2025-05-09T06:30:23.855Z"
   },
   {
    "duration": 290,
    "start_time": "2025-05-09T06:30:23.976Z"
   },
   {
    "duration": 4,
    "start_time": "2025-05-09T06:30:24.268Z"
   },
   {
    "duration": 297,
    "start_time": "2025-05-09T06:30:24.274Z"
   },
   {
    "duration": 1204,
    "start_time": "2025-05-09T06:46:09.665Z"
   },
   {
    "duration": 69,
    "start_time": "2025-05-09T06:46:10.871Z"
   },
   {
    "duration": 15,
    "start_time": "2025-05-09T06:46:10.942Z"
   },
   {
    "duration": 27,
    "start_time": "2025-05-09T06:46:10.959Z"
   },
   {
    "duration": 12,
    "start_time": "2025-05-09T06:46:10.988Z"
   },
   {
    "duration": 30,
    "start_time": "2025-05-09T06:46:11.001Z"
   },
   {
    "duration": 20,
    "start_time": "2025-05-09T06:46:11.033Z"
   },
   {
    "duration": 32,
    "start_time": "2025-05-09T06:46:11.055Z"
   },
   {
    "duration": 24,
    "start_time": "2025-05-09T06:46:11.089Z"
   },
   {
    "duration": 54,
    "start_time": "2025-05-09T06:46:11.116Z"
   },
   {
    "duration": 5,
    "start_time": "2025-05-09T06:46:11.172Z"
   },
   {
    "duration": 23,
    "start_time": "2025-05-09T06:46:11.179Z"
   },
   {
    "duration": 6,
    "start_time": "2025-05-09T06:46:11.203Z"
   },
   {
    "duration": 29,
    "start_time": "2025-05-09T06:46:11.210Z"
   },
   {
    "duration": 33,
    "start_time": "2025-05-09T06:46:11.241Z"
   },
   {
    "duration": 6,
    "start_time": "2025-05-09T06:46:11.276Z"
   },
   {
    "duration": 189,
    "start_time": "2025-05-09T06:46:11.284Z"
   },
   {
    "duration": 153,
    "start_time": "2025-05-09T06:46:11.475Z"
   },
   {
    "duration": 292,
    "start_time": "2025-05-09T06:46:11.629Z"
   },
   {
    "duration": 309,
    "start_time": "2025-05-09T06:46:11.923Z"
   },
   {
    "duration": 11,
    "start_time": "2025-05-09T06:46:12.234Z"
   },
   {
    "duration": 16,
    "start_time": "2025-05-09T06:46:12.247Z"
   },
   {
    "duration": 2607,
    "start_time": "2025-05-09T06:46:12.264Z"
   },
   {
    "duration": 4031,
    "start_time": "2025-05-09T06:46:14.875Z"
   },
   {
    "duration": 1897,
    "start_time": "2025-05-09T06:46:18.908Z"
   },
   {
    "duration": 762,
    "start_time": "2025-05-09T06:46:20.807Z"
   },
   {
    "duration": 283,
    "start_time": "2025-05-09T06:46:21.571Z"
   },
   {
    "duration": 286,
    "start_time": "2025-05-09T06:46:21.857Z"
   },
   {
    "duration": 431,
    "start_time": "2025-05-09T06:46:22.144Z"
   },
   {
    "duration": 26,
    "start_time": "2025-05-09T06:46:22.578Z"
   },
   {
    "duration": 101,
    "start_time": "2025-05-09T06:46:22.606Z"
   },
   {
    "duration": 10,
    "start_time": "2025-05-09T06:46:22.708Z"
   },
   {
    "duration": 768,
    "start_time": "2025-05-09T06:46:22.720Z"
   },
   {
    "duration": 772,
    "start_time": "2025-05-09T06:46:23.489Z"
   },
   {
    "duration": 306,
    "start_time": "2025-05-09T06:46:24.263Z"
   },
   {
    "duration": 304,
    "start_time": "2025-05-09T06:46:24.570Z"
   },
   {
    "duration": 204,
    "start_time": "2025-05-09T06:46:24.876Z"
   },
   {
    "duration": 7,
    "start_time": "2025-05-09T06:46:25.083Z"
   },
   {
    "duration": 6,
    "start_time": "2025-05-09T06:46:25.092Z"
   },
   {
    "duration": 263,
    "start_time": "2025-05-09T06:46:25.100Z"
   },
   {
    "duration": 10,
    "start_time": "2025-05-09T06:46:25.365Z"
   },
   {
    "duration": 20,
    "start_time": "2025-05-09T06:46:25.377Z"
   },
   {
    "duration": 21,
    "start_time": "2025-05-09T06:46:25.399Z"
   },
   {
    "duration": 275,
    "start_time": "2025-05-09T06:46:25.422Z"
   },
   {
    "duration": 6,
    "start_time": "2025-05-09T06:46:25.699Z"
   },
   {
    "duration": 298,
    "start_time": "2025-05-09T06:46:25.707Z"
   },
   {
    "duration": 29,
    "start_time": "2025-05-09T07:59:21.639Z"
   }
  ],
  "kernelspec": {
   "display_name": "venv",
   "language": "python",
   "name": "python3"
  },
  "language_info": {
   "codemirror_mode": {
    "name": "ipython",
    "version": 3
   },
   "file_extension": ".py",
   "mimetype": "text/x-python",
   "name": "python",
   "nbconvert_exporter": "python",
   "pygments_lexer": "ipython3",
   "version": "3.12.11"
  },
  "toc": {
   "base_numbering": 1,
   "nav_menu": {},
   "number_sections": true,
   "sideBar": true,
   "skip_h1_title": true,
   "title_cell": "Table of Contents",
   "title_sidebar": "Contents",
   "toc_cell": false,
   "toc_position": {},
   "toc_section_display": true,
   "toc_window_display": false
  }
 },
 "nbformat": 4,
 "nbformat_minor": 5
}
